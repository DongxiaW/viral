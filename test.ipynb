{
 "cells": [
  {
   "cell_type": "code",
   "execution_count": 28,
   "metadata": {},
   "outputs": [],
   "source": [
    "import warnings\n",
    "warnings.simplefilter(action='ignore')\n",
    "import numpy as np\n",
    "from matplotlib import pyplot as plt\n",
    "import seaborn as sns\n",
    "import pandas as pd\n",
    "import re, random, pickle, glob, os, difflib\n",
    "import tensorflow as tf\n",
    "import numpy as np\n",
    "from tensorflow.keras import layers \n",
    "from tensorflow.keras.models import load_model\n",
    "from sklearn.manifold import TSNE\n",
    "from utils import *"
   ]
  },
  {
   "cell_type": "code",
   "execution_count": 2,
   "metadata": {},
   "outputs": [
    {
     "name": "stdout",
     "output_type": "stream",
     "text": [
      "2.3.1\n"
     ]
    }
   ],
   "source": [
    "print(tf.__version__)"
   ]
  },
  {
   "cell_type": "code",
   "execution_count": 5,
   "metadata": {},
   "outputs": [],
   "source": [
    "class Sampling(layers.Layer):\n",
    "    \"\"\"Uses (z_mean, z_log_var) to sample z, the vector encoding a digit.\"\"\"\n",
    "\n",
    "    def call(self, inputs):\n",
    "        z_mean, z_log_var = inputs\n",
    "        batch = tf.shape(z_mean)[0]\n",
    "        dim = tf.shape(z_mean)[1]\n",
    "        epsilon = tf.keras.backend.random_normal(shape=(batch, dim))\n",
    "        output = z_mean + tf.exp(0.5 * z_log_var) * epsilon\n",
    "        return output"
   ]
  },
  {
   "cell_type": "code",
   "execution_count": 3,
   "metadata": {},
   "outputs": [],
   "source": [
    "test_root = 'test/'\n",
    "model_root = 'models/'\n",
    "ckpt_root = 'ckpt1/'\n",
    "model_name = 'encoder.h5'\n",
    "path = os.path.join(model_root, ckpt_root, model_name)\n",
    "path"
   ]
  },
  {
   "cell_type": "code",
   "execution_count": 6,
   "metadata": {
    "scrolled": true
   },
   "outputs": [
    {
     "name": "stdout",
     "output_type": "stream",
     "text": [
      "WARNING:tensorflow:No training configuration found in the save file, so the model was *not* compiled. Compile it manually.\n"
     ]
    }
   ],
   "source": [
    "model = load_model(path, custom_objects={'Sampling': Sampling})"
   ]
  },
  {
   "cell_type": "code",
   "execution_count": 8,
   "metadata": {
    "scrolled": true
   },
   "outputs": [],
   "source": [
    "test_sets = ['test_easy_1.fa', 'test_easy_2.fa', 'test_intermidate_1.fa', 'test_intermidate_2.fa', 'test_difficult_1.fa', \n",
    "             'test_difficult_2.fa', 'test_very_difficult_1.fa', 'test_very_difficult_2.fa']\n",
    "easy_1 = assign_labels(read_fasta(test_root + test_sets[0]))\n",
    "easy_2 = assign_labels(read_fasta(test_root + test_sets[1]))"
   ]
  },
  {
   "cell_type": "code",
   "execution_count": 9,
   "metadata": {},
   "outputs": [],
   "source": [
    "test_reads_1 = np.array(seqs2onehot(np.array(easy_1.seqs)))\n",
    "test_reads_1 = np.expand_dims(test_reads_1, -1)\n",
    "test_reads_2 = np.array(seqs2onehot(np.array(easy_2.seqs)))\n",
    "test_reads_2 = np.expand_dims(test_reads_2, -1)"
   ]
  },
  {
   "cell_type": "code",
   "execution_count": 10,
   "metadata": {},
   "outputs": [],
   "source": [
    "easy_1_predictions = model.predict(test_reads_1)\n",
    "easy_2_predictions = model.predict(test_reads_2)"
   ]
  },
  {
   "cell_type": "code",
   "execution_count": 11,
   "metadata": {},
   "outputs": [],
   "source": [
    "embeddings_1 = easy_1_predictions[2]\n",
    "embeddings_2 = easy_2_predictions[2]\n",
    "X = np.hstack((embeddings_1, embeddings_2))"
   ]
  },
  {
   "cell_type": "code",
   "execution_count": 26,
   "metadata": {},
   "outputs": [],
   "source": [
    "perplexity = [50, 100, 200]\n",
    "d = 'cosine'\n",
    "learning_rate = [50, 100, 200]\n",
    "n_iter = 250"
   ]
  },
  {
   "cell_type": "code",
   "execution_count": 27,
   "metadata": {},
   "outputs": [
    {
     "name": "stdout",
     "output_type": "stream",
     "text": [
      "[t-SNE] Computing 151 nearest neighbors...\n",
      "[t-SNE] Indexed 105492 samples in 0.002s...\n",
      "[t-SNE] Computed neighbors for 105492 samples in 161.157s...\n",
      "[t-SNE] Computed conditional probabilities for sample 1000 / 105492\n",
      "[t-SNE] Computed conditional probabilities for sample 2000 / 105492\n",
      "[t-SNE] Computed conditional probabilities for sample 3000 / 105492\n",
      "[t-SNE] Computed conditional probabilities for sample 4000 / 105492\n",
      "[t-SNE] Computed conditional probabilities for sample 5000 / 105492\n",
      "[t-SNE] Computed conditional probabilities for sample 6000 / 105492\n",
      "[t-SNE] Computed conditional probabilities for sample 7000 / 105492\n",
      "[t-SNE] Computed conditional probabilities for sample 8000 / 105492\n",
      "[t-SNE] Computed conditional probabilities for sample 9000 / 105492\n",
      "[t-SNE] Computed conditional probabilities for sample 10000 / 105492\n",
      "[t-SNE] Computed conditional probabilities for sample 11000 / 105492\n",
      "[t-SNE] Computed conditional probabilities for sample 12000 / 105492\n",
      "[t-SNE] Computed conditional probabilities for sample 13000 / 105492\n",
      "[t-SNE] Computed conditional probabilities for sample 14000 / 105492\n",
      "[t-SNE] Computed conditional probabilities for sample 15000 / 105492\n",
      "[t-SNE] Computed conditional probabilities for sample 16000 / 105492\n",
      "[t-SNE] Computed conditional probabilities for sample 17000 / 105492\n",
      "[t-SNE] Computed conditional probabilities for sample 18000 / 105492\n",
      "[t-SNE] Computed conditional probabilities for sample 19000 / 105492\n",
      "[t-SNE] Computed conditional probabilities for sample 20000 / 105492\n",
      "[t-SNE] Computed conditional probabilities for sample 21000 / 105492\n",
      "[t-SNE] Computed conditional probabilities for sample 22000 / 105492\n",
      "[t-SNE] Computed conditional probabilities for sample 23000 / 105492\n",
      "[t-SNE] Computed conditional probabilities for sample 24000 / 105492\n",
      "[t-SNE] Computed conditional probabilities for sample 25000 / 105492\n",
      "[t-SNE] Computed conditional probabilities for sample 26000 / 105492\n",
      "[t-SNE] Computed conditional probabilities for sample 27000 / 105492\n",
      "[t-SNE] Computed conditional probabilities for sample 28000 / 105492\n",
      "[t-SNE] Computed conditional probabilities for sample 29000 / 105492\n",
      "[t-SNE] Computed conditional probabilities for sample 30000 / 105492\n",
      "[t-SNE] Computed conditional probabilities for sample 31000 / 105492\n",
      "[t-SNE] Computed conditional probabilities for sample 32000 / 105492\n",
      "[t-SNE] Computed conditional probabilities for sample 33000 / 105492\n",
      "[t-SNE] Computed conditional probabilities for sample 34000 / 105492\n",
      "[t-SNE] Computed conditional probabilities for sample 35000 / 105492\n",
      "[t-SNE] Computed conditional probabilities for sample 36000 / 105492\n",
      "[t-SNE] Computed conditional probabilities for sample 37000 / 105492\n",
      "[t-SNE] Computed conditional probabilities for sample 38000 / 105492\n",
      "[t-SNE] Computed conditional probabilities for sample 39000 / 105492\n",
      "[t-SNE] Computed conditional probabilities for sample 40000 / 105492\n",
      "[t-SNE] Computed conditional probabilities for sample 41000 / 105492\n",
      "[t-SNE] Computed conditional probabilities for sample 42000 / 105492\n",
      "[t-SNE] Computed conditional probabilities for sample 43000 / 105492\n",
      "[t-SNE] Computed conditional probabilities for sample 44000 / 105492\n",
      "[t-SNE] Computed conditional probabilities for sample 45000 / 105492\n",
      "[t-SNE] Computed conditional probabilities for sample 46000 / 105492\n",
      "[t-SNE] Computed conditional probabilities for sample 47000 / 105492\n",
      "[t-SNE] Computed conditional probabilities for sample 48000 / 105492\n",
      "[t-SNE] Computed conditional probabilities for sample 49000 / 105492\n",
      "[t-SNE] Computed conditional probabilities for sample 50000 / 105492\n",
      "[t-SNE] Computed conditional probabilities for sample 51000 / 105492\n",
      "[t-SNE] Computed conditional probabilities for sample 52000 / 105492\n",
      "[t-SNE] Computed conditional probabilities for sample 53000 / 105492\n",
      "[t-SNE] Computed conditional probabilities for sample 54000 / 105492\n",
      "[t-SNE] Computed conditional probabilities for sample 55000 / 105492\n",
      "[t-SNE] Computed conditional probabilities for sample 56000 / 105492\n",
      "[t-SNE] Computed conditional probabilities for sample 57000 / 105492\n",
      "[t-SNE] Computed conditional probabilities for sample 58000 / 105492\n",
      "[t-SNE] Computed conditional probabilities for sample 59000 / 105492\n",
      "[t-SNE] Computed conditional probabilities for sample 60000 / 105492\n",
      "[t-SNE] Computed conditional probabilities for sample 61000 / 105492\n",
      "[t-SNE] Computed conditional probabilities for sample 62000 / 105492\n",
      "[t-SNE] Computed conditional probabilities for sample 63000 / 105492\n",
      "[t-SNE] Computed conditional probabilities for sample 64000 / 105492\n",
      "[t-SNE] Computed conditional probabilities for sample 65000 / 105492\n",
      "[t-SNE] Computed conditional probabilities for sample 66000 / 105492\n",
      "[t-SNE] Computed conditional probabilities for sample 67000 / 105492\n",
      "[t-SNE] Computed conditional probabilities for sample 68000 / 105492\n",
      "[t-SNE] Computed conditional probabilities for sample 69000 / 105492\n",
      "[t-SNE] Computed conditional probabilities for sample 70000 / 105492\n",
      "[t-SNE] Computed conditional probabilities for sample 71000 / 105492\n",
      "[t-SNE] Computed conditional probabilities for sample 72000 / 105492\n",
      "[t-SNE] Computed conditional probabilities for sample 73000 / 105492\n",
      "[t-SNE] Computed conditional probabilities for sample 74000 / 105492\n",
      "[t-SNE] Computed conditional probabilities for sample 75000 / 105492\n",
      "[t-SNE] Computed conditional probabilities for sample 76000 / 105492\n",
      "[t-SNE] Computed conditional probabilities for sample 77000 / 105492\n",
      "[t-SNE] Computed conditional probabilities for sample 78000 / 105492\n",
      "[t-SNE] Computed conditional probabilities for sample 79000 / 105492\n",
      "[t-SNE] Computed conditional probabilities for sample 80000 / 105492\n",
      "[t-SNE] Computed conditional probabilities for sample 81000 / 105492\n",
      "[t-SNE] Computed conditional probabilities for sample 82000 / 105492\n",
      "[t-SNE] Computed conditional probabilities for sample 83000 / 105492\n",
      "[t-SNE] Computed conditional probabilities for sample 84000 / 105492\n",
      "[t-SNE] Computed conditional probabilities for sample 85000 / 105492\n",
      "[t-SNE] Computed conditional probabilities for sample 86000 / 105492\n",
      "[t-SNE] Computed conditional probabilities for sample 87000 / 105492\n",
      "[t-SNE] Computed conditional probabilities for sample 88000 / 105492\n",
      "[t-SNE] Computed conditional probabilities for sample 89000 / 105492\n",
      "[t-SNE] Computed conditional probabilities for sample 90000 / 105492\n",
      "[t-SNE] Computed conditional probabilities for sample 91000 / 105492\n",
      "[t-SNE] Computed conditional probabilities for sample 92000 / 105492\n",
      "[t-SNE] Computed conditional probabilities for sample 93000 / 105492\n",
      "[t-SNE] Computed conditional probabilities for sample 94000 / 105492\n",
      "[t-SNE] Computed conditional probabilities for sample 95000 / 105492\n",
      "[t-SNE] Computed conditional probabilities for sample 96000 / 105492\n",
      "[t-SNE] Computed conditional probabilities for sample 97000 / 105492\n",
      "[t-SNE] Computed conditional probabilities for sample 98000 / 105492\n",
      "[t-SNE] Computed conditional probabilities for sample 99000 / 105492\n",
      "[t-SNE] Computed conditional probabilities for sample 100000 / 105492\n",
      "[t-SNE] Computed conditional probabilities for sample 101000 / 105492\n",
      "[t-SNE] Computed conditional probabilities for sample 102000 / 105492\n",
      "[t-SNE] Computed conditional probabilities for sample 103000 / 105492\n",
      "[t-SNE] Computed conditional probabilities for sample 104000 / 105492\n",
      "[t-SNE] Computed conditional probabilities for sample 105000 / 105492\n",
      "[t-SNE] Computed conditional probabilities for sample 105492 / 105492\n",
      "[t-SNE] Mean sigma: 0.125642\n",
      "[t-SNE] KL divergence after 50 iterations with early exaggeration: 119.180702\n",
      "[t-SNE] KL divergence after 100 iterations: 7.447024\n"
     ]
    },
    {
     "ename": "NameError",
     "evalue": "name 'sns' is not defined",
     "output_type": "error",
     "traceback": [
      "\u001b[0;31m---------------------------------------------------------------------------\u001b[0m",
      "\u001b[0;31mNameError\u001b[0m                                 Traceback (most recent call last)",
      "\u001b[0;32m<ipython-input-27-c75c32e928b6>\u001b[0m in \u001b[0;36m<module>\u001b[0;34m\u001b[0m\n\u001b[1;32m      8\u001b[0m         \u001b[0mdf\u001b[0m\u001b[0;34m[\u001b[0m\u001b[0;34m'y'\u001b[0m\u001b[0;34m]\u001b[0m \u001b[0;34m=\u001b[0m \u001b[0membeddings\u001b[0m\u001b[0;34m[\u001b[0m\u001b[0;34m:\u001b[0m\u001b[0;34m,\u001b[0m \u001b[0;36m1\u001b[0m\u001b[0;34m]\u001b[0m\u001b[0;34m\u001b[0m\u001b[0;34m\u001b[0m\u001b[0m\n\u001b[1;32m      9\u001b[0m         \u001b[0mdf\u001b[0m\u001b[0;34m[\u001b[0m\u001b[0;34m'labels'\u001b[0m\u001b[0;34m]\u001b[0m \u001b[0;34m=\u001b[0m \u001b[0measy_1\u001b[0m\u001b[0;34m.\u001b[0m\u001b[0mviral\u001b[0m\u001b[0;34m\u001b[0m\u001b[0;34m\u001b[0m\u001b[0m\n\u001b[0;32m---> 10\u001b[0;31m         \u001b[0msns\u001b[0m\u001b[0;34m.\u001b[0m\u001b[0mscatterplot\u001b[0m\u001b[0;34m(\u001b[0m\u001b[0mx\u001b[0m\u001b[0;34m=\u001b[0m\u001b[0;34m\"x\"\u001b[0m\u001b[0;34m,\u001b[0m \u001b[0my\u001b[0m\u001b[0;34m=\u001b[0m\u001b[0;34m\"y\"\u001b[0m\u001b[0;34m,\u001b[0m \u001b[0mhue\u001b[0m\u001b[0;34m=\u001b[0m\u001b[0;34m\"labels\"\u001b[0m\u001b[0;34m,\u001b[0m \u001b[0mdata\u001b[0m\u001b[0;34m=\u001b[0m\u001b[0mdf\u001b[0m\u001b[0;34m)\u001b[0m\u001b[0;34m;\u001b[0m \u001b[0mplt\u001b[0m\u001b[0;34m.\u001b[0m\u001b[0mshow\u001b[0m\u001b[0;34m\u001b[0m\u001b[0;34m\u001b[0m\u001b[0m\n\u001b[0m",
      "\u001b[0;31mNameError\u001b[0m: name 'sns' is not defined"
     ]
    }
   ],
   "source": [
    "for p in perplexity:\n",
    "    for lr in learning_rate:\n",
    "        clustering = TSNE(perplexity = p, metric = d, learning_rate = lr, n_iter = n_iter, verbose = 1)\n",
    "        embeddings = clustering.fit_transform(X)\n",
    "\n",
    "        df = pd.DataFrame()\n",
    "        df['x'] = embeddings[:, 0]\n",
    "        df['y'] = embeddings[:, 1]\n",
    "        df['labels'] = easy_1.viral\n",
    "        sns.scatterplot(x=\"x\", y=\"y\", hue=\"labels\", data=df[df['labels']==0], alpha=0.1)\n",
    "        sns.scatterplot(x=\"x\", y=\"y\", hue=\"labels\", data=df[df['labels']==1], palette=['black']); plt.show"
   ]
  },
  {
   "cell_type": "code",
   "execution_count": 67,
   "metadata": {},
   "outputs": [],
   "source": [
    "# a = np.expand_dims(np.array(seqs2onehot([easy_1.loc[105487]['seqs']])), -1)\n",
    "# b = encoder.predict(a)\n",
    "# c = decoder.predict(b[-1]); c = np.squeeze(c)\n",
    "# difflib.SequenceMatcher(None, np.argmax((c>0.01), axis=1), np.argmax(np.squeeze(a), axis=1)).ratio()"
   ]
  },
  {
   "cell_type": "code",
   "execution_count": null,
   "metadata": {},
   "outputs": [],
   "source": []
  }
 ],
 "metadata": {
  "kernelspec": {
   "display_name": "Python 3",
   "language": "python",
   "name": "python3"
  },
  "language_info": {
   "codemirror_mode": {
    "name": "ipython",
    "version": 3
   },
   "file_extension": ".py",
   "mimetype": "text/x-python",
   "name": "python",
   "nbconvert_exporter": "python",
   "pygments_lexer": "ipython3",
   "version": "3.7.7"
  }
 },
 "nbformat": 4,
 "nbformat_minor": 4
}
