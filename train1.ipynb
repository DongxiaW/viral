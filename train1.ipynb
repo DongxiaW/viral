{
 "cells": [
  {
   "cell_type": "code",
   "execution_count": 2,
   "metadata": {},
   "outputs": [],
   "source": [
    "import warnings\n",
    "warnings.simplefilter(action='ignore')\n",
    "import numpy as np\n",
    "from matplotlib import pyplot as plt\n",
    "import pandas as pd\n",
    "import re, random, pickle, glob, os, difflib\n",
    "import tensorflow as tf\n",
    "import numpy as np\n",
    "from tensorflow import keras\n",
    "import tensorflow.keras.backend as K\n",
    "from tensorflow.keras import layers\n",
    "from tensorflow.keras.layers import *\n",
    "from tensorflow.keras.models import Sequential, load_model, Model\n",
    "from tensorflow.keras.callbacks import EarlyStopping, ModelCheckpoint\n",
    "from sklearn.model_selection import StratifiedKFold\n",
    "from utils import *"
   ]
  },
  {
   "cell_type": "code",
   "execution_count": 3,
   "metadata": {},
   "outputs": [
    {
     "name": "stdout",
     "output_type": "stream",
     "text": [
      "2.3.1\n"
     ]
    }
   ],
   "source": [
    "print(tf.__version__)"
   ]
  },
  {
   "cell_type": "code",
   "execution_count": 4,
   "metadata": {},
   "outputs": [],
   "source": [
    "train_root = 'train/'\n",
    "test_root = 'test/'\n",
    "model_root = 'models/'\n",
    "train_set = ['x10_reads.fa']"
   ]
  },
  {
   "cell_type": "code",
   "execution_count": 5,
   "metadata": {},
   "outputs": [],
   "source": [
    "df = read_fasta(train_root + train_set[0])\n",
    "train_reads = np.array(seqs2onehot(np.array(df.seqs)))"
   ]
  },
  {
   "cell_type": "code",
   "execution_count": 6,
   "metadata": {},
   "outputs": [],
   "source": [
    "train_reads = np.expand_dims(train_reads, -1)"
   ]
  },
  {
   "cell_type": "code",
   "execution_count": 7,
   "metadata": {},
   "outputs": [],
   "source": [
    "class Sampling(layers.Layer):\n",
    "    \"\"\"Uses (z_mean, z_log_var) to sample z, the vector encoding a digit.\"\"\"\n",
    "\n",
    "    def call(self, inputs):\n",
    "        z_mean, z_log_var = inputs\n",
    "        batch = tf.shape(z_mean)[0]\n",
    "        dim = tf.shape(z_mean)[1]\n",
    "        epsilon = tf.keras.backend.random_normal(shape=(batch, dim))\n",
    "        output = z_mean + tf.exp(0.5 * z_log_var) * epsilon\n",
    "        return output"
   ]
  },
  {
   "cell_type": "code",
   "execution_count": 8,
   "metadata": {},
   "outputs": [],
   "source": [
    "class VAE(keras.Model):\n",
    "    def __init__(self, encoder, decoder, **kwargs):\n",
    "        super(VAE, self).__init__(**kwargs)\n",
    "        self.encoder = encoder\n",
    "        self.decoder = decoder\n",
    "\n",
    "    def train_step(self, data):\n",
    "        if isinstance(data, tuple):\n",
    "            data = data[0]\n",
    "        with tf.GradientTape() as tape:\n",
    "            z_mean, z_log_var, z = encoder(data)\n",
    "            reconstruction = decoder(z)\n",
    "            reconstruction_loss = tf.reduce_mean(\n",
    "                keras.losses.binary_crossentropy(data, reconstruction)\n",
    "            )\n",
    "            reconstruction_loss *= 150 * 5\n",
    "            kl_loss = 1 + z_log_var - tf.square(z_mean) - tf.exp(z_log_var)\n",
    "            kl_loss = tf.reduce_mean(kl_loss)\n",
    "            kl_loss *= -0.5\n",
    "            total_loss = reconstruction_loss + kl_loss\n",
    "        grads = tape.gradient(total_loss, self.trainable_weights)\n",
    "        self.optimizer.apply_gradients(zip(grads, self.trainable_weights))\n",
    "        return {\n",
    "            \"loss\": total_loss,\n",
    "            \"reconstruction_loss\": reconstruction_loss,\n",
    "            \"kl_loss\": kl_loss,\n",
    "        }"
   ]
  },
  {
   "cell_type": "code",
   "execution_count": 9,
   "metadata": {},
   "outputs": [
    {
     "name": "stdout",
     "output_type": "stream",
     "text": [
      "INFO:tensorflow:Using MirroredStrategy with devices ('/job:localhost/replica:0/task:0/device:GPU:0', '/job:localhost/replica:0/task:0/device:GPU:1', '/job:localhost/replica:0/task:0/device:GPU:2', '/job:localhost/replica:0/task:0/device:GPU:3', '/job:localhost/replica:0/task:0/device:GPU:4', '/job:localhost/replica:0/task:0/device:GPU:5', '/job:localhost/replica:0/task:0/device:GPU:6', '/job:localhost/replica:0/task:0/device:GPU:7')\n"
     ]
    }
   ],
   "source": [
    "strategy = tf.distribute.MirroredStrategy()"
   ]
  },
  {
   "cell_type": "code",
   "execution_count": 14,
   "metadata": {},
   "outputs": [],
   "source": [
    "latent_dim = 16\n",
    "width = 512\n",
    "input_size = (150,5,1)\n",
    "filter_size = (5, 5)\n",
    "epochs = 50\n",
    "batch_size = 256"
   ]
  },
  {
   "cell_type": "code",
   "execution_count": 13,
   "metadata": {},
   "outputs": [],
   "source": [
    "ckpt_num = 'ckpt1'\n",
    "ckpt_dir = os.path.join(model_root, ckpt_num, '')\n",
    "if (os.path.isdir(ckpt_dir) == False):\n",
    "    os.mkdir(os.path.join(ckpt_dir, ''))\n",
    "callbacks = [keras.callbacks.ModelCheckpoint(ckpt_dir+\"/save_at_{epoch}.h5\")]"
   ]
  },
  {
   "cell_type": "code",
   "execution_count": 15,
   "metadata": {
    "scrolled": true
   },
   "outputs": [
    {
     "name": "stdout",
     "output_type": "stream",
     "text": [
      "Model: \"encoder\"\n",
      "__________________________________________________________________________________________________\n",
      "Layer (type)                    Output Shape         Param #     Connected to                     \n",
      "==================================================================================================\n",
      "input_1 (InputLayer)            [(None, 150, 5, 1)]  0                                            \n",
      "__________________________________________________________________________________________________\n",
      "conv2d (Conv2D)                 (None, 75, 5, 512)   13312       input_1[0][0]                    \n",
      "__________________________________________________________________________________________________\n",
      "conv2d_1 (Conv2D)               (None, 38, 5, 512)   6554112     conv2d[0][0]                     \n",
      "__________________________________________________________________________________________________\n",
      "flatten (Flatten)               (None, 97280)        0           conv2d_1[0][0]                   \n",
      "__________________________________________________________________________________________________\n",
      "dense (Dense)                   (None, 512)          49807872    flatten[0][0]                    \n",
      "__________________________________________________________________________________________________\n",
      "z_mean (Dense)                  (None, 16)           8208        dense[0][0]                      \n",
      "__________________________________________________________________________________________________\n",
      "z_log_var (Dense)               (None, 16)           8208        dense[0][0]                      \n",
      "__________________________________________________________________________________________________\n",
      "sampling (Sampling)             (None, 16)           0           z_mean[0][0]                     \n",
      "                                                                 z_log_var[0][0]                  \n",
      "==================================================================================================\n",
      "Total params: 56,391,712\n",
      "Trainable params: 56,391,712\n",
      "Non-trainable params: 0\n",
      "__________________________________________________________________________________________________\n",
      "None\n",
      "Model: \"decoder\"\n",
      "_________________________________________________________________\n",
      "Layer (type)                 Output Shape              Param #   \n",
      "=================================================================\n",
      "input_2 (InputLayer)         [(None, 16)]              0         \n",
      "_________________________________________________________________\n",
      "dense_1 (Dense)              (None, 97280)             1653760   \n",
      "_________________________________________________________________\n",
      "reshape (Reshape)            (None, 38, 5, 512)        0         \n",
      "_________________________________________________________________\n",
      "conv2d_transpose (Conv2DTran (None, 76, 5, 512)        6554112   \n",
      "_________________________________________________________________\n",
      "cropping2d (Cropping2D)      (None, 75, 5, 512)        0         \n",
      "_________________________________________________________________\n",
      "conv2d_transpose_1 (Conv2DTr (None, 150, 5, 512)       6554112   \n",
      "_________________________________________________________________\n",
      "conv2d_2 (Conv2D)            (None, 150, 5, 1)         12801     \n",
      "=================================================================\n",
      "Total params: 14,774,785\n",
      "Trainable params: 14,774,785\n",
      "Non-trainable params: 0\n",
      "_________________________________________________________________\n",
      "None\n"
     ]
    }
   ],
   "source": [
    "with strategy.scope():\n",
    "    encoder_inputs = keras.Input(shape=input_size)\n",
    "    x = layers.Conv2D(width, filter_size, activation=\"relu\", strides=(2,1), padding=\"same\")(encoder_inputs)\n",
    "    x = layers.Conv2D(width, filter_size, activation=\"relu\", strides=(2,1), padding=\"same\")(x)\n",
    "    x = layers.Flatten()(x)\n",
    "    x = layers.Dense(width, activation=\"relu\")(x)\n",
    "    z_mean = layers.Dense(latent_dim, name=\"z_mean\")(x)\n",
    "    z_log_var = layers.Dense(latent_dim, name=\"z_log_var\")(x)\n",
    "    z = Sampling()([z_mean, z_log_var])\n",
    "    encoder = keras.Model(encoder_inputs, [z_mean, z_log_var, z], name=\"encoder\")\n",
    "    print(encoder.summary())\n",
    "    \n",
    "    latent_inputs = keras.Input(shape=(latent_dim,))\n",
    "    x = layers.Dense(38 * 5 * width, activation=\"relu\")(latent_inputs)\n",
    "    x = layers.Reshape((38, 5, width))(x)\n",
    "\n",
    "    x = layers.Conv2DTranspose(width, filter_size, activation=\"relu\", strides=(2, 1), padding=\"same\")(x)\n",
    "    x = layers.Cropping2D(cropping=((0, 1), (0, 0)))(x)\n",
    "\n",
    "    x = layers.Conv2DTranspose(width, filter_size, activation=\"relu\", strides=(2, 1), padding=\"same\")(x)\n",
    "    decoder_outputs = layers.Conv2D(1, filter_size, activation=\"sigmoid\", padding=\"same\")(x)\n",
    "\n",
    "    decoder = keras.Model(latent_inputs, decoder_outputs, name=\"decoder\")\n",
    "    print(decoder.summary())\n",
    "    \n",
    "    vae = VAE(encoder, decoder)\n",
    "    vae.compile(optimizer=keras.optimizers.Adam(0.001))"
   ]
  },
  {
   "cell_type": "code",
   "execution_count": null,
   "metadata": {
    "scrolled": true
   },
   "outputs": [
    {
     "name": "stdout",
     "output_type": "stream",
     "text": [
      "Epoch 1/50\n",
      "WARNING:tensorflow:From /opt/conda/envs/ecseg/lib/python3.7/site-packages/tensorflow/python/data/ops/multi_device_iterator_ops.py:601: get_next_as_optional (from tensorflow.python.data.ops.iterator_ops) is deprecated and will be removed in a future version.\n",
      "Instructions for updating:\n",
      "Use `tf.data.Iterator.get_next_as_optional()` instead.\n",
      "INFO:tensorflow:batch_all_reduce: 18 all-reduces with algorithm = nccl, num_packs = 1\n",
      "INFO:tensorflow:batch_all_reduce: 18 all-reduces with algorithm = nccl, num_packs = 1\n",
      "663/663 [==============================] - 160s 241ms/step - loss: 390.7586 - reconstruction_loss: 388.8300 - kl_loss: 1.9287\n",
      "Epoch 2/50\n",
      "663/663 [==============================] - 160s 241ms/step - loss: 338.2344 - reconstruction_loss: 338.2344 - kl_loss: 5.0273e-09\n",
      "Epoch 3/50\n",
      "663/663 [==============================] - 160s 241ms/step - loss: 335.8410 - reconstruction_loss: 335.8410 - kl_loss: 2.7216e-09\n",
      "Epoch 4/50\n",
      "663/663 [==============================] - 160s 241ms/step - loss: 335.5262 - reconstruction_loss: 335.5262 - kl_loss: 1.8815e-09\n",
      "Epoch 5/50\n",
      "663/663 [==============================] - 160s 241ms/step - loss: 335.4699 - reconstruction_loss: 335.4699 - kl_loss: 1.5676e-09\n",
      "Epoch 6/50\n",
      "663/663 [==============================] - 160s 241ms/step - loss: 335.4965 - reconstruction_loss: 335.4965 - kl_loss: 1.2882e-09\n",
      "Epoch 7/50\n",
      "663/663 [==============================] - 160s 241ms/step - loss: 335.4230 - reconstruction_loss: 335.4230 - kl_loss: 1.1635e-09\n",
      "Epoch 8/50\n",
      "663/663 [==============================] - 160s 241ms/step - loss: 335.3509 - reconstruction_loss: 335.3509 - kl_loss: 1.0929e-09\n",
      "Epoch 9/50\n",
      "663/663 [==============================] - 160s 241ms/step - loss: 335.3900 - reconstruction_loss: 335.3900 - kl_loss: 9.5317e-10\n",
      "Epoch 10/50\n",
      "663/663 [==============================] - 160s 241ms/step - loss: 335.3663 - reconstruction_loss: 335.3663 - kl_loss: 2.8448e-09\n",
      "Epoch 11/50\n",
      "663/663 [==============================] - 160s 241ms/step - loss: 335.4340 - reconstruction_loss: 335.4340 - kl_loss: 1.0481e-07\n",
      "Epoch 12/50\n",
      "663/663 [==============================] - 160s 241ms/step - loss: 335.4162 - reconstruction_loss: 335.4162 - kl_loss: 2.1529e-09\n",
      "Epoch 13/50\n",
      "663/663 [==============================] - 160s 241ms/step - loss: 335.4015 - reconstruction_loss: 335.3920 - kl_loss: 0.0094\n",
      "Epoch 14/50\n",
      "663/663 [==============================] - 159s 241ms/step - loss: 321.5820 - reconstruction_loss: 319.6810 - kl_loss: 1.9010\n",
      "Epoch 15/50\n",
      " 78/663 [==>...........................] - ETA: 2:19 - loss: 318.1250 - reconstruction_loss: 315.8111 - kl_loss: 2.3139"
     ]
    }
   ],
   "source": [
    "history = vae.fit(train_reads, epochs=epochs, batch_size=batch_size, verbose =1, callbacks = callbacks)"
   ]
  },
  {
   "cell_type": "code",
   "execution_count": null,
   "metadata": {},
   "outputs": [],
   "source": [
    "plt.plot(history.history['loss'])\n",
    "plt.title('total loss')\n",
    "plt.ylabel('accuracy')\n",
    "plt.xlabel('epoch')\n",
    "plt.show()\n",
    "# summarize history for loss\n",
    "plt.plot(history.history['reconstruction_loss'])\n",
    "plt.title('reconstruction loss')\n",
    "plt.ylabel('loss')\n",
    "plt.xlabel('epoch')\n",
    "plt.show()\n",
    "\n",
    "plt.plot(history.history['kl_loss'])\n",
    "plt.title('kl loss')\n",
    "plt.ylabel('loss')\n",
    "plt.xlabel('epoch')\n",
    "plt.show()"
   ]
  },
  {
   "cell_type": "code",
   "execution_count": 14,
   "metadata": {},
   "outputs": [],
   "source": [
    "test_sets = ['test_easy_1.fa', 'test_easy_2.fa', 'test_intermidate_1.fa', 'test_intermidate_2.fa', 'test_difficult_1.fa', \n",
    "             'test_difficult_2.fa', 'test_very_difficult_1.fa', 'test_very_difficult_2.fa']\n",
    "easy_1 = assign_labels(read_fasta(test_root + test_sets[0]))\n",
    "easy_2 = assign_labels(read_fasta(test_root + test_sets[1]))"
   ]
  },
  {
   "cell_type": "code",
   "execution_count": 80,
   "metadata": {},
   "outputs": [],
   "source": [
    "easy_1_predictions = encoder.predict(train_reads)"
   ]
  },
  {
   "cell_type": "code",
   "execution_count": 67,
   "metadata": {},
   "outputs": [],
   "source": [
    "a = np.expand_dims(np.array(seqs2onehot([easy_1.loc[105487]['seqs']])), -1)\n",
    "b = encoder.predict(a)\n",
    "c = decoder.predict(b[-1]); c = np.squeeze(c)\n",
    "difflib.SequenceMatcher(None, np.argmax((c>0.01), axis=1), np.argmax(np.squeeze(a), axis=1)).ratio()"
   ]
  },
  {
   "cell_type": "code",
   "execution_count": 87,
   "metadata": {},
   "outputs": [
    {
     "data": {
      "text/plain": [
       "(3, 1, 16)"
      ]
     },
     "execution_count": 87,
     "metadata": {},
     "output_type": "execute_result"
    }
   ],
   "source": [
    "np.array(b).shape"
   ]
  },
  {
   "cell_type": "code",
   "execution_count": null,
   "metadata": {},
   "outputs": [],
   "source": []
  }
 ],
 "metadata": {
  "kernelspec": {
   "display_name": "Python 3",
   "language": "python",
   "name": "python3"
  },
  "language_info": {
   "codemirror_mode": {
    "name": "ipython",
    "version": 3
   },
   "file_extension": ".py",
   "mimetype": "text/x-python",
   "name": "python",
   "nbconvert_exporter": "python",
   "pygments_lexer": "ipython3",
   "version": "3.7.7"
  }
 },
 "nbformat": 4,
 "nbformat_minor": 4
}
