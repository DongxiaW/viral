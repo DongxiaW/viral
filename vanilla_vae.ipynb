{
 "cells": [
  {
   "cell_type": "code",
   "execution_count": 1,
   "metadata": {},
   "outputs": [],
   "source": [
    "import warnings\n",
    "warnings.simplefilter(action='ignore')\n",
    "import numpy as np\n",
    "from matplotlib import pyplot as plt\n",
    "import pandas as pd\n",
    "import re, random, pickle, glob, os, difflib\n",
    "import tensorflow as tf\n",
    "import numpy as np\n",
    "from tensorflow import keras\n",
    "import tensorflow.keras.backend as K\n",
    "from tensorflow.keras import layers\n",
    "from tensorflow.keras.layers import *\n",
    "from tensorflow.keras.models import Sequential, load_model, Model\n",
    "from tensorflow.keras.callbacks import EarlyStopping, ModelCheckpoint\n",
    "from sklearn.model_selection import StratifiedKFold\n",
    "from tensorflow.keras.preprocessing.text import Tokenizer\n",
    "from tensorflow.keras.preprocessing.sequence import pad_sequences\n",
    "from sklearn import metrics\n",
    "from utils import *\n",
    "os.environ['TF_CPP_MIN_LOG_LEVEL'] = '3' \n",
    "# os.environ[\"CUDA_DEVICE_ORDER\"]=\"PCI_BUS_ID\"\n",
    "# os.environ[\"CUDA_VISIBLE_DEVICES\"]=\"\" "
   ]
  },
  {
   "cell_type": "code",
   "execution_count": 2,
   "metadata": {},
   "outputs": [],
   "source": [
    "train_root = 'train/'\n",
    "test_root = 'test/'\n",
    "model_root = 'models/'\n",
    "plot_root = 'plots/'\n",
    "train_set = ['x10_reads.fa']\n",
    "test_sets = ['test_easy_1.fa', 'test_easy_2.fa', 'test_intermidate_1.fa', 'test_intermidate_2.fa', 'test_difficult_1.fa', \n",
    "             'test_difficult_2.fa', 'test_very_difficult_1.fa', 'test_very_difficult_2.fa']"
   ]
  },
  {
   "cell_type": "code",
   "execution_count": 7,
   "metadata": {},
   "outputs": [
    {
     "data": {
      "text/plain": [
       "(105492, 150, 4, 1)"
      ]
     },
     "execution_count": 7,
     "metadata": {},
     "output_type": "execute_result"
    }
   ],
   "source": [
    "df = read_fasta(test_root + test_sets[0])\n",
    "train_reads_original = np.array(seqs2onehot(np.array(df.seqs)))\n",
    "train_reads = np.delete(train_reads_original,3,axis=2)\n",
    "train_reads = np.expand_dims(train_reads, -1)\n",
    "train_reads.shape"
   ]
  },
  {
   "cell_type": "code",
   "execution_count": 8,
   "metadata": {},
   "outputs": [],
   "source": [
    "class Sampling(layers.Layer):\n",
    "    \"\"\"Uses (z_mean, z_log_var) to sample z, the vector encoding a digit.\"\"\"\n",
    "\n",
    "    def call(self, inputs):\n",
    "        z_mean, z_log_var = inputs\n",
    "        batch = tf.shape(z_mean)[0]\n",
    "        dim = tf.shape(z_mean)[1]\n",
    "        epsilon = tf.keras.backend.random_normal(shape=(batch, dim))\n",
    "        output = z_mean + tf.exp(0.5 * z_log_var) * epsilon\n",
    "        return output"
   ]
  },
  {
   "cell_type": "code",
   "execution_count": 9,
   "metadata": {},
   "outputs": [],
   "source": [
    "class VAE(keras.Model):\n",
    "    def __init__(self, encoder, decoder, **kwargs):\n",
    "        super(VAE, self).__init__(**kwargs)\n",
    "        self.encoder = encoder\n",
    "        self.decoder = decoder\n",
    "\n",
    "    def train_step(self, data):\n",
    "        if isinstance(data, tuple):\n",
    "            data = data[0]\n",
    "        with tf.GradientTape() as tape:\n",
    "            z_mean, z_log_var, z = encoder(data)\n",
    "            reconstruction = decoder(z)\n",
    "            reconstruction_loss = tf.reduce_mean(\n",
    "                keras.losses.binary_crossentropy(data, reconstruction)\n",
    "            )\n",
    "            reconstruction_loss *= 150 * 4\n",
    "            kl_loss = 1 + z_log_var - tf.square(z_mean) - tf.exp(z_log_var)\n",
    "            kl_loss = -0.5*tf.reduce_mean(kl_loss)\n",
    "            total_loss = reconstruction_loss + kl_loss\n",
    "        grads = tape.gradient(total_loss, self.trainable_weights)\n",
    "        self.optimizer.apply_gradients(zip(grads, self.trainable_weights))\n",
    "        return {\n",
    "            \"loss\": total_loss,\n",
    "            \"reconstruction_loss\": reconstruction_loss,\n",
    "            \"kl_loss\": kl_loss,\n",
    "        }\n",
    "    \n",
    "    def call(self, x):\n",
    "        x = self.encoder(x)\n",
    "        return self.decoder(x)"
   ]
  },
  {
   "cell_type": "code",
   "execution_count": 10,
   "metadata": {},
   "outputs": [
    {
     "name": "stdout",
     "output_type": "stream",
     "text": [
      "INFO:tensorflow:Using MirroredStrategy with devices ('/job:localhost/replica:0/task:0/device:GPU:0', '/job:localhost/replica:0/task:0/device:GPU:1', '/job:localhost/replica:0/task:0/device:GPU:2', '/job:localhost/replica:0/task:0/device:GPU:3', '/job:localhost/replica:0/task:0/device:GPU:4', '/job:localhost/replica:0/task:0/device:GPU:5', '/job:localhost/replica:0/task:0/device:GPU:6', '/job:localhost/replica:0/task:0/device:GPU:7')\n"
     ]
    }
   ],
   "source": [
    "strategy = tf.distribute.MirroredStrategy()"
   ]
  },
  {
   "cell_type": "code",
   "execution_count": 20,
   "metadata": {},
   "outputs": [],
   "source": [
    "width = 512\n",
    "input_size = (150,4,1)\n",
    "epochs = 150\n",
    "batch_size = 1024"
   ]
  },
  {
   "cell_type": "code",
   "execution_count": 21,
   "metadata": {},
   "outputs": [],
   "source": [
    "ckpt_num = 'vanilla_vae'\n",
    "ckpt_dir = os.path.join(model_root, ckpt_num, '')\n",
    "if (os.path.isdir(ckpt_dir) == False):\n",
    "    os.mkdir(os.path.join(ckpt_dir, ''))"
   ]
  },
  {
   "cell_type": "code",
   "execution_count": null,
   "metadata": {
    "scrolled": true
   },
   "outputs": [
    {
     "name": "stdout",
     "output_type": "stream",
     "text": [
      "Model: \"encoder\"\n",
      "__________________________________________________________________________________________________\n",
      "Layer (type)                    Output Shape         Param #     Connected to                     \n",
      "==================================================================================================\n",
      "input_11 (InputLayer)           [(None, 150, 4, 1)]  0                                            \n",
      "__________________________________________________________________________________________________\n",
      "conv2d_10 (Conv2D)              (None, 75, 4, 512)   12800       input_11[0][0]                   \n",
      "__________________________________________________________________________________________________\n",
      "flatten_5 (Flatten)             (None, 153600)       0           conv2d_10[0][0]                  \n",
      "__________________________________________________________________________________________________\n",
      "dense_10 (Dense)                (None, 512)          78643712    flatten_5[0][0]                  \n",
      "__________________________________________________________________________________________________\n",
      "z_mean (Dense)                  (None, 16)           8208        dense_10[0][0]                   \n",
      "__________________________________________________________________________________________________\n",
      "z_log_var (Dense)               (None, 16)           8208        dense_10[0][0]                   \n",
      "__________________________________________________________________________________________________\n",
      "sampling_5 (Sampling)           (None, 16)           0           z_mean[0][0]                     \n",
      "                                                                 z_log_var[0][0]                  \n",
      "==================================================================================================\n",
      "Total params: 78,672,928\n",
      "Trainable params: 78,672,928\n",
      "Non-trainable params: 0\n",
      "__________________________________________________________________________________________________\n",
      "None\n",
      "Model: \"decoder\"\n",
      "_________________________________________________________________\n",
      "Layer (type)                 Output Shape              Param #   \n",
      "=================================================================\n",
      "input_12 (InputLayer)        [(None, 16)]              0         \n",
      "_________________________________________________________________\n",
      "dense_11 (Dense)             (None, 153600)            2611200   \n",
      "_________________________________________________________________\n",
      "reshape_5 (Reshape)          (None, 75, 4, 512)        0         \n",
      "_________________________________________________________________\n",
      "conv2d_transpose_5 (Conv2DTr (None, 150, 4, 512)       6291968   \n",
      "_________________________________________________________________\n",
      "conv2d_11 (Conv2D)           (None, 150, 4, 1)         12289     \n",
      "=================================================================\n",
      "Total params: 8,915,457\n",
      "Trainable params: 8,915,457\n",
      "Non-trainable params: 0\n",
      "_________________________________________________________________\n",
      "None\n",
      "Epoch 1/150\n",
      "104/104 [==============================] - 36s 351ms/step - loss: 340.5542 - reconstruction_loss: 339.5814 - kl_loss: 0.9728\n",
      "Epoch 2/150\n",
      " 10/104 [=>............................] - ETA: 30s - loss: 334.9908 - reconstruction_loss: 334.3586 - kl_loss: 0.6321"
     ]
    }
   ],
   "source": [
    "with strategy.scope():\n",
    "    for width in [512]:\n",
    "        for f_size in [6, 10]:\n",
    "            for latent_dim in [16, 32]:\n",
    "                filter_size = (f_size, 4)\n",
    "                \n",
    "                hist_path = os.path.join(model_root, ckpt_num, str(f_size)+'_'+str(latent_dim))\n",
    "                encoder_inputs = keras.Input(shape=input_size)\n",
    "                c1 = layers.Conv2D(width, filter_size, strides=(2, 1), activation=\"relu\", padding=\"same\")(encoder_inputs)\n",
    "                x = layers.Flatten()(c1)\n",
    "                x = layers.Dense(width, activation=\"relu\")(x)\n",
    "                z_mean = layers.Dense(latent_dim, name=\"z_mean\")(x)\n",
    "                z_log_var = layers.Dense(latent_dim, name=\"z_log_var\")(x)\n",
    "                z = Sampling()([z_mean, z_log_var])\n",
    "                encoder = keras.Model(encoder_inputs, [z_mean, z_log_var, z], name=\"encoder\")\n",
    "                print(encoder.summary())\n",
    "\n",
    "                latent_inputs = keras.Input(shape=(latent_dim,))\n",
    "                x = layers.Dense(75 * 4 * width, activation=\"relu\")(latent_inputs)\n",
    "                x = layers.Reshape((75, 4, width))(x)\n",
    "                x = layers.Conv2DTranspose(width, filter_size, strides=(2, 1), activation=\"relu\", padding=\"same\")(x)\n",
    "                decoder_outputs = layers.Conv2D(1, filter_size, activation=\"sigmoid\", padding=\"same\")(x)\n",
    "                decoder = keras.Model([latent_inputs], decoder_outputs, name=\"decoder\")\n",
    "                print(decoder.summary())\n",
    "\n",
    "                vae = VAE(encoder, decoder)\n",
    "                vae.compile(optimizer=keras.optimizers.Adam(0.001))\n",
    "                history = vae.fit(train_reads, epochs=epochs, batch_size=batch_size, verbose =1)\n",
    "                with open(hist_path, 'wb') as f:\n",
    "                    pickle.dump(history.history, f)\n",
    "                \n",
    "\n",
    "                fig, ax1 = plt.subplots()\n",
    "                ax1.plot(history.history['reconstruction_loss'], color='green')\n",
    "                ax1.plot(history.history['loss'], color='red')\n",
    "\n",
    "\n",
    "                ax2 = ax1.twinx()\n",
    "                ax2.plot(history.history['kl_loss'])\n",
    "                plt.show()\n",
    "                plot_path = os.path.join(plot_root, str(f_size)+'_'+str(latent_dim)+'_loss''.png')\n",
    "                plt.savefig(plot_path)\n",
    "                \n",
    "                easy_1 = assign_labels(read_fasta(test_root + test_sets[0]))\n",
    "                test_reads_1 = np.array(seqs2onehot(np.array(easy_1.seqs)))\n",
    "                test_reads_1 = np.delete(test_reads_1, 3, axis=2)\n",
    "                test_reads_1 = np.expand_dims(test_reads_1, -1)\n",
    "                r1 = vae.predict(test_reads_1, verbose=1)\n",
    "                l = keras.losses.binary_crossentropy(test_reads_1, r1)\n",
    "                pred = tf.reduce_mean(l, [1,2])\n",
    "                auc = metrics.roc_auc_score(np.array(easy_1.viral), np.array(pred))\n",
    "                \n",
    "                model_path = os.path.join(model_root, ckpt_num, str(f_size)+'_'+str(latent_dim)+'_'+str(auc))\n",
    "                vae.save(model_path, save_format='tf')"
   ]
  }
 ],
 "metadata": {
  "kernelspec": {
   "display_name": "Python 3",
   "language": "python",
   "name": "python3"
  },
  "language_info": {
   "codemirror_mode": {
    "name": "ipython",
    "version": 3
   },
   "file_extension": ".py",
   "mimetype": "text/x-python",
   "name": "python",
   "nbconvert_exporter": "python",
   "pygments_lexer": "ipython3",
   "version": "3.7.7"
  }
 },
 "nbformat": 4,
 "nbformat_minor": 4
}
