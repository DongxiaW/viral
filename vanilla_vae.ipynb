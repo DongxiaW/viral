{
 "cells": [
  {
   "cell_type": "code",
   "execution_count": 1,
   "metadata": {},
   "outputs": [],
   "source": [
    "import warnings\n",
    "warnings.simplefilter(action='ignore')\n",
    "import numpy as np\n",
    "from matplotlib import pyplot as plt\n",
    "import pandas as pd\n",
    "import re, random, pickle, glob, os, difflib\n",
    "import tensorflow as tf\n",
    "import numpy as np\n",
    "from tensorflow import keras\n",
    "import tensorflow.keras.backend as K\n",
    "from tensorflow.keras import layers\n",
    "from tensorflow.keras.layers import *\n",
    "from tensorflow.keras.models import Sequential, load_model, Model\n",
    "from tensorflow.keras.callbacks import EarlyStopping, ModelCheckpoint\n",
    "from sklearn.model_selection import StratifiedKFold\n",
    "from tensorflow.keras.preprocessing.text import Tokenizer\n",
    "from tensorflow.keras.preprocessing.sequence import pad_sequences\n",
    "from utils import *\n",
    "os.environ['TF_CPP_MIN_LOG_LEVEL'] = '3' \n",
    "# os.environ[\"CUDA_DEVICE_ORDER\"]=\"PCI_BUS_ID\"\n",
    "# os.environ[\"CUDA_VISIBLE_DEVICES\"]=\"\" "
   ]
  },
  {
   "cell_type": "code",
   "execution_count": 2,
   "metadata": {},
   "outputs": [],
   "source": [
    "train_root = 'train/'\n",
    "test_root = 'test/'\n",
    "model_root = 'models/'\n",
    "plot_root = 'plots/'\n",
    "train_set = ['x10_reads.fa']\n",
    "test_sets = ['test_easy_1.fa', 'test_easy_2.fa', 'test_intermidate_1.fa', 'test_intermidate_2.fa', 'test_difficult_1.fa', \n",
    "             'test_difficult_2.fa', 'test_very_difficult_1.fa', 'test_very_difficult_2.fa']"
   ]
  },
  {
   "cell_type": "code",
   "execution_count": 3,
   "metadata": {},
   "outputs": [
    {
     "data": {
      "text/plain": [
       "(169538, 150, 4, 1)"
      ]
     },
     "execution_count": 3,
     "metadata": {},
     "output_type": "execute_result"
    }
   ],
   "source": [
    "df = read_fasta(train_root + train_set[0])\n",
    "train_reads_original = np.array(seqs2onehot(np.array(df.seqs)))\n",
    "train_reads = np.delete(train_reads_original,3,axis=2)\n",
    "train_reads = np.expand_dims(train_reads, -1)\n",
    "train_reads.shape"
   ]
  },
  {
   "cell_type": "code",
   "execution_count": 4,
   "metadata": {},
   "outputs": [],
   "source": [
    "class Sampling(layers.Layer):\n",
    "    \"\"\"Uses (z_mean, z_log_var) to sample z, the vector encoding a digit.\"\"\"\n",
    "\n",
    "    def call(self, inputs):\n",
    "        z_mean, z_log_var = inputs\n",
    "        batch = tf.shape(z_mean)[0]\n",
    "        dim = tf.shape(z_mean)[1]\n",
    "        epsilon = tf.keras.backend.random_normal(shape=(batch, dim))\n",
    "        output = z_mean + tf.exp(0.5 * z_log_var) * epsilon\n",
    "        return output"
   ]
  },
  {
   "cell_type": "code",
   "execution_count": 5,
   "metadata": {},
   "outputs": [],
   "source": [
    "class VAE(keras.Model):\n",
    "    def __init__(self, encoder, decoder, **kwargs):\n",
    "        super(VAE, self).__init__(**kwargs)\n",
    "        self.encoder = encoder\n",
    "        self.decoder = decoder\n",
    "\n",
    "    def train_step(self, data):\n",
    "        if isinstance(data, tuple):\n",
    "            data = data[0]\n",
    "        with tf.GradientTape() as tape:\n",
    "            z_mean, z_log_var, z = encoder(data)\n",
    "            reconstruction = decoder(z)\n",
    "            reconstruction_loss = tf.reduce_mean(\n",
    "                keras.losses.binary_crossentropy(data, reconstruction)\n",
    "            )\n",
    "            reconstruction_loss *= 150 * 4\n",
    "            kl_loss = 1 + z_log_var - tf.square(z_mean) - tf.exp(z_log_var)\n",
    "            kl_loss = -0.5*tf.reduce_mean(kl_loss)\n",
    "            total_loss = reconstruction_loss + kl_loss\n",
    "        grads = tape.gradient(total_loss, self.trainable_weights)\n",
    "        self.optimizer.apply_gradients(zip(grads, self.trainable_weights))\n",
    "        return {\n",
    "            \"loss\": total_loss,\n",
    "            \"reconstruction_loss\": reconstruction_loss,\n",
    "            \"kl_loss\": kl_loss,\n",
    "        }\n",
    "    \n",
    "    def call(self, x):\n",
    "        x = self.encoder(x)\n",
    "        return self.decoder(x)"
   ]
  },
  {
   "cell_type": "code",
   "execution_count": 6,
   "metadata": {},
   "outputs": [
    {
     "name": "stdout",
     "output_type": "stream",
     "text": [
      "INFO:tensorflow:Using MirroredStrategy with devices ('/job:localhost/replica:0/task:0/device:GPU:0', '/job:localhost/replica:0/task:0/device:GPU:1', '/job:localhost/replica:0/task:0/device:GPU:2', '/job:localhost/replica:0/task:0/device:GPU:3', '/job:localhost/replica:0/task:0/device:GPU:4', '/job:localhost/replica:0/task:0/device:GPU:5', '/job:localhost/replica:0/task:0/device:GPU:6', '/job:localhost/replica:0/task:0/device:GPU:7')\n"
     ]
    }
   ],
   "source": [
    "strategy = tf.distribute.MirroredStrategy()"
   ]
  },
  {
   "cell_type": "code",
   "execution_count": 7,
   "metadata": {},
   "outputs": [],
   "source": [
    "latent_dim = 32\n",
    "width = 500\n",
    "input_size = (150,4,1)\n",
    "filter_size = (5, 4) \n",
    "epochs = 75\n",
    "batch_size = 2048"
   ]
  },
  {
   "cell_type": "code",
   "execution_count": 8,
   "metadata": {},
   "outputs": [],
   "source": [
    "ckpt_num = 'vanilla_vae'\n",
    "ckpt_dir = os.path.join(model_root, ckpt_num, '')\n",
    "if (os.path.isdir(ckpt_dir) == False):\n",
    "    os.mkdir(os.path.join(ckpt_dir, ''))"
   ]
  },
  {
   "cell_type": "code",
   "execution_count": null,
   "metadata": {
    "scrolled": true
   },
   "outputs": [
    {
     "name": "stdout",
     "output_type": "stream",
     "text": [
      "Model: \"encoder\"\n",
      "__________________________________________________________________________________________________\n",
      "Layer (type)                    Output Shape         Param #     Connected to                     \n",
      "==================================================================================================\n",
      "input_5 (InputLayer)            [(None, 150, 4, 1)]  0                                            \n",
      "__________________________________________________________________________________________________\n",
      "conv2d_4 (Conv2D)               (None, 75, 4, 256)   10496       input_5[0][0]                    \n",
      "__________________________________________________________________________________________________\n",
      "flatten_2 (Flatten)             (None, 76800)        0           conv2d_4[0][0]                   \n",
      "__________________________________________________________________________________________________\n",
      "dense_4 (Dense)                 (None, 256)          19661056    flatten_2[0][0]                  \n",
      "__________________________________________________________________________________________________\n",
      "z_mean (Dense)                  (None, 32)           8224        dense_4[0][0]                    \n",
      "__________________________________________________________________________________________________\n",
      "z_log_var (Dense)               (None, 32)           8224        dense_4[0][0]                    \n",
      "__________________________________________________________________________________________________\n",
      "sampling_2 (Sampling)           (None, 32)           0           z_mean[0][0]                     \n",
      "                                                                 z_log_var[0][0]                  \n",
      "==================================================================================================\n",
      "Total params: 19,688,000\n",
      "Trainable params: 19,688,000\n",
      "Non-trainable params: 0\n",
      "__________________________________________________________________________________________________\n",
      "None\n",
      "Model: \"decoder\"\n",
      "_________________________________________________________________\n",
      "Layer (type)                 Output Shape              Param #   \n",
      "=================================================================\n",
      "input_6 (InputLayer)         [(None, 32)]              0         \n",
      "_________________________________________________________________\n",
      "dense_5 (Dense)              (None, 76800)             2534400   \n",
      "_________________________________________________________________\n",
      "reshape_2 (Reshape)          (None, 75, 4, 256)        0         \n",
      "_________________________________________________________________\n",
      "conv2d_transpose_3 (Conv2DTr (None, 150, 4, 256)       2621696   \n",
      "_________________________________________________________________\n",
      "conv2d_5 (Conv2D)            (None, 150, 4, 1)         10241     \n",
      "=================================================================\n",
      "Total params: 5,166,337\n",
      "Trainable params: 5,166,337\n",
      "Non-trainable params: 0\n",
      "_________________________________________________________________\n",
      "None\n",
      "Epoch 1/75\n",
      "INFO:tensorflow:batch_all_reduce: 14 all-reduces with algorithm = nccl, num_packs = 1\n",
      "INFO:tensorflow:batch_all_reduce: 14 all-reduces with algorithm = nccl, num_packs = 1\n",
      "83/83 [==============================] - 19s 232ms/step - loss: 344.1315 - reconstruction_loss: 342.9332 - kl_loss: 1.1983\n",
      "Epoch 2/75\n",
      "83/83 [==============================] - 19s 233ms/step - loss: 336.4071 - reconstruction_loss: 335.6556 - kl_loss: 0.7515\n",
      "Epoch 3/75\n",
      "83/83 [==============================] - 19s 233ms/step - loss: 336.2406 - reconstruction_loss: 335.5653 - kl_loss: 0.6753\n",
      "Epoch 4/75\n",
      "83/83 [==============================] - 19s 234ms/step - loss: 336.0895 - reconstruction_loss: 335.4673 - kl_loss: 0.6222\n",
      "Epoch 5/75\n",
      "83/83 [==============================] - 19s 234ms/step - loss: 334.2981 - reconstruction_loss: 333.5741 - kl_loss: 0.7240\n",
      "Epoch 6/75\n",
      "83/83 [==============================] - 19s 234ms/step - loss: 331.2507 - reconstruction_loss: 330.4560 - kl_loss: 0.7948\n",
      "Epoch 7/75\n",
      "83/83 [==============================] - 19s 234ms/step - loss: 325.2836 - reconstruction_loss: 324.0812 - kl_loss: 1.2024\n",
      "Epoch 8/75\n",
      "83/83 [==============================] - 19s 234ms/step - loss: 317.8507 - reconstruction_loss: 316.0339 - kl_loss: 1.8168\n",
      "Epoch 9/75\n",
      "83/83 [==============================] - 19s 234ms/step - loss: 313.5429 - reconstruction_loss: 311.5180 - kl_loss: 2.0249\n",
      "Epoch 10/75\n",
      "83/83 [==============================] - 19s 234ms/step - loss: 310.2965 - reconstruction_loss: 308.1315 - kl_loss: 2.1649\n",
      "Epoch 11/75\n",
      "83/83 [==============================] - 19s 234ms/step - loss: 307.5911 - reconstruction_loss: 305.3369 - kl_loss: 2.2542\n",
      "Epoch 12/75\n",
      "83/83 [==============================] - 19s 234ms/step - loss: 305.5199 - reconstruction_loss: 303.2419 - kl_loss: 2.2780\n",
      "Epoch 13/75\n",
      "83/83 [==============================] - 19s 234ms/step - loss: 303.7957 - reconstruction_loss: 301.4925 - kl_loss: 2.3033\n",
      "Epoch 14/75\n",
      "83/83 [==============================] - 19s 234ms/step - loss: 302.9435 - reconstruction_loss: 300.6599 - kl_loss: 2.2836\n",
      "Epoch 15/75\n",
      "83/83 [==============================] - 19s 234ms/step - loss: 302.4882 - reconstruction_loss: 300.2193 - kl_loss: 2.2689\n",
      "Epoch 16/75\n",
      "83/83 [==============================] - 19s 234ms/step - loss: 301.8065 - reconstruction_loss: 299.5384 - kl_loss: 2.2681\n",
      "Epoch 17/75\n",
      "83/83 [==============================] - 19s 234ms/step - loss: 301.2095 - reconstruction_loss: 298.9370 - kl_loss: 2.2725\n",
      "Epoch 18/75\n",
      "83/83 [==============================] - 19s 234ms/step - loss: 300.6531 - reconstruction_loss: 298.3670 - kl_loss: 2.2861\n",
      "Epoch 19/75\n",
      "83/83 [==============================] - 19s 234ms/step - loss: 300.1375 - reconstruction_loss: 297.8461 - kl_loss: 2.2914\n",
      "Epoch 20/75\n",
      "83/83 [==============================] - 19s 234ms/step - loss: 299.5022 - reconstruction_loss: 297.1950 - kl_loss: 2.3072\n",
      "Epoch 21/75\n",
      "83/83 [==============================] - 19s 234ms/step - loss: 298.9142 - reconstruction_loss: 296.5884 - kl_loss: 2.3258\n",
      "Epoch 22/75\n",
      "83/83 [==============================] - 19s 234ms/step - loss: 298.0966 - reconstruction_loss: 295.7466 - kl_loss: 2.3500\n",
      "Epoch 23/75\n",
      "83/83 [==============================] - 19s 234ms/step - loss: 297.1014 - reconstruction_loss: 294.7191 - kl_loss: 2.3823\n",
      "Epoch 24/75\n",
      "83/83 [==============================] - 19s 234ms/step - loss: 293.7885 - reconstruction_loss: 291.2864 - kl_loss: 2.5021\n",
      "Epoch 25/75\n",
      "83/83 [==============================] - 19s 235ms/step - loss: 282.8055 - reconstruction_loss: 279.9403 - kl_loss: 2.8652\n",
      "Epoch 26/75\n",
      "83/83 [==============================] - 19s 235ms/step - loss: 273.2213 - reconstruction_loss: 270.1532 - kl_loss: 3.0681\n",
      "Epoch 27/75\n",
      "83/83 [==============================] - 19s 235ms/step - loss: 263.7799 - reconstruction_loss: 260.5261 - kl_loss: 3.2537\n",
      "Epoch 28/75\n",
      "83/83 [==============================] - 19s 235ms/step - loss: 262.9964 - reconstruction_loss: 259.5346 - kl_loss: 3.4618\n",
      "Epoch 29/75\n",
      "83/83 [==============================] - 19s 235ms/step - loss: 253.6742 - reconstruction_loss: 250.1474 - kl_loss: 3.5269\n",
      "Epoch 30/75\n",
      "83/83 [==============================] - 19s 235ms/step - loss: 251.9055 - reconstruction_loss: 248.2330 - kl_loss: 3.6725\n",
      "Epoch 31/75\n",
      "83/83 [==============================] - 19s 235ms/step - loss: 251.6093 - reconstruction_loss: 247.8595 - kl_loss: 3.7497\n",
      "Epoch 32/75\n",
      "83/83 [==============================] - 20s 235ms/step - loss: 245.6896 - reconstruction_loss: 241.8773 - kl_loss: 3.8123\n",
      "Epoch 33/75\n",
      "83/83 [==============================] - 20s 235ms/step - loss: 245.2918 - reconstruction_loss: 241.3900 - kl_loss: 3.9019\n",
      "Epoch 34/75\n",
      "83/83 [==============================] - 20s 235ms/step - loss: 238.8950 - reconstruction_loss: 234.8494 - kl_loss: 4.0456\n",
      "Epoch 35/75\n",
      "83/83 [==============================] - 20s 235ms/step - loss: 240.9653 - reconstruction_loss: 236.8893 - kl_loss: 4.0760\n",
      "Epoch 36/75\n",
      "83/83 [==============================] - 20s 235ms/step - loss: 237.8383 - reconstruction_loss: 233.6235 - kl_loss: 4.2149\n",
      "Epoch 37/75\n",
      "83/83 [==============================] - 20s 235ms/step - loss: 232.1906 - reconstruction_loss: 227.8620 - kl_loss: 4.3286\n",
      "Epoch 38/75\n"
     ]
    },
    {
     "name": "stdout",
     "output_type": "stream",
     "text": [
      "83/83 [==============================] - 20s 235ms/step - loss: 228.5911 - reconstruction_loss: 224.2059 - kl_loss: 4.3852\n",
      "Epoch 39/75\n",
      "83/83 [==============================] - 20s 236ms/step - loss: 232.2853 - reconstruction_loss: 227.8268 - kl_loss: 4.4585\n",
      "Epoch 40/75\n",
      "83/83 [==============================] - 20s 235ms/step - loss: 221.6817 - reconstruction_loss: 217.1299 - kl_loss: 4.5518\n",
      "Epoch 41/75\n",
      "29/83 [=========>....................] - ETA: 12s - loss: 218.5779 - reconstruction_loss: 213.8113 - kl_loss: 4.7666"
     ]
    }
   ],
   "source": [
    "with strategy.scope():\n",
    "    for f_size in [10]:\n",
    "        for latent_dim in [32]:\n",
    "            filter_size = (f_size, 4)\n",
    "            model_path = os.path.join(model_root, ckpt_num, str(f_size)+'_'+str(latent_dim)+'.h5')\n",
    "            hist_path = os.path.join(model_root, ckpt_num, str(f_size)+'_'+str(latent_dim))\n",
    "            encoder_inputs = keras.Input(shape=input_size)\n",
    "            c1 = layers.Conv2D(256, filter_size, strides=(2, 1), activation=\"relu\", padding=\"same\")(encoder_inputs)\n",
    "            x = layers.Flatten()(c1)\n",
    "            x = layers.Dense(256, activation=\"relu\")(x)\n",
    "            z_mean = layers.Dense(latent_dim, name=\"z_mean\")(x)\n",
    "            z_log_var = layers.Dense(latent_dim, name=\"z_log_var\")(x)\n",
    "            z = Sampling()([z_mean, z_log_var])\n",
    "            encoder = keras.Model(encoder_inputs, [z_mean, z_log_var, z], name=\"encoder\")\n",
    "            print(encoder.summary())\n",
    "            \n",
    "            latent_inputs = keras.Input(shape=(latent_dim,))\n",
    "            x = layers.Dense(75 * 4 * 256, activation=\"relu\")(latent_inputs)\n",
    "            x = layers.Reshape((75, 4, 256))(x)\n",
    "#             x = layers.Conv2DTranspose(256, filter_size, strides=(2, 1), activation=\"sigmoid\", padding=\"same\")(x)\n",
    "#             x = layers.Cropping2D(cropping=((0, 1), (0, 0)))(x)\n",
    "            x = layers.Conv2DTranspose(256, filter_size, strides=(2, 1), activation=\"relu\", padding=\"same\")(x)\n",
    "            decoder_outputs = layers.Conv2D(1, filter_size, activation=\"sigmoid\", padding=\"same\")(x)\n",
    "            decoder = keras.Model([latent_inputs], decoder_outputs, name=\"decoder\")\n",
    "            print(decoder.summary())\n",
    "            \n",
    "            vae = VAE(encoder, decoder)\n",
    "            vae.compile(optimizer=keras.optimizers.Adam(0.001))\n",
    "            history = vae.fit(train_reads, epochs=epochs, batch_size=batch_size, verbose =1)\n",
    "            with open(hist_path, 'wb') as f:\n",
    "                pickle.dump(history.history, f)\n",
    "            encoder.save(model_path)\n",
    "            \n",
    "            fig, ax1 = plt.subplots()\n",
    "            ax1.plot(history.history['reconstruction_loss'], color='green')\n",
    "            ax1.plot(history.history['loss'], color='red')\n",
    "\n",
    "\n",
    "            ax2 = ax1.twinx()\n",
    "            ax2.plot(history.history['kl_loss'])\n",
    "            plot_path = os.path.join(plot_root, str(f_size)+'_'+str(latent_dim)+'_loss''.png')\n",
    "            plt.savefig(plot_path)"
   ]
  },
  {
   "cell_type": "code",
   "execution_count": 14,
   "metadata": {},
   "outputs": [
    {
     "name": "stdout",
     "output_type": "stream",
     "text": [
      "(105492, 2)\n"
     ]
    }
   ],
   "source": [
    "easy_1 = assign_labels(read_fasta(test_root + test_sets[0]), True)\n",
    "test_reads_1 = np.array(seqs2onehot(np.array(easy_1.seqs)))\n",
    "test_reads_1 = np.delete(test_reads_1, 3, axis=2)\n",
    "test_reads_1 = np.expand_dims(test_reads_1, -1)"
   ]
  },
  {
   "cell_type": "code",
   "execution_count": 15,
   "metadata": {},
   "outputs": [],
   "source": [
    "r1 = vae.predict(test_reads_1, verbose=1)"
   ]
  },
  {
   "cell_type": "code",
   "execution_count": 19,
   "metadata": {},
   "outputs": [
    {
     "name": "stdout",
     "output_type": "stream",
     "text": [
      "3297/3297 [==============================] - 162s 49ms/step\n"
     ]
    }
   ],
   "source": [
    "r2 = encoder.predict(test_reads_1, verbose=1)"
   ]
  },
  {
   "cell_type": "code",
   "execution_count": 20,
   "metadata": {},
   "outputs": [
    {
     "ename": "AttributeError",
     "evalue": "'list' object has no attribute 'shape'",
     "output_type": "error",
     "traceback": [
      "\u001b[0;31m---------------------------------------------------------------------------\u001b[0m",
      "\u001b[0;31mAttributeError\u001b[0m                            Traceback (most recent call last)",
      "\u001b[0;32m<ipython-input-20-ca0e4230f416>\u001b[0m in \u001b[0;36m<module>\u001b[0;34m\u001b[0m\n\u001b[0;32m----> 1\u001b[0;31m \u001b[0mr2\u001b[0m\u001b[0;34m.\u001b[0m\u001b[0mshape\u001b[0m\u001b[0;34m\u001b[0m\u001b[0;34m\u001b[0m\u001b[0m\n\u001b[0m",
      "\u001b[0;31mAttributeError\u001b[0m: 'list' object has no attribute 'shape'"
     ]
    }
   ],
   "source": [
    "r2.shape"
   ]
  },
  {
   "cell_type": "code",
   "execution_count": 16,
   "metadata": {},
   "outputs": [
    {
     "data": {
      "image/png": "[encoded data removed]",
      "text/plain": [
       "<Figure size 432x288 with 1 Axes>"
      ]
     },
     "metadata": {
      "needs_background": "light"
     },
     "output_type": "display_data"
    }
   ],
   "source": [
    "vclass = 1\n",
    "l = keras.losses.binary_crossentropy(test_reads_1[np.array(easy_1.viral==vclass)], r1[np.array(easy_1.viral==vclass)])\n",
    "x = tf.reduce_mean(l, [1,2])*600\n",
    "plt.hist(np.array(x)); plt.show()"
   ]
  },
  {
   "cell_type": "code",
   "execution_count": 17,
   "metadata": {},
   "outputs": [
    {
     "data": {
      "image/png": "[encoded data removed]",
      "text/plain": [
       "<Figure size 432x288 with 1 Axes>"
      ]
     },
     "metadata": {
      "needs_background": "light"
     },
     "output_type": "display_data"
    }
   ],
   "source": [
    "vclass = 2\n",
    "l = keras.losses.binary_crossentropy(test_reads_1[np.array(easy_1.viral==vclass)], r1[np.array(easy_1.viral==vclass)])\n",
    "x = tf.reduce_mean(l, [1,2])*600\n",
    "plt.hist(np.array(x)); plt.show()"
   ]
  },
  {
   "cell_type": "code",
   "execution_count": 18,
   "metadata": {},
   "outputs": [
    {
     "data": {
      "image/png": "[encoded data removed]",
      "text/plain": [
       "<Figure size 432x288 with 1 Axes>"
      ]
     },
     "metadata": {
      "needs_background": "light"
     },
     "output_type": "display_data"
    }
   ],
   "source": [
    "vclass = 0\n",
    "l = keras.losses.binary_crossentropy(test_reads_1[np.array(easy_1.viral==vclass)], r1[np.array(easy_1.viral==vclass)])\n",
    "x = tf.reduce_mean(l, [1,2])*600\n",
    "plt.hist(np.array(x)); plt.show()"
   ]
  },
  {
   "cell_type": "code",
   "execution_count": null,
   "metadata": {},
   "outputs": [],
   "source": []
  }
 ],
 "metadata": {
  "kernelspec": {
   "display_name": "Python 3",
   "language": "python",
   "name": "python3"
  },
  "language_info": {
   "codemirror_mode": {
    "name": "ipython",
    "version": 3
   },
   "file_extension": ".py",
   "mimetype": "text/x-python",
   "name": "python",
   "nbconvert_exporter": "python",
   "pygments_lexer": "ipython3",
   "version": "3.7.7"
  }
 },
 "nbformat": 4,
 "nbformat_minor": 4
}
