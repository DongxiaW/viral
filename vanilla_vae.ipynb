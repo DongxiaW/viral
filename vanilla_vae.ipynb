{
 "cells": [
  {
   "cell_type": "code",
   "execution_count": 5,
   "metadata": {},
   "outputs": [],
   "source": [
    "import warnings\n",
    "warnings.simplefilter(action='ignore')\n",
    "import numpy as np\n",
    "from matplotlib import pyplot as plt\n",
    "import pandas as pd\n",
    "import re, random, pickle, glob, os, difflib\n",
    "import tensorflow as tf\n",
    "import numpy as np\n",
    "from tensorflow import keras\n",
    "import tensorflow.keras.backend as K\n",
    "from tensorflow.keras import layers\n",
    "from tensorflow.keras.layers import *\n",
    "from tensorflow.keras.models import Sequential, load_model, Model\n",
    "from tensorflow.keras.callbacks import EarlyStopping, ModelCheckpoint\n",
    "from sklearn.model_selection import StratifiedKFold\n",
    "from utils import *\n",
    "\n",
    "# os.environ[\"CUDA_DEVICE_ORDER\"]=\"PCI_BUS_ID\"\n",
    "# os.environ[\"CUDA_VISIBLE_DEVICES\"]=\"0,1,2,3\" "
   ]
  },
  {
   "cell_type": "code",
   "execution_count": 6,
   "metadata": {},
   "outputs": [
    {
     "name": "stdout",
     "output_type": "stream",
     "text": [
      "2.3.1\n"
     ]
    }
   ],
   "source": [
    "print(tf.__version__)"
   ]
  },
  {
   "cell_type": "code",
   "execution_count": 7,
   "metadata": {},
   "outputs": [],
   "source": [
    "train_root = 'train/'\n",
    "test_root = 'test/'\n",
    "model_root = 'models/'\n",
    "plot_root = 'plots/'\n",
    "train_set = ['x10_reads.fa']\n",
    "test_sets = ['test_easy_1.fa', 'test_easy_2.fa', 'test_intermidate_1.fa', 'test_intermidate_2.fa', 'test_difficult_1.fa', \n",
    "             'test_difficult_2.fa', 'test_very_difficult_1.fa', 'test_very_difficult_2.fa']"
   ]
  },
  {
   "cell_type": "code",
   "execution_count": 10,
   "metadata": {},
   "outputs": [],
   "source": [
    "df = read_fasta(test_root + test_sets[0])\n",
    "train_reads_original = np.array(seqs2onehot(np.array(df.seqs)))"
   ]
  },
  {
   "cell_type": "code",
   "execution_count": 11,
   "metadata": {},
   "outputs": [],
   "source": [
    "train_reads = np.delete(train_reads_original,3,axis=2)"
   ]
  },
  {
   "cell_type": "code",
   "execution_count": 12,
   "metadata": {},
   "outputs": [
    {
     "data": {
      "text/plain": [
       "(105492, 150, 4, 1)"
      ]
     },
     "execution_count": 12,
     "metadata": {},
     "output_type": "execute_result"
    }
   ],
   "source": [
    "train_reads = np.expand_dims(train_reads, -1)\n",
    "train_reads.shape"
   ]
  },
  {
   "cell_type": "code",
   "execution_count": 13,
   "metadata": {},
   "outputs": [],
   "source": [
    "class Sampling(layers.Layer):\n",
    "    \"\"\"Uses (z_mean, z_log_var) to sample z, the vector encoding a digit.\"\"\"\n",
    "\n",
    "    def call(self, inputs):\n",
    "        z_mean, z_log_var = inputs\n",
    "        batch = tf.shape(z_mean)[0]\n",
    "        dim = tf.shape(z_mean)[1]\n",
    "        epsilon = tf.keras.backend.random_normal(shape=(batch, dim))\n",
    "        output = z_mean + tf.exp(0.5 * z_log_var) * epsilon\n",
    "        return output"
   ]
  },
  {
   "cell_type": "code",
   "execution_count": 14,
   "metadata": {},
   "outputs": [],
   "source": [
    "class VAE(keras.Model):\n",
    "    def __init__(self, encoder, decoder, **kwargs):\n",
    "        super(VAE, self).__init__(**kwargs)\n",
    "        self.encoder = encoder\n",
    "        self.decoder = decoder\n",
    "\n",
    "    def train_step(self, data):\n",
    "        if isinstance(data, tuple):\n",
    "            data = data[0]\n",
    "        with tf.GradientTape() as tape:\n",
    "            z_mean, z_log_var, z = encoder(data)\n",
    "            reconstruction = decoder(z)\n",
    "            reconstruction_loss = tf.reduce_mean(\n",
    "                keras.losses.binary_crossentropy(data, reconstruction)\n",
    "            )\n",
    "            reconstruction_loss *= 150 * 4\n",
    "            kl_loss = 1 + z_log_var - tf.square(z_mean) - tf.exp(z_log_var)\n",
    "            kl_loss = -1*tf.reduce_mean(kl_loss)\n",
    "            total_loss = reconstruction_loss + kl_loss\n",
    "        grads = tape.gradient(total_loss, self.trainable_weights)\n",
    "        self.optimizer.apply_gradients(zip(grads, self.trainable_weights))\n",
    "        return {\n",
    "            \"loss\": total_loss,\n",
    "            \"reconstruction_loss\": reconstruction_loss,\n",
    "            \"kl_loss\": kl_loss,\n",
    "        }\n",
    "    \n",
    "    def call(self, x):\n",
    "        x = self.encoder(x)\n",
    "        return self.decoder(x)"
   ]
  },
  {
   "cell_type": "code",
   "execution_count": 15,
   "metadata": {},
   "outputs": [
    {
     "name": "stdout",
     "output_type": "stream",
     "text": [
      "INFO:tensorflow:Using MirroredStrategy with devices ('/job:localhost/replica:0/task:0/device:GPU:0', '/job:localhost/replica:0/task:0/device:GPU:1', '/job:localhost/replica:0/task:0/device:GPU:2', '/job:localhost/replica:0/task:0/device:GPU:3', '/job:localhost/replica:0/task:0/device:GPU:4', '/job:localhost/replica:0/task:0/device:GPU:5', '/job:localhost/replica:0/task:0/device:GPU:6', '/job:localhost/replica:0/task:0/device:GPU:7')\n"
     ]
    }
   ],
   "source": [
    "strategy = tf.distribute.MirroredStrategy()"
   ]
  },
  {
   "cell_type": "code",
   "execution_count": 18,
   "metadata": {},
   "outputs": [],
   "source": [
    "latent_dim = 32\n",
    "width = 128\n",
    "input_size = (150,4,1)\n",
    "filter_size = (5, 4) \n",
    "epochs = 75\n",
    "batch_size = 1024"
   ]
  },
  {
   "cell_type": "code",
   "execution_count": 17,
   "metadata": {},
   "outputs": [],
   "source": [
    "ckpt_num = 'vanilla_vae'\n",
    "ckpt_dir = os.path.join(model_root, ckpt_num, '')\n",
    "if (os.path.isdir(ckpt_dir) == False):\n",
    "    os.mkdir(os.path.join(ckpt_dir, ''))"
   ]
  },
  {
   "cell_type": "code",
   "execution_count": 20,
   "metadata": {
    "scrolled": true
   },
   "outputs": [
    {
     "name": "stdout",
     "output_type": "stream",
     "text": [
      "Model: \"decoder\"\n",
      "_________________________________________________________________\n",
      "Layer (type)                 Output Shape              Param #   \n",
      "=================================================================\n",
      "input_4 (InputLayer)         [(None, 8)]               0         \n",
      "_________________________________________________________________\n",
      "dense_3 (Dense)              (None, 9728)              87552     \n",
      "_________________________________________________________________\n",
      "reshape_1 (Reshape)          (None, 19, 4, 128)        0         \n",
      "_________________________________________________________________\n",
      "conv2d_transpose_3 (Conv2DTr (None, 38, 4, 128)        655488    \n",
      "_________________________________________________________________\n",
      "conv2d_transpose_4 (Conv2DTr (None, 76, 4, 128)        655488    \n",
      "_________________________________________________________________\n",
      "batch_normalization_3 (Batch (None, 76, 4, 128)        512       \n",
      "_________________________________________________________________\n",
      "cropping2d_1 (Cropping2D)    (None, 75, 4, 128)        0         \n",
      "_________________________________________________________________\n",
      "conv2d_transpose_5 (Conv2DTr (None, 150, 4, 128)       655488    \n",
      "_________________________________________________________________\n",
      "conv2d_7 (Conv2D)            (None, 150, 4, 1)         5121      \n",
      "=================================================================\n",
      "Total params: 2,059,649\n",
      "Trainable params: 2,059,393\n",
      "Non-trainable params: 256\n",
      "_________________________________________________________________\n",
      "None\n",
      "Epoch 1/75\n",
      "INFO:tensorflow:batch_all_reduce: 26 all-reduces with algorithm = nccl, num_packs = 1\n",
      "INFO:tensorflow:batch_all_reduce: 26 all-reduces with algorithm = nccl, num_packs = 1\n",
      "104/104 [==============================] - 9s 84ms/step - loss: 356.1490 - reconstruction_loss: 352.2160 - kl_loss: 3.9330\n",
      "Epoch 2/75\n",
      "104/104 [==============================] - 9s 83ms/step - loss: 334.9008 - reconstruction_loss: 334.6233 - kl_loss: 0.2775\n",
      "Epoch 3/75\n",
      "104/104 [==============================] - 9s 83ms/step - loss: 334.4193 - reconstruction_loss: 334.4078 - kl_loss: 0.0115\n",
      "Epoch 4/75\n",
      "104/104 [==============================] - 9s 83ms/step - loss: 334.3273 - reconstruction_loss: 334.3226 - kl_loss: 0.0047\n",
      "Epoch 5/75\n",
      "104/104 [==============================] - 9s 83ms/step - loss: 334.3368 - reconstruction_loss: 334.3340 - kl_loss: 0.0027\n",
      "Epoch 6/75\n",
      "104/104 [==============================] - 9s 83ms/step - loss: 334.4370 - reconstruction_loss: 334.4364 - kl_loss: 6.1206e-04\n",
      "Epoch 7/75\n",
      "104/104 [==============================] - 9s 83ms/step - loss: 334.3618 - reconstruction_loss: 334.3602 - kl_loss: 0.0015\n",
      "Epoch 8/75\n",
      "104/104 [==============================] - 9s 83ms/step - loss: 334.2929 - reconstruction_loss: 334.2927 - kl_loss: 2.3994e-04\n",
      "Epoch 9/75\n",
      "104/104 [==============================] - 9s 84ms/step - loss: 334.2900 - reconstruction_loss: 334.2897 - kl_loss: 3.8549e-04\n",
      "Epoch 10/75\n",
      "104/104 [==============================] - 9s 83ms/step - loss: 334.4434 - reconstruction_loss: 334.4432 - kl_loss: 1.6338e-04\n",
      "Epoch 11/75\n",
      "104/104 [==============================] - 9s 83ms/step - loss: 334.2919 - reconstruction_loss: 334.2915 - kl_loss: 3.7414e-04\n",
      "Epoch 12/75\n",
      "104/104 [==============================] - 9s 83ms/step - loss: 334.2242 - reconstruction_loss: 334.2240 - kl_loss: 2.3471e-04\n",
      "Epoch 13/75\n",
      "104/104 [==============================] - 9s 83ms/step - loss: 334.5376 - reconstruction_loss: 334.5374 - kl_loss: 2.3990e-04\n",
      "Epoch 14/75\n",
      "104/104 [==============================] - 9s 83ms/step - loss: 334.5615 - reconstruction_loss: 334.5612 - kl_loss: 2.0885e-04\n",
      "Epoch 15/75\n",
      "104/104 [==============================] - 9s 83ms/step - loss: 334.3798 - reconstruction_loss: 334.3796 - kl_loss: 2.0379e-04\n",
      "Epoch 16/75\n",
      "104/104 [==============================] - 9s 83ms/step - loss: 334.3263 - reconstruction_loss: 334.3262 - kl_loss: 1.1930e-04\n",
      "Epoch 17/75\n",
      "104/104 [==============================] - 9s 83ms/step - loss: 334.2995 - reconstruction_loss: 334.2994 - kl_loss: 8.0543e-05\n",
      "Epoch 18/75\n",
      "104/104 [==============================] - 9s 83ms/step - loss: 334.3842 - reconstruction_loss: 334.3841 - kl_loss: 1.2496e-04\n",
      "Epoch 19/75\n",
      "104/104 [==============================] - 9s 83ms/step - loss: 334.3587 - reconstruction_loss: 334.3587 - kl_loss: 6.5830e-05\n",
      "Epoch 20/75\n",
      "104/104 [==============================] - 9s 84ms/step - loss: 334.5267 - reconstruction_loss: 334.5266 - kl_loss: 6.5019e-05\n",
      "Epoch 21/75\n",
      "104/104 [==============================] - 9s 84ms/step - loss: 334.4484 - reconstruction_loss: 334.4482 - kl_loss: 2.2660e-04\n",
      "Epoch 22/75\n",
      "104/104 [==============================] - 9s 84ms/step - loss: 334.2211 - reconstruction_loss: 334.2211 - kl_loss: 3.8765e-05\n",
      "Epoch 23/75\n",
      "104/104 [==============================] - 9s 83ms/step - loss: 334.3293 - reconstruction_loss: 334.3291 - kl_loss: 1.3323e-04\n",
      "Epoch 24/75\n",
      "104/104 [==============================] - 9s 84ms/step - loss: 334.4104 - reconstruction_loss: 334.4103 - kl_loss: 1.2376e-04\n",
      "Epoch 25/75\n",
      "104/104 [==============================] - 9s 83ms/step - loss: 334.4708 - reconstruction_loss: 334.4707 - kl_loss: 5.8118e-05\n",
      "Epoch 26/75\n",
      "104/104 [==============================] - 9s 84ms/step - loss: 334.2755 - reconstruction_loss: 334.2753 - kl_loss: 1.5013e-04\n",
      "Epoch 27/75\n",
      "104/104 [==============================] - 9s 84ms/step - loss: 334.2803 - reconstruction_loss: 334.2803 - kl_loss: 5.5526e-05\n",
      "Epoch 28/75\n",
      "104/104 [==============================] - 9s 84ms/step - loss: 334.6050 - reconstruction_loss: 334.6049 - kl_loss: 5.0310e-05\n",
      "Epoch 29/75\n",
      "104/104 [==============================] - 9s 84ms/step - loss: 334.4610 - reconstruction_loss: 334.4608 - kl_loss: 2.2266e-04\n",
      "Epoch 30/75\n",
      "104/104 [==============================] - 9s 84ms/step - loss: 334.3247 - reconstruction_loss: 334.3246 - kl_loss: 8.8142e-05\n",
      "Epoch 31/75\n",
      "104/104 [==============================] - 9s 84ms/step - loss: 334.2786 - reconstruction_loss: 334.2785 - kl_loss: 4.9206e-05\n",
      "Epoch 32/75\n",
      "104/104 [==============================] - 9s 84ms/step - loss: 334.2430 - reconstruction_loss: 334.2430 - kl_loss: 3.1806e-05\n",
      "Epoch 33/75\n",
      "104/104 [==============================] - 9s 84ms/step - loss: 334.3713 - reconstruction_loss: 334.3713 - kl_loss: 4.3139e-05\n",
      "Epoch 34/75\n",
      "104/104 [==============================] - 9s 84ms/step - loss: 334.4948 - reconstruction_loss: 334.4948 - kl_loss: 2.8997e-05\n",
      "Epoch 35/75\n",
      "104/104 [==============================] - 9s 84ms/step - loss: 334.2168 - reconstruction_loss: 334.2167 - kl_loss: 3.2922e-05\n",
      "Epoch 36/75\n",
      "104/104 [==============================] - 9s 84ms/step - loss: 334.3437 - reconstruction_loss: 334.3431 - kl_loss: 5.9026e-04\n",
      "Epoch 37/75\n",
      "104/104 [==============================] - 9s 84ms/step - loss: 334.2564 - reconstruction_loss: 334.2564 - kl_loss: 1.8919e-05\n",
      "Epoch 38/75\n",
      "104/104 [==============================] - 9s 84ms/step - loss: 334.5226 - reconstruction_loss: 334.5226 - kl_loss: 4.2452e-05\n",
      "Epoch 39/75\n",
      "104/104 [==============================] - 9s 84ms/step - loss: 334.1850 - reconstruction_loss: 334.1850 - kl_loss: 1.7283e-05\n",
      "Epoch 40/75\n",
      "104/104 [==============================] - 9s 84ms/step - loss: 334.5249 - reconstruction_loss: 334.5249 - kl_loss: 2.6001e-05\n",
      "Epoch 41/75\n",
      "104/104 [==============================] - 9s 84ms/step - loss: 334.4025 - reconstruction_loss: 334.4025 - kl_loss: 3.7111e-05\n",
      "Epoch 42/75\n",
      "104/104 [==============================] - 9s 84ms/step - loss: 334.3135 - reconstruction_loss: 334.3134 - kl_loss: 1.4956e-05\n",
      "Epoch 43/75\n",
      "104/104 [==============================] - 9s 84ms/step - loss: 334.3763 - reconstruction_loss: 334.3762 - kl_loss: 1.7169e-05\n",
      "Epoch 44/75\n",
      "104/104 [==============================] - 9s 84ms/step - loss: 334.3336 - reconstruction_loss: 334.3336 - kl_loss: 2.3545e-05\n",
      "Epoch 45/75\n",
      "104/104 [==============================] - 9s 84ms/step - loss: 334.4161 - reconstruction_loss: 334.4160 - kl_loss: 1.8616e-05\n",
      "Epoch 46/75\n",
      "104/104 [==============================] - 9s 84ms/step - loss: 334.1165 - reconstruction_loss: 334.1165 - kl_loss: 1.2557e-05\n",
      "Epoch 47/75\n"
     ]
    },
    {
     "name": "stdout",
     "output_type": "stream",
     "text": [
      "104/104 [==============================] - 9s 84ms/step - loss: 334.2892 - reconstruction_loss: 334.2892 - kl_loss: 1.4063e-05\n",
      "Epoch 48/75\n",
      "104/104 [==============================] - 9s 84ms/step - loss: 334.4511 - reconstruction_loss: 334.4510 - kl_loss: 1.4484e-05\n",
      "Epoch 49/75\n",
      "104/104 [==============================] - 9s 84ms/step - loss: 334.2769 - reconstruction_loss: 334.2768 - kl_loss: 1.2306e-05\n",
      "Epoch 50/75\n",
      "104/104 [==============================] - 9s 84ms/step - loss: 334.4080 - reconstruction_loss: 334.4080 - kl_loss: 2.0230e-05\n",
      "Epoch 51/75\n",
      "104/104 [==============================] - 9s 84ms/step - loss: 334.2541 - reconstruction_loss: 334.2541 - kl_loss: 2.6501e-05\n",
      "Epoch 52/75\n",
      "104/104 [==============================] - 9s 84ms/step - loss: 334.4374 - reconstruction_loss: 334.4374 - kl_loss: 1.6891e-05\n",
      "Epoch 53/75\n",
      "104/104 [==============================] - 9s 84ms/step - loss: 334.2579 - reconstruction_loss: 334.2578 - kl_loss: 2.5157e-05\n",
      "Epoch 54/75\n",
      "104/104 [==============================] - 9s 84ms/step - loss: 334.2554 - reconstruction_loss: 334.2554 - kl_loss: 2.1649e-05\n",
      "Epoch 55/75\n",
      "104/104 [==============================] - 9s 84ms/step - loss: 334.3656 - reconstruction_loss: 334.3656 - kl_loss: 3.4904e-05\n",
      "Epoch 56/75\n",
      "104/104 [==============================] - 9s 84ms/step - loss: 334.3639 - reconstruction_loss: 334.3639 - kl_loss: 1.6118e-05\n",
      "Epoch 57/75\n",
      "104/104 [==============================] - 9s 84ms/step - loss: 334.3811 - reconstruction_loss: 334.3811 - kl_loss: 3.7906e-05\n",
      "Epoch 58/75\n",
      "104/104 [==============================] - 9s 84ms/step - loss: 334.3156 - reconstruction_loss: 334.3155 - kl_loss: 5.3034e-05\n",
      "Epoch 59/75\n",
      "104/104 [==============================] - 9s 84ms/step - loss: 334.4905 - reconstruction_loss: 334.4904 - kl_loss: 1.3365e-05\n",
      "Epoch 60/75\n",
      "104/104 [==============================] - 9s 84ms/step - loss: 334.2843 - reconstruction_loss: 334.2843 - kl_loss: 1.9296e-05\n",
      "Epoch 61/75\n",
      "104/104 [==============================] - 9s 84ms/step - loss: 334.3663 - reconstruction_loss: 334.3663 - kl_loss: 2.9138e-05\n",
      "Epoch 62/75\n",
      "104/104 [==============================] - 9s 84ms/step - loss: 334.4239 - reconstruction_loss: 334.4239 - kl_loss: 2.0312e-05\n",
      "Epoch 63/75\n",
      "104/104 [==============================] - 9s 84ms/step - loss: 334.4688 - reconstruction_loss: 334.4688 - kl_loss: 2.7299e-05\n",
      "Epoch 64/75\n",
      "104/104 [==============================] - 9s 84ms/step - loss: 334.4614 - reconstruction_loss: 334.4613 - kl_loss: 3.0920e-05\n",
      "Epoch 65/75\n",
      "104/104 [==============================] - 9s 84ms/step - loss: 334.2701 - reconstruction_loss: 334.2701 - kl_loss: 4.2151e-05\n",
      "Epoch 66/75\n",
      "104/104 [==============================] - 9s 84ms/step - loss: 334.5611 - reconstruction_loss: 334.5611 - kl_loss: 2.8775e-05\n",
      "Epoch 67/75\n",
      "104/104 [==============================] - 9s 84ms/step - loss: 334.3622 - reconstruction_loss: 334.3622 - kl_loss: 2.2509e-05\n",
      "Epoch 68/75\n",
      "104/104 [==============================] - 9s 84ms/step - loss: 334.1592 - reconstruction_loss: 334.1591 - kl_loss: 4.9760e-05\n",
      "Epoch 69/75\n",
      "104/104 [==============================] - 9s 84ms/step - loss: 334.3712 - reconstruction_loss: 334.3711 - kl_loss: 5.2055e-05\n",
      "Epoch 70/75\n",
      "104/104 [==============================] - 9s 84ms/step - loss: 334.2945 - reconstruction_loss: 334.2945 - kl_loss: 1.7308e-05\n",
      "Epoch 71/75\n",
      "104/104 [==============================] - 9s 84ms/step - loss: 334.2471 - reconstruction_loss: 334.2471 - kl_loss: 1.4019e-05\n",
      "Epoch 72/75\n",
      "104/104 [==============================] - 9s 84ms/step - loss: 334.3509 - reconstruction_loss: 334.3509 - kl_loss: 1.6874e-05\n",
      "Epoch 73/75\n",
      "104/104 [==============================] - 9s 84ms/step - loss: 334.3136 - reconstruction_loss: 334.3135 - kl_loss: 1.9353e-05\n",
      "Epoch 74/75\n",
      "104/104 [==============================] - 9s 84ms/step - loss: 334.2355 - reconstruction_loss: 334.2355 - kl_loss: 1.7978e-05\n",
      "Epoch 75/75\n",
      "104/104 [==============================] - 9s 84ms/step - loss: 334.2748 - reconstruction_loss: 334.2748 - kl_loss: 1.7792e-05\n"
     ]
    },
    {
     "data": {
      "image/png": "[encoded data removed]",
      "text/plain": [
       "<Figure size 432x288 with 2 Axes>"
      ]
     },
     "metadata": {
      "needs_background": "light"
     },
     "output_type": "display_data"
    }
   ],
   "source": [
    "with strategy.scope():\n",
    "    for f_size in [10]:\n",
    "        for latent_dim in [8]:\n",
    "            filter_size = (f_size, 4)\n",
    "            model_path = os.path.join(model_root, ckpt_num, str(f_size)+'_'+str(latent_dim)+'.h5')\n",
    "            hist_path = os.path.join(model_root, ckpt_num, str(f_size)+'_'+str(latent_dim))\n",
    "            encoder_inputs = keras.Input(shape=input_size)\n",
    "            x = layers.Conv2D(width, filter_size, activation=\"sigmoid\", strides=(2,1), padding=\"same\")(encoder_inputs)\n",
    "            x = layers.Conv2D(width, filter_size, activation=\"sigmoid\", strides=(2,1), padding=\"same\")(x)\n",
    "            x = layers.BatchNormalization()(x)\n",
    "            x = layers.Conv2D(width, filter_size, activation=\"sigmoid\", strides=(2,1), padding=\"same\")(x)\n",
    "            x = layers.Flatten()(x)\n",
    "            x = layers.Dense(width, activation=\"relu\")(x)\n",
    "            z_mean = layers.Dense(latent_dim, name=\"z_mean\")(x)\n",
    "            z_log_var = layers.Dense(latent_dim, name=\"z_log_var\")(x)\n",
    "            z = Sampling()([z_mean, z_log_var])\n",
    "            encoder = keras.Model(encoder_inputs, [z_mean, z_log_var, z], name=\"encoder\")\n",
    "\n",
    "            latent_inputs = keras.Input(shape=(latent_dim,))\n",
    "            x = layers.Dense(19 * 4 * width, activation=\"relu\")(latent_inputs)\n",
    "            x = layers.Reshape((19, 4, width))(x)\n",
    "            x = layers.Conv2DTranspose(width, filter_size, strides=(2, 1), padding=\"same\")(x)\n",
    "            x = layers.Conv2DTranspose(width, filter_size, strides=(2, 1), padding=\"same\")(x)\n",
    "            x = layers.BatchNormalization()(x)\n",
    "            x = layers.Cropping2D(cropping=((0, 1), (0, 0)))(x)\n",
    "            x = layers.Conv2DTranspose(width, filter_size, strides=(2, 1), padding=\"same\")(x)\n",
    "            decoder_outputs = layers.Conv2D(1, filter_size, activation=\"sigmoid\", padding=\"same\")(x)\n",
    "            decoder = keras.Model(latent_inputs, decoder_outputs, name=\"decoder\")\n",
    "            print(decoder.summary())\n",
    "            vae = VAE(encoder, decoder)\n",
    "            vae.compile(optimizer=keras.optimizers.Adam(0.0007))\n",
    "            history = vae.fit(train_reads, epochs=epochs, batch_size=batch_size, verbose =1)\n",
    "            with open(hist_path, 'wb') as f:\n",
    "                pickle.dump(history.history, f)\n",
    "            encoder.save(model_path)\n",
    "            \n",
    "            fig, ax1 = plt.subplots()\n",
    "            ax1.plot(history.history['reconstruction_loss'], color='green')\n",
    "            ax1.plot(history.history['loss'], color='red')\n",
    "\n",
    "\n",
    "            ax2 = ax1.twinx()\n",
    "            ax2.plot(history.history['kl_loss'])\n",
    "            plot_path = os.path.join(plot_root, str(f_size)+'_'+str(latent_dim)+'_loss''.png')\n",
    "            plt.savefig(plot_path)"
   ]
  },
  {
   "cell_type": "code",
   "execution_count": null,
   "metadata": {},
   "outputs": [],
   "source": []
  }
 ],
 "metadata": {
  "kernelspec": {
   "display_name": "Python 3",
   "language": "python",
   "name": "python3"
  },
  "language_info": {
   "codemirror_mode": {
    "name": "ipython",
    "version": 3
   },
   "file_extension": ".py",
   "mimetype": "text/x-python",
   "name": "python",
   "nbconvert_exporter": "python",
   "pygments_lexer": "ipython3",
   "version": "3.7.7"
  }
 },
 "nbformat": 4,
 "nbformat_minor": 4
}
