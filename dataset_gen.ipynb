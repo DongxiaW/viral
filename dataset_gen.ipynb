{
 "cells": [
  {
   "cell_type": "code",
   "execution_count": 5,
   "metadata": {},
   "outputs": [],
   "source": [
    "import warnings\n",
    "warnings.simplefilter(action='ignore')\n",
    "from Bio import SeqIO\n",
    "import numpy as np\n",
    "from tqdm import tqdm\n",
    "import seaborn as sns\n",
    "from matplotlib import pyplot as plt\n",
    "import tensorflow as tf\n",
    "import keras.backend as K\n",
    "import keras\n",
    "import os\n",
    "from keras.layers import Dense, Flatten, Conv2D, Conv1D, MaxPooling2D, Embedding, Input, Dropout, Reshape, Activation\n",
    "from keras.models import Sequential, load_model\n",
    "from keras.utils import multi_gpu_model \n",
    "import matplotlib.pylab as plt\n",
    "from skimage.transform import resize\n",
    "from keras.callbacks import EarlyStopping\n",
    "from sklearn.model_selection import StratifiedKFold\n",
    "from IPython.display import SVG\n",
    "from keras.utils.vis_utils import model_to_dot\n",
    "from tqdm import tnrange\n",
    "tf.logging.set_verbosity(tf.logging.ERROR)"
   ]
  },
  {
   "cell_type": "code",
   "execution_count": 6,
   "metadata": {},
   "outputs": [],
   "source": [
    "def transform(data): #transform sequence into one hot encoding\n",
    "    def one_hot_encode(seq):\n",
    "        mapping = dict(zip(\"acgnt\", range(5)))     \n",
    "        seq2 = [mapping[i] if i in ['a', 't', 'c', 'g', 'n'] else mapping['n'] for i in seq]\n",
    "        return np.eye(5)[seq2]\n",
    "    read_size = 150\n",
    "    seq = one_hot_encode(data[0])\n",
    "    seq = np.expand_dims(seq, axis = -1)\n",
    "    return seq\n",
    "\n",
    "def read_data(root_dir, file):\n",
    "    viral = []\n",
    "    hum = []\n",
    "    file_path = os.path.join(root_dir, file)\n",
    "    for seq_record in SeqIO.parse(file_path, \"fasta\"):\n",
    "        if('v' in seq_record.id):\n",
    "            viral.append(seq_record.seq)\n",
    "        if('chr1' in seq_record.id):\n",
    "            hum.append(seq_record.seq)\n",
    "    return viral, hum"
   ]
  },
  {
   "cell_type": "code",
   "execution_count": 7,
   "metadata": {},
   "outputs": [],
   "source": [
    "root_dir = '/home/ecvol/data/viral/'"
   ]
  },
  {
   "cell_type": "markdown",
   "metadata": {},
   "source": [
    "### Get training reads from viral sequences"
   ]
  },
  {
   "cell_type": "code",
   "execution_count": null,
   "metadata": {},
   "outputs": [],
   "source": [
    "train_seq= []\n",
    "for idx, seq in enumerate(SeqIO.parse(root_dir + \"hpv.fas\", \"fasta\")):\n",
    "    train_seq.append(seq.seq)\n",
    "\n",
    "############################################################################################\n",
    "smallest_len = min(len(i) for i in train_seq)\n",
    "num_reads = 2000\n",
    "read_length = 150\n",
    "rand_reads = np.random.randint(low = 0, high = smallest_len-152, size = num_reads)\n",
    "train_set = np.empty([len(train_seq)*num_reads,read_length, 5, 1], np.int8)\n",
    "train_id = 0\n",
    "for idx, seq in tqdm(enumerate(train_seq), total = len(train_seq)):\n",
    "    for read_start in rand_reads:\n",
    "        read = np.array(seq[read_start:read_start+read_length])\n",
    "        train_set[train_id] = transform(np.expand_dims(read, axis=0))\n",
    "        train_id += 1\n",
    "############################################################################################\n",
    "np.save(root_dir + 'v_ref_reads', train_set) #when loading, call np.random.shuffle()"
   ]
  },
  {
   "cell_type": "markdown",
   "metadata": {},
   "source": [
    "### Get training and test reads from human sequences"
   ]
  },
  {
   "cell_type": "code",
   "execution_count": null,
   "metadata": {},
   "outputs": [],
   "source": [
    "for idx, seq in enumerate(SeqIO.parse(\"./data/hg19full.fa\", \"fasta\")):\n",
    "    chr_seq = seq.seq\n",
    "    break\n",
    "\n",
    "############################################################################################\n",
    "train_seq = chr_seq\n",
    "num_reads = 2000000\n",
    "read_length = 150\n",
    "smallest_len = len(train_seq)\n",
    "rand_reads = np.random.randint(low = 0, high = smallest_len-152, size = num_reads)\n",
    "myfile = open('text.txt', 'w')\n",
    "for idx, read_start in tqdm(enumerate(rand_reads), total=num_reads):\n",
    "    read = str(train_seq[read_start:read_start+read_length]) + '\\n'\n",
    "    myfile.write(read)\n",
    "myfile.close()\n",
    "\n",
    "############################################################################################\n",
    "with open('text.txt') as f:\n",
    "    content = f.readlines()\n",
    "content = [x.strip().lower() for x in content] \n",
    "\n",
    "############################################################################################\n",
    "train_set = np.empty([len(content), read_length, 5, 1], np.int8)\n",
    "for idx, contents in tqdm(enumerate(content), total=len(content)):\n",
    "    train_set[idx] = transform(np.expand_dims((np.array(list(contents))), axis=0))\n",
    "    \n",
    "np.save('./data/h_ref_reads', train_set) #already shuffled"
   ]
  },
  {
   "cell_type": "markdown",
   "metadata": {},
   "source": [
    "### Get test reads from viral sequence"
   ]
  },
  {
   "cell_type": "code",
   "execution_count": 95,
   "metadata": {},
   "outputs": [
    {
     "data": {
      "text/plain": [
       "7722"
      ]
     },
     "execution_count": 95,
     "metadata": {},
     "output_type": "execute_result"
    }
   ],
   "source": [
    "viral_seq = 0\n",
    "for idx, seq in enumerate(SeqIO.parse(\"./data/agpv1.fa\", \"fasta\")):\n",
    "    viral_seq = seq.seq\n",
    "    \n",
    "train_seq = viral_seq\n",
    "num_reads = 10000\n",
    "read_length = 150\n",
    "smallest_len = len(train_seq)\n",
    "rand_reads = np.random.randint(low = 0, high = smallest_len-152, size = num_reads)\n",
    "myfile = open('text.txt', 'w')\n",
    "for idx, read_start in tqdm(enumerate(rand_reads), total=num_reads):\n",
    "    read = str(train_seq[read_start:read_start+read_length]) + '\\n'\n",
    "    myfile.write(read)\n",
    "myfile.close()\n",
    "with open('text.txt') as f:\n",
    "    content = f.readlines()\n",
    "content = [x.strip().lower() for x in content] \n",
    "train_set = np.empty([len(content), read_length, 5, 1], np.int8)\n",
    "for idx, contents in tqdm(enumerate(content), total=len(content)):\n",
    "    train_set[idx] = transform(np.expand_dims((np.array(list(contents))), axis=0))\n",
    "\n",
    "############################################################################################\n",
    "np.save('./data/v_ref_reads_test', train_set) #already shuffled"
   ]
  },
  {
   "cell_type": "markdown",
   "metadata": {},
   "source": [
    "### Create test and training set\n",
    "\n",
    "#### 1 = virus, 0 human"
   ]
  },
  {
   "cell_type": "code",
   "execution_count": 8,
   "metadata": {},
   "outputs": [
    {
     "name": "stdout",
     "output_type": "stream",
     "text": [
      "X_train shape:  (1674000, 150, 5, 1) Y_train shape:  (1674000,) X_test.shape (1010000, 150, 5, 1)\n"
     ]
    }
   ],
   "source": [
    "v_ref_reads = np.load(root_dir + 'v_ref_reads.npy')\n",
    "np.random.shuffle(v_ref_reads)\n",
    "h_ref_reads = np.load(root_dir + 'h_ref_reads.npy')\n",
    "\n",
    "hum_test = h_ref_reads[:1000000]\n",
    "viral_test = np.load(root_dir + 'v_ref_reads_test.npy')\n",
    "X_test = np.concatenate((viral_test, hum_test), axis=0) # 1 = virus, 0 human\n",
    "Y_test = np.array([*np.ones(viral_test.shape[0]), *np.zeros(hum_test.shape[0])])\n",
    "np.save(root_dir+'test_set.npy', X_test)\n",
    "np.save(root_dir+'test_set_label.npy', Y_test)\n",
    "\n",
    "hum_train = h_ref_reads[1000000:]\n",
    "X_train = np.array([*v_ref_reads, *hum_train])\n",
    "Y_train = np.array([*np.ones(v_ref_reads.shape[0]), *np.zeros(hum_train.shape[0])])\n",
    "np.save(root_dir+'train_set.npy', X_train)\n",
    "np.save(root_dir+'train_set_label.npy', Y_train)\n",
    "\n",
    "print(\"X_train shape: \", X_train.shape, \"Y_train shape: \", Y_train.shape, \"X_test.shape\", X_test.shape)"
   ]
  }
 ],
 "metadata": {
  "kernelspec": {
   "display_name": "Python 3",
   "language": "python",
   "name": "python3"
  },
  "language_info": {
   "codemirror_mode": {
    "name": "ipython",
    "version": 3
   },
   "file_extension": ".py",
   "mimetype": "text/x-python",
   "name": "python",
   "nbconvert_exporter": "python",
   "pygments_lexer": "ipython3",
   "version": "3.7.3"
  }
 },
 "nbformat": 4,
 "nbformat_minor": 2
}
