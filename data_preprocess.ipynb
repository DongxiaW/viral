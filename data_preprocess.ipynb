{
 "cells": [
  {
   "cell_type": "code",
   "execution_count": 1,
   "metadata": {},
   "outputs": [],
   "source": [
    "import warnings\n",
    "warnings.simplefilter(action='ignore')\n",
    "from Bio import SeqIO\n",
    "import numpy as np\n",
    "import os, random, re, sys, glob\n",
    "import pandas as pd\n",
    "from Bio.SeqRecord import SeqRecord\n",
    "from Bio.Seq import Seq\n",
    "from utils import *"
   ]
  },
  {
   "cell_type": "code",
   "execution_count": 2,
   "metadata": {},
   "outputs": [],
   "source": [
    "test_root = 'test/'\n",
    "train_root = 'train/'\n",
    "test_sets = ['test_easy_1.fa', 'test_easy_2.fa', 'test_intermidate_1.fa', 'test_intermidate_2.fa', 'test_difficult_1.fa', \n",
    "             'test_difficult_2.fa', 'test_very_difficult_1.fa', 'test_very_difficult_2.fa']\n",
    "train_set = ['x10_reads.fa']"
   ]
  },
  {
   "cell_type": "code",
   "execution_count": 3,
   "metadata": {},
   "outputs": [],
   "source": [
    "train_reads = read_fasta(train_root + train_set[0])"
   ]
  },
  {
   "cell_type": "code",
   "execution_count": 7,
   "metadata": {},
   "outputs": [
    {
     "data": {
      "text/plain": [
       "(242,\n",
       " (105492, 3),\n",
       "                            ID  \\\n",
       " 0  gi|0|lcl|HPV185REF.1|-49/1   \n",
       " 1  gi|0|lcl|HPV185REF.1|-47/1   \n",
       " 2  gi|0|lcl|HPV185REF.1|-45/1   \n",
       " 3  gi|0|lcl|HPV185REF.1|-43/1   \n",
       " 4  gi|0|lcl|HPV185REF.1|-41/1   \n",
       " \n",
       "                                                 seqs  viral  \n",
       " 0  TGTTGTAGAGACTGGGTTGTAACTGTATATGGAGCTAGAGAAGAAT...      1  \n",
       " 1  GTCCTATTTCCATACCTCTTATAGCCCAAACCAAACGCTCCCTATC...      1  \n",
       " 2  CCTCCGGAGCAGTATCTTCACACTCATGGGTTAAAGAGAGCTCAAG...      1  \n",
       " 3  TACTATAATTTGATCAGATAGTGATGCTTCCCCAGTAGTTGGTGTG...      1  \n",
       " 4  GCCTATTTGATAAAATTAGCACCACATGGAGCTGGGTGGGGTCTGA...      1  )"
      ]
     },
     "execution_count": 7,
     "metadata": {},
     "output_type": "execute_result"
    }
   ],
   "source": [
    "df = read_fasta(test_root + test_sets[0])\n",
    "df = assign_labels(df)\n",
    "np.sum(df.viral), df.shape, df.head()"
   ]
  },
  {
   "cell_type": "code",
   "execution_count": 9,
   "metadata": {},
   "outputs": [
    {
     "data": {
      "text/plain": [
       "(242,\n",
       " (105492, 3),\n",
       "                            ID  \\\n",
       " 0  gi|0|lcl|HPV185REF.1|-49/2   \n",
       " 1  gi|0|lcl|HPV185REF.1|-47/2   \n",
       " 2  gi|0|lcl|HPV185REF.1|-45/2   \n",
       " 3  gi|0|lcl|HPV185REF.1|-43/2   \n",
       " 4  gi|0|lcl|HPV185REF.1|-41/2   \n",
       " \n",
       "                                                 seqs  viral  \n",
       " 0  AACGCAGCCATGACACTTCGTAGTTTTGGAGGTTCAGTAAGAATGT...      1  \n",
       " 1  ACATACAAAGAACACACATCTATTATCATGCAAATACAGATCGTCT...      1  \n",
       " 2  TGATGATGGGGATGCTGTTGATAATGCAAGTGTGCAGGGACTTTCC...      1  \n",
       " 3  CAGATACAGGACCTGATTTGTTACCTGGTGAAATTGAGACCATTGC...      1  \n",
       " 4  TACTCTGCGTGCGCGCGCCATACAAAGTATAAAAGTGGGTTAGTTA...      1  )"
      ]
     },
     "execution_count": 9,
     "metadata": {},
     "output_type": "execute_result"
    }
   ],
   "source": [
    "df = read_fasta(test_root + test_sets[1])\n",
    "df = assign_labels(df)\n",
    "np.sum(df.viral), df.shape, df.head()"
   ]
  },
  {
   "cell_type": "code",
   "execution_count": null,
   "metadata": {},
   "outputs": [],
   "source": []
  },
  {
   "cell_type": "code",
   "execution_count": 5,
   "metadata": {},
   "outputs": [],
   "source": [
    "vecs = seqs2onehot(np.array(df.seqs))"
   ]
  },
  {
   "cell_type": "code",
   "execution_count": null,
   "metadata": {},
   "outputs": [],
   "source": []
  }
 ],
 "metadata": {
  "kernelspec": {
   "display_name": "Python 3",
   "language": "python",
   "name": "python3"
  },
  "language_info": {
   "codemirror_mode": {
    "name": "ipython",
    "version": 3
   },
   "file_extension": ".py",
   "mimetype": "text/x-python",
   "name": "python",
   "nbconvert_exporter": "python",
   "pygments_lexer": "ipython3",
   "version": "3.7.7"
  }
 },
 "nbformat": 4,
 "nbformat_minor": 2
}
