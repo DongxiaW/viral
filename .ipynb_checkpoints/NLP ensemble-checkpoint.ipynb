{
 "cells": [
  {
   "cell_type": "code",
   "execution_count": 1,
   "metadata": {},
   "outputs": [
    {
     "name": "stderr",
     "output_type": "stream",
     "text": [
      "Using TensorFlow backend.\n",
      "/opt/conda/lib/python3.7/site-packages/tensorflow/python/framework/dtypes.py:526: FutureWarning: Passing (type, 1) or '1type' as a synonym of type is deprecated; in a future version of numpy, it will be understood as (type, (1,)) / '(1,)type'.\n",
      "  _np_qint8 = np.dtype([(\"qint8\", np.int8, 1)])\n",
      "/opt/conda/lib/python3.7/site-packages/tensorflow/python/framework/dtypes.py:527: FutureWarning: Passing (type, 1) or '1type' as a synonym of type is deprecated; in a future version of numpy, it will be understood as (type, (1,)) / '(1,)type'.\n",
      "  _np_quint8 = np.dtype([(\"quint8\", np.uint8, 1)])\n",
      "/opt/conda/lib/python3.7/site-packages/tensorflow/python/framework/dtypes.py:528: FutureWarning: Passing (type, 1) or '1type' as a synonym of type is deprecated; in a future version of numpy, it will be understood as (type, (1,)) / '(1,)type'.\n",
      "  _np_qint16 = np.dtype([(\"qint16\", np.int16, 1)])\n",
      "/opt/conda/lib/python3.7/site-packages/tensorflow/python/framework/dtypes.py:529: FutureWarning: Passing (type, 1) or '1type' as a synonym of type is deprecated; in a future version of numpy, it will be understood as (type, (1,)) / '(1,)type'.\n",
      "  _np_quint16 = np.dtype([(\"quint16\", np.uint16, 1)])\n",
      "/opt/conda/lib/python3.7/site-packages/tensorflow/python/framework/dtypes.py:530: FutureWarning: Passing (type, 1) or '1type' as a synonym of type is deprecated; in a future version of numpy, it will be understood as (type, (1,)) / '(1,)type'.\n",
      "  _np_qint32 = np.dtype([(\"qint32\", np.int32, 1)])\n",
      "/opt/conda/lib/python3.7/site-packages/tensorflow/python/framework/dtypes.py:535: FutureWarning: Passing (type, 1) or '1type' as a synonym of type is deprecated; in a future version of numpy, it will be understood as (type, (1,)) / '(1,)type'.\n",
      "  np_resource = np.dtype([(\"resource\", np.ubyte, 1)])\n"
     ]
    }
   ],
   "source": [
    "import time, sys, os, re, csv, codecs, numpy as np, pandas as pd\n",
    "np.random.seed(32)\n",
    "# os.environ[\"OMP_NUM_THREADS\"] = \"4\"\n",
    "import seaborn as sns\n",
    "from keras.preprocessing.text import Tokenizer\n",
    "from keras.preprocessing.sequence import pad_sequences\n",
    "from keras.layers import Dense, Input, LSTM, Embedding, Dropout, Activation, Conv1D, GRU, CuDNNGRU, CuDNNLSTM, \\\n",
    "    Bidirectional, GlobalMaxPool1D, MaxPooling1D, Add, Flatten, GlobalAveragePooling1D, GlobalMaxPooling1D, \\\n",
    "    concatenate, SpatialDropout1D, BatchNormalization\n",
    "from keras.callbacks import Callback, EarlyStopping, ModelCheckpoint, LearningRateScheduler\n",
    "from keras.models import Model, load_model\n",
    "from keras import initializers, regularizers, constraints, optimizers, layers, callbacks\n",
    "from keras import backend as K\n",
    "from keras.optimizers import Adam, RMSprop\n",
    "from keras.engine import InputSpec, Layer\n",
    "from keras.utils import multi_gpu_model\n",
    "\n",
    "from Bio import SeqIO\n",
    "import logging\n",
    "from sklearn.metrics import roc_auc_score\n",
    "from sklearn.model_selection import train_test_split,  StratifiedKFold\n",
    "\n",
    "%load_ext autoreload\n",
    "%autoreload 2\n",
    "from IPython.core.interactiveshell import InteractiveShell\n",
    "InteractiveShell.ast_node_interactivity = \"all\""
   ]
  },
  {
   "cell_type": "code",
   "execution_count": 2,
   "metadata": {},
   "outputs": [],
   "source": [
    "X_train = []\n",
    "Y_train = np.load('/home/ecvol/data/viral/train_set/train_1_gt.npy')\n",
    "with open('/home/ecvol/data/viral/train_set/train_1.fa', 'r') as f:\n",
    "    seqs = SeqIO.parse(f, 'fasta')  \n",
    "    for seq in seqs:\n",
    "        X_train.append(seq)\n",
    "        \n",
    "ids = []; texts = []; gt = []\n",
    "for idx, x in enumerate(X_train):\n",
    "    ids.append(x.id)\n",
    "    texts.append(str(x.seq))\n",
    "    gt.append(int(Y_train[idx]))\n",
    "    \n",
    "train = pd.DataFrame(data={'id': ids, 'text':texts, 'gt': gt})"
   ]
  },
  {
   "cell_type": "code",
   "execution_count": 3,
   "metadata": {
    "scrolled": true
   },
   "outputs": [],
   "source": [
    "##########################EASY##########################################################\n",
    "X_test_easy = []\n",
    "with open('/home/ecvol/data/viral/train_set/test_easy.fa', 'r') as f:\n",
    "    seqs = SeqIO.parse(f, 'fasta')  \n",
    "    for seq in seqs:\n",
    "        X_test_easy.append(seq)\n",
    "Y_test_easy = np.load('/home/ecvol/data/viral/train_set/test_easy_gt.npy')\n",
    "\n",
    "ids = []; texts = []; gt = []\n",
    "for idx, x in enumerate(X_test_easy):\n",
    "    ids.append(x.id)\n",
    "    texts.append(str(x.seq))\n",
    "    gt.append(int(Y_test_easy[idx]))\n",
    "\n",
    "test_easy = pd.DataFrame(data={'id': ids, 'text':texts, 'gt': gt})\n",
    "\n",
    "##########################HARD######################################################\n",
    "X_test_hard = []\n",
    "with open('/home/ecvol/data/viral/train_set/test_hard.fa', 'r') as f:\n",
    "    seqs = SeqIO.parse(f, 'fasta')  \n",
    "    for seq in seqs:\n",
    "        X_test_hard.append(seq)\n",
    "Y_test_hard = np.load('/home/ecvol/data/viral/train_set/test_hard_gt.npy')\n",
    "\n",
    "ids = []; texts = []; gt = []\n",
    "for idx, x in enumerate(X_test_hard):\n",
    "    ids.append(x.id)\n",
    "    texts.append(str(x.seq))\n",
    "    gt.append(int(Y_test_hard[idx]))\n",
    "test_hard = pd.DataFrame(data={'id': ids, 'text':texts, 'gt': gt})"
   ]
  },
  {
   "cell_type": "code",
   "execution_count": 4,
   "metadata": {},
   "outputs": [],
   "source": [
    "kfold = StratifiedKFold(n_splits=4, shuffle=True, random_state=4)\n",
    "split = kfold.split(train, train['gt'].values)\n",
    "t_idx, v_idx = next(split)\n",
    "X_train, X_valid, Y_train, Y_valid = train.iloc[t_idx], train.iloc[v_idx], (train['gt'].values)[t_idx], (train['gt'].values)[v_idx]"
   ]
  },
  {
   "cell_type": "code",
   "execution_count": 5,
   "metadata": {},
   "outputs": [
    {
     "name": "stderr",
     "output_type": "stream",
     "text": [
      "/opt/conda/lib/python3.7/site-packages/ipykernel_launcher.py:9: SettingWithCopyWarning: \n",
      "A value is trying to be set on a copy of a slice from a DataFrame.\n",
      "Try using .loc[row_indexer,col_indexer] = value instead\n",
      "\n",
      "See the caveats in the documentation: http://pandas.pydata.org/pandas-docs/stable/indexing.html#indexing-view-versus-copy\n",
      "  if __name__ == '__main__':\n",
      "/opt/conda/lib/python3.7/site-packages/ipykernel_launcher.py:10: SettingWithCopyWarning: \n",
      "A value is trying to be set on a copy of a slice from a DataFrame.\n",
      "Try using .loc[row_indexer,col_indexer] = value instead\n",
      "\n",
      "See the caveats in the documentation: http://pandas.pydata.org/pandas-docs/stable/indexing.html#indexing-view-versus-copy\n",
      "  # Remove the CWD from sys.path while we load stuff.\n"
     ]
    }
   ],
   "source": [
    "max_feat = 5\n",
    "tk = Tokenizer(num_words = max_feat, lower = True, oov_token='n', char_level=True)\n",
    "max_len=150\n",
    "\n",
    "raw_text_train = X_train[\"text\"].str.lower()\n",
    "raw_text_valid = X_valid[\"text\"].str.lower()\n",
    "tk.fit_on_texts(raw_text_train)\n",
    "\n",
    "X_train[\"text\"] = tk.texts_to_sequences(raw_text_train)\n",
    "X_valid[\"text\"] = tk.texts_to_sequences(raw_text_valid)\n",
    "X_train = pad_sequences(X_train.text, maxlen = max_len)\n",
    "X_valid = pad_sequences(X_valid.text, maxlen = max_len)\n",
    "\n",
    "y_easy = test_easy['gt'].values\n",
    "raw_text_test = test_easy[\"text\"].str.lower()\n",
    "test_easy[\"text\"] = tk.texts_to_sequences(raw_text_test)\n",
    "test_easy = pad_sequences(test_easy.text, maxlen = max_len)\n",
    "\n",
    "y_hard = test_hard['gt'].values\n",
    "raw_text_test = test_hard[\"text\"].str.lower()\n",
    "test_hard[\"text\"] = tk.texts_to_sequences(raw_text_test)\n",
    "test_hard = pad_sequences(test_hard.text, maxlen = max_len)"
   ]
  },
  {
   "cell_type": "code",
   "execution_count": 6,
   "metadata": {
    "scrolled": true
   },
   "outputs": [
    {
     "data": {
      "text/plain": [
       "{'n': 6, 'a': 2, 't': 3, 'g': 4, 'c': 5, 'y': 7, 'r': 8, 'k': 9, 'w': 10}"
      ]
     },
     "execution_count": 6,
     "metadata": {},
     "output_type": "execute_result"
    }
   ],
   "source": [
    "word_index = tk.word_index\n",
    "word_index"
   ]
  },
  {
   "cell_type": "code",
   "execution_count": 7,
   "metadata": {},
   "outputs": [
    {
     "data": {
      "text/plain": [
       "{'num_words': 5,\n",
       " 'filters': '!\"#$%&()*+,-./:;<=>?@[\\\\]^_`{|}~\\t\\n',\n",
       " 'lower': True,\n",
       " 'split': ' ',\n",
       " 'char_level': True,\n",
       " 'oov_token': 'n',\n",
       " 'document_count': 1662161,\n",
       " 'word_counts': '{\"t\": 73093943, \"c\": 51540836, \"a\": 73111868, \"g\": 51577340, \"n\": 77, \"r\": 29, \"y\": 37, \"k\": 12, \"w\": 8}',\n",
       " 'word_docs': '{\"t\": 1662035, \"g\": 1661911, \"c\": 1661907, \"a\": 1662042, \"n\": 77, \"r\": 29, \"y\": 37, \"k\": 12, \"w\": 8}',\n",
       " 'index_docs': '{\"3\": 1662035, \"4\": 1661911, \"5\": 1661907, \"2\": 1662042, \"6\": 77, \"8\": 29, \"7\": 37, \"9\": 12, \"10\": 8}',\n",
       " 'index_word': '{\"6\": \"n\", \"2\": \"a\", \"3\": \"t\", \"4\": \"g\", \"5\": \"c\", \"7\": \"y\", \"8\": \"r\", \"9\": \"k\", \"10\": \"w\"}',\n",
       " 'word_index': '{\"n\": 6, \"a\": 2, \"t\": 3, \"g\": 4, \"c\": 5, \"y\": 7, \"r\": 8, \"k\": 9, \"w\": 10}'}"
      ]
     },
     "execution_count": 7,
     "metadata": {},
     "output_type": "execute_result"
    }
   ],
   "source": [
    "tk.get_config()"
   ]
  },
  {
   "cell_type": "code",
   "execution_count": 9,
   "metadata": {},
   "outputs": [
    {
     "data": {
      "text/plain": [
       "array([2, 2, 3, 2, 2, 3, 2, 2, 2, 2, 2, 6, 2, 2, 2, 4, 3, 6, 2, 2, 2, 2,\n",
       "       4, 2, 6, 2, 6, 2, 3, 2, 2, 3, 2, 6, 2, 4, 6, 6, 3, 4, 4, 2, 6, 2,\n",
       "       2, 6, 2, 3, 2, 4, 3, 4, 2, 4, 2, 6, 6, 6, 3, 4, 3, 6, 3, 6, 3, 2,\n",
       "       6, 2, 2, 2, 2, 4, 3, 2, 2, 2, 2, 2, 2, 3, 3, 2, 4, 6, 3, 4, 4, 4,\n",
       "       6, 3, 3, 4, 4, 3, 4, 4, 3, 2, 6, 2, 6, 2, 3, 2, 2, 6, 3, 6, 6, 3,\n",
       "       2, 4, 6, 3, 2, 2, 6, 3, 6, 4, 4, 4, 2, 4, 4, 6, 3, 4, 2, 4, 4, 6,\n",
       "       2, 4, 4, 2, 2, 4, 2, 6, 3, 4, 6, 3, 3, 4, 2, 4, 6, 6], dtype=int32)"
      ]
     },
     "execution_count": 9,
     "metadata": {},
     "output_type": "execute_result"
    }
   ],
   "source": [
    "X_train[1]"
   ]
  },
  {
   "cell_type": "code",
   "execution_count": 10,
   "metadata": {},
   "outputs": [
    {
     "name": "stdout",
     "output_type": "stream",
     "text": [
      "{0: 1, 1: 4}\n"
     ]
    }
   ],
   "source": [
    "weight = int(len(train['gt'].values)/np.sum(train['gt'].values))\n",
    "class_w = {0: 1, 1: weight}\n",
    "print(class_w)"
   ]
  },
  {
   "cell_type": "code",
   "execution_count": 13,
   "metadata": {},
   "outputs": [
    {
     "data": {
      "text/plain": [
       "5"
      ]
     },
     "execution_count": 13,
     "metadata": {},
     "output_type": "execute_result"
    }
   ],
   "source": [
    "max_feat"
   ]
  },
  {
   "cell_type": "code",
   "execution_count": 22,
   "metadata": {},
   "outputs": [
    {
     "ename": "ValueError",
     "evalue": "Error when checking input: expected input_1 to have shape (255,) but got array with shape (150,)",
     "output_type": "error",
     "traceback": [
      "\u001b[0;31m---------------------------------------------------------------------------\u001b[0m",
      "\u001b[0;31mValueError\u001b[0m                                Traceback (most recent call last)",
      "\u001b[0;32m<ipython-input-22-568bcd08f767>\u001b[0m in \u001b[0;36m<module>\u001b[0;34m\u001b[0m\n\u001b[1;32m     31\u001b[0m \u001b[0mmodel\u001b[0m\u001b[0;34m.\u001b[0m\u001b[0mcompile\u001b[0m\u001b[0;34m(\u001b[0m\u001b[0mloss\u001b[0m \u001b[0;34m=\u001b[0m \u001b[0;34m\"binary_crossentropy\"\u001b[0m\u001b[0;34m,\u001b[0m \u001b[0moptimizer\u001b[0m \u001b[0;34m=\u001b[0m \u001b[0mAdam\u001b[0m\u001b[0;34m(\u001b[0m\u001b[0mlr\u001b[0m \u001b[0;34m=\u001b[0m \u001b[0mlr\u001b[0m\u001b[0;34m,\u001b[0m \u001b[0mdecay\u001b[0m \u001b[0;34m=\u001b[0m \u001b[0mlr_d\u001b[0m\u001b[0;34m)\u001b[0m\u001b[0;34m,\u001b[0m \u001b[0mmetrics\u001b[0m \u001b[0;34m=\u001b[0m \u001b[0;34m[\u001b[0m\u001b[0;34m\"accuracy\"\u001b[0m\u001b[0;34m]\u001b[0m\u001b[0;34m)\u001b[0m\u001b[0;34m\u001b[0m\u001b[0;34m\u001b[0m\u001b[0m\n\u001b[1;32m     32\u001b[0m history = model.fit(X_train, Y_train,epochs = 10, class_weight=class_w,\n\u001b[0;32m---> 33\u001b[0;31m                     validation_data = (X_valid, Y_valid), verbose = 1, callbacks = [check_point, early_stop])\n\u001b[0m\u001b[1;32m     34\u001b[0m \u001b[0;34m\u001b[0m\u001b[0m\n\u001b[1;32m     35\u001b[0m \u001b[0mmodel\u001b[0m \u001b[0;34m=\u001b[0m \u001b[0mload_model\u001b[0m\u001b[0;34m(\u001b[0m\u001b[0mfile_path\u001b[0m\u001b[0;34m)\u001b[0m\u001b[0;34m\u001b[0m\u001b[0;34m\u001b[0m\u001b[0m\n",
      "\u001b[0;32m/opt/conda/lib/python3.7/site-packages/keras/engine/training.py\u001b[0m in \u001b[0;36mfit\u001b[0;34m(self, x, y, batch_size, epochs, verbose, callbacks, validation_split, validation_data, shuffle, class_weight, sample_weight, initial_epoch, steps_per_epoch, validation_steps, validation_freq, max_queue_size, workers, use_multiprocessing, **kwargs)\u001b[0m\n\u001b[1;32m   1152\u001b[0m             \u001b[0msample_weight\u001b[0m\u001b[0;34m=\u001b[0m\u001b[0msample_weight\u001b[0m\u001b[0;34m,\u001b[0m\u001b[0;34m\u001b[0m\u001b[0;34m\u001b[0m\u001b[0m\n\u001b[1;32m   1153\u001b[0m             \u001b[0mclass_weight\u001b[0m\u001b[0;34m=\u001b[0m\u001b[0mclass_weight\u001b[0m\u001b[0;34m,\u001b[0m\u001b[0;34m\u001b[0m\u001b[0;34m\u001b[0m\u001b[0m\n\u001b[0;32m-> 1154\u001b[0;31m             batch_size=batch_size)\n\u001b[0m\u001b[1;32m   1155\u001b[0m \u001b[0;34m\u001b[0m\u001b[0m\n\u001b[1;32m   1156\u001b[0m         \u001b[0;31m# Prepare validation data.\u001b[0m\u001b[0;34m\u001b[0m\u001b[0;34m\u001b[0m\u001b[0;34m\u001b[0m\u001b[0m\n",
      "\u001b[0;32m/opt/conda/lib/python3.7/site-packages/keras/engine/training.py\u001b[0m in \u001b[0;36m_standardize_user_data\u001b[0;34m(self, x, y, sample_weight, class_weight, check_array_lengths, batch_size)\u001b[0m\n\u001b[1;32m    577\u001b[0m             \u001b[0mfeed_input_shapes\u001b[0m\u001b[0;34m,\u001b[0m\u001b[0;34m\u001b[0m\u001b[0;34m\u001b[0m\u001b[0m\n\u001b[1;32m    578\u001b[0m             \u001b[0mcheck_batch_axis\u001b[0m\u001b[0;34m=\u001b[0m\u001b[0;32mFalse\u001b[0m\u001b[0;34m,\u001b[0m  \u001b[0;31m# Don't enforce the batch size.\u001b[0m\u001b[0;34m\u001b[0m\u001b[0;34m\u001b[0m\u001b[0m\n\u001b[0;32m--> 579\u001b[0;31m             exception_prefix='input')\n\u001b[0m\u001b[1;32m    580\u001b[0m \u001b[0;34m\u001b[0m\u001b[0m\n\u001b[1;32m    581\u001b[0m         \u001b[0;32mif\u001b[0m \u001b[0my\u001b[0m \u001b[0;32mis\u001b[0m \u001b[0;32mnot\u001b[0m \u001b[0;32mNone\u001b[0m\u001b[0;34m:\u001b[0m\u001b[0;34m\u001b[0m\u001b[0;34m\u001b[0m\u001b[0m\n",
      "\u001b[0;32m/opt/conda/lib/python3.7/site-packages/keras/engine/training_utils.py\u001b[0m in \u001b[0;36mstandardize_input_data\u001b[0;34m(data, names, shapes, check_batch_axis, exception_prefix)\u001b[0m\n\u001b[1;32m    143\u001b[0m                             \u001b[0;34m': expected '\u001b[0m \u001b[0;34m+\u001b[0m \u001b[0mnames\u001b[0m\u001b[0;34m[\u001b[0m\u001b[0mi\u001b[0m\u001b[0;34m]\u001b[0m \u001b[0;34m+\u001b[0m \u001b[0;34m' to have shape '\u001b[0m \u001b[0;34m+\u001b[0m\u001b[0;34m\u001b[0m\u001b[0;34m\u001b[0m\u001b[0m\n\u001b[1;32m    144\u001b[0m                             \u001b[0mstr\u001b[0m\u001b[0;34m(\u001b[0m\u001b[0mshape\u001b[0m\u001b[0;34m)\u001b[0m \u001b[0;34m+\u001b[0m \u001b[0;34m' but got array with shape '\u001b[0m \u001b[0;34m+\u001b[0m\u001b[0;34m\u001b[0m\u001b[0;34m\u001b[0m\u001b[0m\n\u001b[0;32m--> 145\u001b[0;31m                             str(data_shape))\n\u001b[0m\u001b[1;32m    146\u001b[0m     \u001b[0;32mreturn\u001b[0m \u001b[0mdata\u001b[0m\u001b[0;34m\u001b[0m\u001b[0;34m\u001b[0m\u001b[0m\n\u001b[1;32m    147\u001b[0m \u001b[0;34m\u001b[0m\u001b[0m\n",
      "\u001b[0;31mValueError\u001b[0m: Error when checking input: expected input_1 to have shape (255,) but got array with shape (150,)"
     ]
    }
   ],
   "source": [
    "file_path = \"best_model.hdf5\"\n",
    "check_point = ModelCheckpoint(file_path, monitor = \"val_loss\", verbose = 1, save_best_only = True, mode = \"min\")\n",
    "early_stop = EarlyStopping(monitor = \"val_loss\", mode = \"min\", patience = 5)\n",
    "\n",
    "lr = 1e-3; lr_d = 0.99; units = 256; dr = 0.3\n",
    "K.clear_session()\n",
    "inp = Input(shape = (100,))\n",
    "\n",
    "x = Embedding(max_feat, 1)(inp)\n",
    "x1 = SpatialDropout1D(dr)(x)\n",
    "\n",
    "x = Bidirectional(CuDNNGRU(units, return_sequences = True))(x1)\n",
    "x = Conv1D(128, kernel_size = 5, padding = \"valid\")(x)\n",
    "\n",
    "\n",
    "y = Bidirectional(CuDNNLSTM(units, return_sequences = True))(x1)\n",
    "y = Conv1D(128, kernel_size = 5, padding = \"valid\")(y)\n",
    "\n",
    "avg_pool1 = GlobalAveragePooling1D()(x)\n",
    "max_pool1 = GlobalMaxPooling1D()(x)\n",
    "\n",
    "avg_pool2 = GlobalAveragePooling1D()(y)\n",
    "max_pool2 = GlobalMaxPooling1D()(y)\n",
    "\n",
    "x = concatenate([avg_pool1, max_pool1, avg_pool2, max_pool2])\n",
    "x = Dense(1, activation = \"sigmoid\")(x)\n",
    "\n",
    "model = Model(inputs = inp, outputs = x)\n",
    "model = multi_gpu_model(model, gpus=8)\n",
    "model = load_model(file_path)\n",
    "model.compile(loss = \"binary_crossentropy\", optimizer = Adam(lr = lr, decay = lr_d), metrics = [\"accuracy\"])\n",
    "history = model.fit(X_train, Y_train,epochs = 10, class_weight=class_w,\n",
    "                    validation_data = (X_valid, Y_valid), verbose = 1, callbacks = [check_point, early_stop])\n",
    "\n",
    "model = load_model(file_path)"
   ]
  },
  {
   "cell_type": "code",
   "execution_count": null,
   "metadata": {},
   "outputs": [],
   "source": [
    "def PR(predictions, y):\n",
    "    P = []; R = []\n",
    "    num_vir = sum(y)\n",
    "    for t in np.arange(0,1,0.05).tolist():\n",
    "        temp = np.squeeze((predictions >= t))\n",
    "        TP = sum(temp*y)\n",
    "        P.append(TP / (sum(temp)))\n",
    "        R.append(TP / (num_vir))\n",
    "    return P, R"
   ]
  },
  {
   "cell_type": "code",
   "execution_count": 97,
   "metadata": {},
   "outputs": [
    {
     "name": "stdout",
     "output_type": "stream",
     "text": [
      "210984/210984 [==============================] - 68s 322us/step\n"
     ]
    }
   ],
   "source": [
    "pred = model.predict(test_easy, batch_size=2048, verbose=1)"
   ]
  },
  {
   "cell_type": "code",
   "execution_count": 98,
   "metadata": {},
   "outputs": [
    {
     "data": {
      "text/plain": [
       "<matplotlib.axes._subplots.AxesSubplot at 0x7f29314245f8>"
      ]
     },
     "execution_count": 98,
     "metadata": {},
     "output_type": "execute_result"
    },
    {
     "data": {
      "image/png": "[encoded data removed]",
      "text/plain": [
       "<Figure size 432x288 with 1 Axes>"
      ]
     },
     "metadata": {
      "needs_background": "light"
     },
     "output_type": "display_data"
    }
   ],
   "source": [
    "#P, R = PR(temp_pred, temp_y)\n",
    "P, R = PR(pred, y_easy)\n",
    "sns.lineplot(R, P, label='orig')"
   ]
  },
  {
   "cell_type": "code",
   "execution_count": 41,
   "metadata": {},
   "outputs": [],
   "source": [
    "temp_pred = np.vstack((pred[:200000], pred[210500:]))\n",
    "temp_y = np.hstack((y_easy[:200000], y_easy[210500:]))"
   ]
  }
 ],
 "metadata": {
  "kernelspec": {
   "display_name": "Python 3",
   "language": "python",
   "name": "python3"
  },
  "language_info": {
   "codemirror_mode": {
    "name": "ipython",
    "version": 3
   },
   "file_extension": ".py",
   "mimetype": "text/x-python",
   "name": "python",
   "nbconvert_exporter": "python",
   "pygments_lexer": "ipython3",
   "version": "3.7.7"
  }
 },
 "nbformat": 4,
 "nbformat_minor": 4
}
