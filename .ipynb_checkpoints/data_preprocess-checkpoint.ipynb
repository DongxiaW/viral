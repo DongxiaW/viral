{
 "cells": [
  {
   "cell_type": "code",
   "execution_count": 1,
   "metadata": {},
   "outputs": [],
   "source": [
    "import warnings\n",
    "warnings.simplefilter(action='ignore')\n",
    "from Bio import SeqIO\n",
    "import numpy as np\n",
    "import os, random, re, sys, glob\n",
    "import pandas as pd\n",
    "from Bio.SeqRecord import SeqRecord\n",
    "from Bio.Seq import Seq\n",
    "from utils import *"
   ]
  },
  {
   "cell_type": "code",
   "execution_count": 2,
   "metadata": {},
   "outputs": [],
   "source": [
    "test_root = 'test/'\n",
    "train_root = 'train/'\n",
    "test_sets = ['test_easy_1.fa', 'test_easy_2.fa', 'test_intermidate_1.fa', 'test_intermidate_2.fa', 'test_difficult_1.fa', \n",
    "             'test_difficult_2.fa', 'test_very_difficult_1.fa', 'test_very_difficult_2.fa']\n",
    "train_set = ['x10_reads.fa']"
   ]
  },
  {
   "cell_type": "code",
   "execution_count": 3,
   "metadata": {},
   "outputs": [],
   "source": [
    "# train_reads = read_fasta(train_root + train_set[0])"
   ]
  },
  {
   "cell_type": "code",
   "execution_count": 4,
   "metadata": {},
   "outputs": [],
   "source": [
    "# train_reads.seqs[0], seqs2onehot(train_reads.seqs[:3])[0], "
   ]
  },
  {
   "cell_type": "code",
   "execution_count": 14,
   "metadata": {},
   "outputs": [
    {
     "name": "stdout",
     "output_type": "stream",
     "text": [
      "(105492, 2)\n"
     ]
    },
    {
     "data": {
      "text/html": [
       "<div>\n",
       "<style scoped>\n",
       "    .dataframe tbody tr th:only-of-type {\n",
       "        vertical-align: middle;\n",
       "    }\n",
       "\n",
       "    .dataframe tbody tr th {\n",
       "        vertical-align: top;\n",
       "    }\n",
       "\n",
       "    .dataframe thead th {\n",
       "        text-align: right;\n",
       "    }\n",
       "</style>\n",
       "<table border=\"1\" class=\"dataframe\">\n",
       "  <thead>\n",
       "    <tr style=\"text-align: right;\">\n",
       "      <th></th>\n",
       "      <th>ID</th>\n",
       "      <th>seqs</th>\n",
       "      <th>viral</th>\n",
       "    </tr>\n",
       "  </thead>\n",
       "  <tbody>\n",
       "    <tr>\n",
       "      <th>0</th>\n",
       "      <td>gi|0|lcl|HPV185REF.1|-49/1</td>\n",
       "      <td>TGTTGTAGAGACTGGGTTGTAACTGTATATGGAGCTAGAGAAGAAT...</td>\n",
       "      <td>1</td>\n",
       "    </tr>\n",
       "    <tr>\n",
       "      <th>1</th>\n",
       "      <td>gi|0|lcl|HPV185REF.1|-47/1</td>\n",
       "      <td>GTCCTATTTCCATACCTCTTATAGCCCAAACCAAACGCTCCCTATC...</td>\n",
       "      <td>1</td>\n",
       "    </tr>\n",
       "    <tr>\n",
       "      <th>2</th>\n",
       "      <td>gi|0|lcl|HPV185REF.1|-45/1</td>\n",
       "      <td>CCTCCGGAGCAGTATCTTCACACTCATGGGTTAAAGAGAGCTCAAG...</td>\n",
       "      <td>1</td>\n",
       "    </tr>\n",
       "    <tr>\n",
       "      <th>3</th>\n",
       "      <td>gi|0|lcl|HPV185REF.1|-43/1</td>\n",
       "      <td>TACTATAATTTGATCAGATAGTGATGCTTCCCCAGTAGTTGGTGTG...</td>\n",
       "      <td>1</td>\n",
       "    </tr>\n",
       "    <tr>\n",
       "      <th>4</th>\n",
       "      <td>gi|0|lcl|HPV185REF.1|-41/1</td>\n",
       "      <td>GCCTATTTGATAAAATTAGCACCACATGGAGCTGGGTGGGGTCTGA...</td>\n",
       "      <td>1</td>\n",
       "    </tr>\n",
       "    <tr>\n",
       "      <th>...</th>\n",
       "      <td>...</td>\n",
       "      <td>...</td>\n",
       "      <td>...</td>\n",
       "    </tr>\n",
       "    <tr>\n",
       "      <th>105487</th>\n",
       "      <td>chrY-278/1</td>\n",
       "      <td>CTGTGTTGACCAGGCTGGCCTTGAACTTCTCACCTCAAGTAGTCCT...</td>\n",
       "      <td>2</td>\n",
       "    </tr>\n",
       "    <tr>\n",
       "      <th>105488</th>\n",
       "      <td>chrY-196/1</td>\n",
       "      <td>ATTACATAAATACAAACAAACACATATATATGTATGTATATGTTTG...</td>\n",
       "      <td>2</td>\n",
       "    </tr>\n",
       "    <tr>\n",
       "      <th>105489</th>\n",
       "      <td>chrY-118/1</td>\n",
       "      <td>CATGGAATCATTTAGGTAGAAATATCTAAGTTTTTATGGTCATAAA...</td>\n",
       "      <td>2</td>\n",
       "    </tr>\n",
       "    <tr>\n",
       "      <th>105490</th>\n",
       "      <td>chrY-100/1</td>\n",
       "      <td>AATGGTTGAACTAGTTTACAGTCCCACCAACAGTGTAAAAGTGTTC...</td>\n",
       "      <td>2</td>\n",
       "    </tr>\n",
       "    <tr>\n",
       "      <th>105491</th>\n",
       "      <td>chrY-6/1</td>\n",
       "      <td>CCTCCCTCTGTCTGCTGCTAGACACAAACTTGTGGACAACAGAAAT...</td>\n",
       "      <td>2</td>\n",
       "    </tr>\n",
       "  </tbody>\n",
       "</table>\n",
       "<p>105492 rows × 3 columns</p>\n",
       "</div>"
      ],
      "text/plain": [
       "                                ID  \\\n",
       "0       gi|0|lcl|HPV185REF.1|-49/1   \n",
       "1       gi|0|lcl|HPV185REF.1|-47/1   \n",
       "2       gi|0|lcl|HPV185REF.1|-45/1   \n",
       "3       gi|0|lcl|HPV185REF.1|-43/1   \n",
       "4       gi|0|lcl|HPV185REF.1|-41/1   \n",
       "...                            ...   \n",
       "105487                  chrY-278/1   \n",
       "105488                  chrY-196/1   \n",
       "105489                  chrY-118/1   \n",
       "105490                  chrY-100/1   \n",
       "105491                    chrY-6/1   \n",
       "\n",
       "                                                     seqs  viral  \n",
       "0       TGTTGTAGAGACTGGGTTGTAACTGTATATGGAGCTAGAGAAGAAT...      1  \n",
       "1       GTCCTATTTCCATACCTCTTATAGCCCAAACCAAACGCTCCCTATC...      1  \n",
       "2       CCTCCGGAGCAGTATCTTCACACTCATGGGTTAAAGAGAGCTCAAG...      1  \n",
       "3       TACTATAATTTGATCAGATAGTGATGCTTCCCCAGTAGTTGGTGTG...      1  \n",
       "4       GCCTATTTGATAAAATTAGCACCACATGGAGCTGGGTGGGGTCTGA...      1  \n",
       "...                                                   ...    ...  \n",
       "105487  CTGTGTTGACCAGGCTGGCCTTGAACTTCTCACCTCAAGTAGTCCT...      2  \n",
       "105488  ATTACATAAATACAAACAAACACATATATATGTATGTATATGTTTG...      2  \n",
       "105489  CATGGAATCATTTAGGTAGAAATATCTAAGTTTTTATGGTCATAAA...      2  \n",
       "105490  AATGGTTGAACTAGTTTACAGTCCCACCAACAGTGTAAAAGTGTTC...      2  \n",
       "105491  CCTCCCTCTGTCTGCTGCTAGACACAAACTTGTGGACAACAGAAAT...      2  \n",
       "\n",
       "[105492 rows x 3 columns]"
      ]
     },
     "execution_count": 14,
     "metadata": {},
     "output_type": "execute_result"
    }
   ],
   "source": [
    "def assign_labels(df, multi=False):\n",
    "    viral = []\n",
    "    for i in df.ID:\n",
    "        if('gi' in i):\n",
    "            viral.append(1)\n",
    "        elif((multi==True) and ('chr' in i)):\n",
    "            viral.append(2)\n",
    "        else:\n",
    "            viral.append(0)\n",
    "    print(df.shape)\n",
    "    df['viral'] = viral\n",
    "    return df\n",
    "\n",
    "df = read_fasta(test_root + test_sets[0])\n",
    "df = assign_labels(df, multi=True)\n",
    "df"
   ]
  },
  {
   "cell_type": "code",
   "execution_count": 17,
   "metadata": {},
   "outputs": [
    {
     "data": {
      "text/plain": [
       "242"
      ]
     },
     "execution_count": 17,
     "metadata": {},
     "output_type": "execute_result"
    }
   ],
   "source": [
    "sum(df.viral == 1)"
   ]
  },
  {
   "cell_type": "code",
   "execution_count": null,
   "metadata": {},
   "outputs": [],
   "source": []
  }
 ],
 "metadata": {
  "kernelspec": {
   "display_name": "Python 3",
   "language": "python",
   "name": "python3"
  },
  "language_info": {
   "codemirror_mode": {
    "name": "ipython",
    "version": 3
   },
   "file_extension": ".py",
   "mimetype": "text/x-python",
   "name": "python",
   "nbconvert_exporter": "python",
   "pygments_lexer": "ipython3",
   "version": "3.7.7"
  }
 },
 "nbformat": 4,
 "nbformat_minor": 2
}
