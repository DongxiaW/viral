{
 "cells": [
  {
   "cell_type": "code",
   "execution_count": 1,
   "metadata": {},
   "outputs": [],
   "source": [
    "import warnings\n",
    "warnings.simplefilter(action='ignore')\n",
    "from Bio import SeqIO\n",
    "import numpy as np\n",
    "import os, random, re, sys, glob\n",
    "import pandas as pd\n",
    "from Bio.SeqRecord import SeqRecord\n",
    "from Bio.Seq import Seq\n",
    "from utils import *"
   ]
  },
  {
   "cell_type": "code",
   "execution_count": 2,
   "metadata": {},
   "outputs": [],
   "source": [
    "test_root = 'test/'\n",
    "train_root = 'train/'\n",
    "test_sets = ['test_easy_1.fa', 'test_easy_2.fa', 'test_intermidate_1.fa', 'test_intermidate_2.fa', 'test_difficult_1.fa', \n",
    "             'test_difficult_2.fa', 'test_very_difficult_1.fa', 'test_very_difficult_2.fa']\n",
    "train_set = ['x10_reads.fa']"
   ]
  },
  {
   "cell_type": "code",
   "execution_count": 4,
   "metadata": {},
   "outputs": [],
   "source": [
    "train_reads = read_fasta(train_root + train_set[0])"
   ]
  },
  {
   "cell_type": "code",
   "execution_count": 15,
   "metadata": {},
   "outputs": [
    {
     "data": {
      "text/plain": [
       "(150, 5)"
      ]
     },
     "execution_count": 15,
     "metadata": {},
     "output_type": "execute_result"
    }
   ],
   "source": [
    "x = seqs2onehot(train_reads.seqs)[0]\n"
   ]
  },
  {
   "cell_type": "code",
   "execution_count": 26,
   "metadata": {},
   "outputs": [],
   "source": [
    "x1 = np.delete(x,3,axis=1)\n",
    "x1.shape\n",
    "mask = x[:,3]"
   ]
  },
  {
   "cell_type": "code",
   "execution_count": 19,
   "metadata": {},
   "outputs": [
    {
     "data": {
      "text/plain": [
       "array([False, False,  True, False, False])"
      ]
     },
     "execution_count": 19,
     "metadata": {},
     "output_type": "execute_result"
    }
   ],
   "source": [
    "x[0]"
   ]
  },
  {
   "cell_type": "code",
   "execution_count": 21,
   "metadata": {},
   "outputs": [
    {
     "data": {
      "text/plain": [
       "array([False, False,  True, False])"
      ]
     },
     "execution_count": 21,
     "metadata": {},
     "output_type": "execute_result"
    }
   ],
   "source": [
    "x1[0]"
   ]
  },
  {
   "cell_type": "code",
   "execution_count": 28,
   "metadata": {},
   "outputs": [
    {
     "data": {
      "text/plain": [
       "array([False, False, False, False, False, False, False, False, False,\n",
       "       False, False, False, False, False, False, False, False, False,\n",
       "       False, False, False, False, False, False, False, False, False,\n",
       "       False, False, False, False, False, False, False, False, False,\n",
       "       False, False, False, False, False, False, False, False, False,\n",
       "       False, False, False, False, False, False, False, False, False,\n",
       "       False, False, False, False, False, False, False, False, False,\n",
       "       False, False, False, False, False, False, False, False, False,\n",
       "       False, False, False, False, False, False, False, False, False,\n",
       "       False, False, False, False, False, False, False, False, False,\n",
       "       False, False, False, False, False, False, False, False, False,\n",
       "       False, False, False, False, False, False, False, False, False,\n",
       "       False, False, False, False, False, False, False, False, False,\n",
       "       False, False, False, False, False, False, False, False, False,\n",
       "       False, False, False, False, False, False, False, False, False,\n",
       "       False, False, False, False, False, False, False, False, False,\n",
       "       False, False, False, False, False, False])"
      ]
     },
     "execution_count": 28,
     "metadata": {},
     "output_type": "execute_result"
    }
   ],
   "source": [
    "mask"
   ]
  },
  {
   "cell_type": "code",
   "execution_count": 22,
   "metadata": {},
   "outputs": [
    {
     "data": {
      "text/plain": [
       "('GTAATACAGTTGTATATCCAAAATTTGCAGATAGGCCAACTATAATACTACCTACTCCATCGGGGCCTGCTATAGTTCAATCACTTACACATACTTCCCTTGATTATTATTTACATCCTAGCTTGCGAAGAAGAAAACGCAAACGCAAAT',\n",
       " array([[False, False,  True, False, False],\n",
       "        [False, False, False, False,  True],\n",
       "        [ True, False, False, False, False],\n",
       "        [ True, False, False, False, False],\n",
       "        [False, False, False, False,  True],\n",
       "        [ True, False, False, False, False],\n",
       "        [False,  True, False, False, False],\n",
       "        [ True, False, False, False, False],\n",
       "        [False, False,  True, False, False],\n",
       "        [False, False, False, False,  True],\n",
       "        [False, False, False, False,  True],\n",
       "        [False, False,  True, False, False],\n",
       "        [False, False, False, False,  True],\n",
       "        [ True, False, False, False, False],\n",
       "        [False, False, False, False,  True],\n",
       "        [ True, False, False, False, False],\n",
       "        [False, False, False, False,  True],\n",
       "        [False,  True, False, False, False],\n",
       "        [False,  True, False, False, False],\n",
       "        [ True, False, False, False, False],\n",
       "        [ True, False, False, False, False],\n",
       "        [ True, False, False, False, False],\n",
       "        [ True, False, False, False, False],\n",
       "        [False, False, False, False,  True],\n",
       "        [False, False, False, False,  True],\n",
       "        [False, False, False, False,  True],\n",
       "        [False, False,  True, False, False],\n",
       "        [False,  True, False, False, False],\n",
       "        [ True, False, False, False, False],\n",
       "        [False, False,  True, False, False],\n",
       "        [ True, False, False, False, False],\n",
       "        [False, False, False, False,  True],\n",
       "        [ True, False, False, False, False],\n",
       "        [False, False,  True, False, False],\n",
       "        [False, False,  True, False, False],\n",
       "        [False,  True, False, False, False],\n",
       "        [False,  True, False, False, False],\n",
       "        [ True, False, False, False, False],\n",
       "        [ True, False, False, False, False],\n",
       "        [False,  True, False, False, False],\n",
       "        [False, False, False, False,  True],\n",
       "        [ True, False, False, False, False],\n",
       "        [False, False, False, False,  True],\n",
       "        [ True, False, False, False, False],\n",
       "        [ True, False, False, False, False],\n",
       "        [False, False, False, False,  True],\n",
       "        [ True, False, False, False, False],\n",
       "        [False,  True, False, False, False],\n",
       "        [False, False, False, False,  True],\n",
       "        [ True, False, False, False, False],\n",
       "        [False,  True, False, False, False],\n",
       "        [False,  True, False, False, False],\n",
       "        [False, False, False, False,  True],\n",
       "        [ True, False, False, False, False],\n",
       "        [False,  True, False, False, False],\n",
       "        [False, False, False, False,  True],\n",
       "        [False,  True, False, False, False],\n",
       "        [False,  True, False, False, False],\n",
       "        [ True, False, False, False, False],\n",
       "        [False, False, False, False,  True],\n",
       "        [False,  True, False, False, False],\n",
       "        [False, False,  True, False, False],\n",
       "        [False, False,  True, False, False],\n",
       "        [False, False,  True, False, False],\n",
       "        [False, False,  True, False, False],\n",
       "        [False,  True, False, False, False],\n",
       "        [False,  True, False, False, False],\n",
       "        [False, False, False, False,  True],\n",
       "        [False, False,  True, False, False],\n",
       "        [False,  True, False, False, False],\n",
       "        [False, False, False, False,  True],\n",
       "        [ True, False, False, False, False],\n",
       "        [False, False, False, False,  True],\n",
       "        [ True, False, False, False, False],\n",
       "        [False, False,  True, False, False],\n",
       "        [False, False, False, False,  True],\n",
       "        [False, False, False, False,  True],\n",
       "        [False,  True, False, False, False],\n",
       "        [ True, False, False, False, False],\n",
       "        [ True, False, False, False, False],\n",
       "        [False, False, False, False,  True],\n",
       "        [False,  True, False, False, False],\n",
       "        [ True, False, False, False, False],\n",
       "        [False,  True, False, False, False],\n",
       "        [False, False, False, False,  True],\n",
       "        [False, False, False, False,  True],\n",
       "        [ True, False, False, False, False],\n",
       "        [False,  True, False, False, False],\n",
       "        [ True, False, False, False, False],\n",
       "        [False,  True, False, False, False],\n",
       "        [ True, False, False, False, False],\n",
       "        [False, False, False, False,  True],\n",
       "        [ True, False, False, False, False],\n",
       "        [False,  True, False, False, False],\n",
       "        [False, False, False, False,  True],\n",
       "        [False, False, False, False,  True],\n",
       "        [False,  True, False, False, False],\n",
       "        [False,  True, False, False, False],\n",
       "        [False,  True, False, False, False],\n",
       "        [False, False, False, False,  True],\n",
       "        [False, False, False, False,  True],\n",
       "        [False, False,  True, False, False],\n",
       "        [ True, False, False, False, False],\n",
       "        [False, False, False, False,  True],\n",
       "        [False, False, False, False,  True],\n",
       "        [ True, False, False, False, False],\n",
       "        [False, False, False, False,  True],\n",
       "        [False, False, False, False,  True],\n",
       "        [ True, False, False, False, False],\n",
       "        [False, False, False, False,  True],\n",
       "        [False, False, False, False,  True],\n",
       "        [False, False, False, False,  True],\n",
       "        [ True, False, False, False, False],\n",
       "        [False,  True, False, False, False],\n",
       "        [ True, False, False, False, False],\n",
       "        [False, False, False, False,  True],\n",
       "        [False,  True, False, False, False],\n",
       "        [False,  True, False, False, False],\n",
       "        [False, False, False, False,  True],\n",
       "        [ True, False, False, False, False],\n",
       "        [False, False,  True, False, False],\n",
       "        [False,  True, False, False, False],\n",
       "        [False, False, False, False,  True],\n",
       "        [False, False, False, False,  True],\n",
       "        [False, False,  True, False, False],\n",
       "        [False,  True, False, False, False],\n",
       "        [False, False,  True, False, False],\n",
       "        [ True, False, False, False, False],\n",
       "        [ True, False, False, False, False],\n",
       "        [False, False,  True, False, False],\n",
       "        [ True, False, False, False, False],\n",
       "        [ True, False, False, False, False],\n",
       "        [False, False,  True, False, False],\n",
       "        [ True, False, False, False, False],\n",
       "        [ True, False, False, False, False],\n",
       "        [ True, False, False, False, False],\n",
       "        [ True, False, False, False, False],\n",
       "        [False,  True, False, False, False],\n",
       "        [False, False,  True, False, False],\n",
       "        [False,  True, False, False, False],\n",
       "        [ True, False, False, False, False],\n",
       "        [ True, False, False, False, False],\n",
       "        [ True, False, False, False, False],\n",
       "        [False,  True, False, False, False],\n",
       "        [False, False,  True, False, False],\n",
       "        [False,  True, False, False, False],\n",
       "        [ True, False, False, False, False],\n",
       "        [ True, False, False, False, False],\n",
       "        [ True, False, False, False, False],\n",
       "        [False, False, False, False,  True]]))"
      ]
     },
     "execution_count": 22,
     "metadata": {},
     "output_type": "execute_result"
    }
   ],
   "source": [
    "train_reads.seqs[0], seqs2onehot(train_reads.seqs[:3])[0], "
   ]
  },
  {
   "cell_type": "code",
   "execution_count": 7,
   "metadata": {},
   "outputs": [
    {
     "data": {
      "text/plain": [
       "(242,\n",
       " (105492, 3),\n",
       "                            ID  \\\n",
       " 0  gi|0|lcl|HPV185REF.1|-49/1   \n",
       " 1  gi|0|lcl|HPV185REF.1|-47/1   \n",
       " 2  gi|0|lcl|HPV185REF.1|-45/1   \n",
       " 3  gi|0|lcl|HPV185REF.1|-43/1   \n",
       " 4  gi|0|lcl|HPV185REF.1|-41/1   \n",
       " \n",
       "                                                 seqs  viral  \n",
       " 0  TGTTGTAGAGACTGGGTTGTAACTGTATATGGAGCTAGAGAAGAAT...      1  \n",
       " 1  GTCCTATTTCCATACCTCTTATAGCCCAAACCAAACGCTCCCTATC...      1  \n",
       " 2  CCTCCGGAGCAGTATCTTCACACTCATGGGTTAAAGAGAGCTCAAG...      1  \n",
       " 3  TACTATAATTTGATCAGATAGTGATGCTTCCCCAGTAGTTGGTGTG...      1  \n",
       " 4  GCCTATTTGATAAAATTAGCACCACATGGAGCTGGGTGGGGTCTGA...      1  )"
      ]
     },
     "execution_count": 7,
     "metadata": {},
     "output_type": "execute_result"
    }
   ],
   "source": [
    "df = read_fasta(test_root + test_sets[0])\n",
    "df = assign_labels(df)\n",
    "np.sum(df.viral), df.shape, df.head()"
   ]
  },
  {
   "cell_type": "code",
   "execution_count": 9,
   "metadata": {},
   "outputs": [
    {
     "data": {
      "text/plain": [
       "(242,\n",
       " (105492, 3),\n",
       "                            ID  \\\n",
       " 0  gi|0|lcl|HPV185REF.1|-49/2   \n",
       " 1  gi|0|lcl|HPV185REF.1|-47/2   \n",
       " 2  gi|0|lcl|HPV185REF.1|-45/2   \n",
       " 3  gi|0|lcl|HPV185REF.1|-43/2   \n",
       " 4  gi|0|lcl|HPV185REF.1|-41/2   \n",
       " \n",
       "                                                 seqs  viral  \n",
       " 0  AACGCAGCCATGACACTTCGTAGTTTTGGAGGTTCAGTAAGAATGT...      1  \n",
       " 1  ACATACAAAGAACACACATCTATTATCATGCAAATACAGATCGTCT...      1  \n",
       " 2  TGATGATGGGGATGCTGTTGATAATGCAAGTGTGCAGGGACTTTCC...      1  \n",
       " 3  CAGATACAGGACCTGATTTGTTACCTGGTGAAATTGAGACCATTGC...      1  \n",
       " 4  TACTCTGCGTGCGCGCGCCATACAAAGTATAAAAGTGGGTTAGTTA...      1  )"
      ]
     },
     "execution_count": 9,
     "metadata": {},
     "output_type": "execute_result"
    }
   ],
   "source": [
    "df = read_fasta(test_root + test_sets[1])\n",
    "df = assign_labels(df)\n",
    "np.sum(df.viral), df.shape, df.head()"
   ]
  },
  {
   "cell_type": "code",
   "execution_count": null,
   "metadata": {},
   "outputs": [],
   "source": []
  },
  {
   "cell_type": "code",
   "execution_count": 5,
   "metadata": {},
   "outputs": [],
   "source": [
    "vecs = seqs2onehot(np.array(df.seqs))"
   ]
  },
  {
   "cell_type": "code",
   "execution_count": null,
   "metadata": {},
   "outputs": [],
   "source": []
  }
 ],
 "metadata": {
  "kernelspec": {
   "display_name": "Python 3",
   "language": "python",
   "name": "python3"
  },
  "language_info": {
   "codemirror_mode": {
    "name": "ipython",
    "version": 3
   },
   "file_extension": ".py",
   "mimetype": "text/x-python",
   "name": "python",
   "nbconvert_exporter": "python",
   "pygments_lexer": "ipython3",
   "version": "3.7.7"
  }
 },
 "nbformat": 4,
 "nbformat_minor": 2
}
