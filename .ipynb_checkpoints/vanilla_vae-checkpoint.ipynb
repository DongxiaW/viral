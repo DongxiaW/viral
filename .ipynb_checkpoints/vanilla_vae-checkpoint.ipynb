{
 "cells": [
  {
   "cell_type": "code",
   "execution_count": 1,
   "metadata": {},
   "outputs": [],
   "source": [
    "import warnings\n",
    "warnings.simplefilter(action='ignore')\n",
    "import numpy as np\n",
    "from matplotlib import pyplot as plt\n",
    "import pandas as pd\n",
    "import re, random, pickle, glob, os, difflib\n",
    "import tensorflow as tf\n",
    "import numpy as np\n",
    "from tensorflow import keras\n",
    "import tensorflow.keras.backend as K\n",
    "from tensorflow.keras import layers\n",
    "from tensorflow.keras.layers import *\n",
    "from tensorflow.keras.models import Sequential, load_model, Model\n",
    "from tensorflow.keras.callbacks import EarlyStopping, ModelCheckpoint\n",
    "from sklearn.model_selection import StratifiedKFold\n",
    "from utils import *\n",
    "\n",
    "# os.environ[\"CUDA_DEVICE_ORDER\"]=\"PCI_BUS_ID\"\n",
    "# os.environ[\"CUDA_VISIBLE_DEVICES\"]=\"0,1,2,3\" "
   ]
  },
  {
   "cell_type": "code",
   "execution_count": 2,
   "metadata": {},
   "outputs": [
    {
     "name": "stdout",
     "output_type": "stream",
     "text": [
      "2.3.1\n"
     ]
    }
   ],
   "source": [
    "print(tf.__version__)"
   ]
  },
  {
   "cell_type": "code",
   "execution_count": 3,
   "metadata": {},
   "outputs": [],
   "source": [
    "train_root = 'train/'\n",
    "test_root = 'test/'\n",
    "model_root = 'models/'\n",
    "plot_root = 'plots/'\n",
    "train_set = ['x10_reads.fa']"
   ]
  },
  {
   "cell_type": "code",
   "execution_count": 4,
   "metadata": {},
   "outputs": [],
   "source": [
    "df = read_fasta(train_root + train_set[0])\n",
    "train_reads_original = np.array(seqs2onehot(np.array(df.seqs)))"
   ]
  },
  {
   "cell_type": "code",
   "execution_count": 5,
   "metadata": {},
   "outputs": [],
   "source": [
    "train_reads = np.delete(train_reads_original,3,axis=2)"
   ]
  },
  {
   "cell_type": "code",
   "execution_count": 6,
   "metadata": {},
   "outputs": [
    {
     "data": {
      "text/plain": [
       "(169538, 150, 4, 1)"
      ]
     },
     "execution_count": 6,
     "metadata": {},
     "output_type": "execute_result"
    }
   ],
   "source": [
    "train_reads = np.expand_dims(train_reads, -1)\n",
    "train_reads.shape"
   ]
  },
  {
   "cell_type": "code",
   "execution_count": 7,
   "metadata": {},
   "outputs": [],
   "source": [
    "class Sampling(layers.Layer):\n",
    "    \"\"\"Uses (z_mean, z_log_var) to sample z, the vector encoding a digit.\"\"\"\n",
    "\n",
    "    def call(self, inputs):\n",
    "        z_mean, z_log_var = inputs\n",
    "        batch = tf.shape(z_mean)[0]\n",
    "        dim = tf.shape(z_mean)[1]\n",
    "        epsilon = tf.keras.backend.random_normal(shape=(batch, dim))\n",
    "        output = z_mean + tf.exp(0.5 * z_log_var) * epsilon\n",
    "        return output"
   ]
  },
  {
   "cell_type": "code",
   "execution_count": 8,
   "metadata": {},
   "outputs": [],
   "source": [
    "class VAE(keras.Model):\n",
    "    def __init__(self, encoder, decoder, **kwargs):\n",
    "        super(VAE, self).__init__(**kwargs)\n",
    "        self.encoder = encoder\n",
    "        self.decoder = decoder\n",
    "\n",
    "    def train_step(self, data):\n",
    "        if isinstance(data, tuple):\n",
    "            data = data[0]\n",
    "        with tf.GradientTape() as tape:\n",
    "            z_mean, z_log_var, z = encoder(data)\n",
    "            reconstruction = decoder(z)\n",
    "            reconstruction_loss = tf.reduce_mean(\n",
    "                keras.losses.binary_crossentropy(data, reconstruction)\n",
    "            )\n",
    "            reconstruction_loss *= 150 * 4\n",
    "            kl_loss = 1 + z_log_var - tf.square(z_mean) - tf.exp(z_log_var)\n",
    "            kl_loss = -1*tf.reduce_mean(kl_loss)\n",
    "            total_loss = reconstruction_loss + kl_loss\n",
    "        grads = tape.gradient(total_loss, self.trainable_weights)\n",
    "        self.optimizer.apply_gradients(zip(grads, self.trainable_weights))\n",
    "        return {\n",
    "            \"loss\": total_loss,\n",
    "            \"reconstruction_loss\": reconstruction_loss,\n",
    "            \"kl_loss\": kl_loss,\n",
    "        }\n",
    "    \n",
    "    def call(self, x):\n",
    "        x = self.encoder(x)\n",
    "        return self.decoder(x)"
   ]
  },
  {
   "cell_type": "code",
   "execution_count": 9,
   "metadata": {},
   "outputs": [
    {
     "name": "stdout",
     "output_type": "stream",
     "text": [
      "INFO:tensorflow:Using MirroredStrategy with devices ('/job:localhost/replica:0/task:0/device:GPU:0', '/job:localhost/replica:0/task:0/device:GPU:1', '/job:localhost/replica:0/task:0/device:GPU:2', '/job:localhost/replica:0/task:0/device:GPU:3', '/job:localhost/replica:0/task:0/device:GPU:4', '/job:localhost/replica:0/task:0/device:GPU:5', '/job:localhost/replica:0/task:0/device:GPU:6', '/job:localhost/replica:0/task:0/device:GPU:7')\n"
     ]
    }
   ],
   "source": [
    "strategy = tf.distribute.MirroredStrategy()"
   ]
  },
  {
   "cell_type": "code",
   "execution_count": 10,
   "metadata": {},
   "outputs": [],
   "source": [
    "latent_dim = 32\n",
    "width = 32\n",
    "input_size = (150,4,1)\n",
    "filter_size = (5, 4) \n",
    "epochs = 75\n",
    "batch_size = 1024"
   ]
  },
  {
   "cell_type": "code",
   "execution_count": 11,
   "metadata": {},
   "outputs": [],
   "source": [
    "ckpt_num = 'vanilla_vae'\n",
    "ckpt_dir = os.path.join(model_root, ckpt_num, '')\n",
    "if (os.path.isdir(ckpt_dir) == False):\n",
    "    os.mkdir(os.path.join(ckpt_dir, ''))"
   ]
  },
  {
   "cell_type": "code",
   "execution_count": 13,
   "metadata": {
    "scrolled": true
   },
   "outputs": [
    {
     "name": "stdout",
     "output_type": "stream",
     "text": [
      "Model: \"decoder\"\n",
      "_________________________________________________________________\n",
      "Layer (type)                 Output Shape              Param #   \n",
      "=================================================================\n",
      "input_4 (InputLayer)         [(None, 32)]              0         \n",
      "_________________________________________________________________\n",
      "dense_3 (Dense)              (None, 2432)              80256     \n",
      "_________________________________________________________________\n",
      "reshape_1 (Reshape)          (None, 19, 4, 32)         0         \n",
      "_________________________________________________________________\n",
      "conv2d_transpose_3 (Conv2DTr (None, 38, 4, 32)         40992     \n",
      "_________________________________________________________________\n",
      "conv2d_transpose_4 (Conv2DTr (None, 76, 4, 32)         40992     \n",
      "_________________________________________________________________\n",
      "batch_normalization_3 (Batch (None, 76, 4, 32)         128       \n",
      "_________________________________________________________________\n",
      "cropping2d_1 (Cropping2D)    (None, 75, 4, 32)         0         \n",
      "_________________________________________________________________\n",
      "conv2d_transpose_5 (Conv2DTr (None, 150, 4, 32)        40992     \n",
      "_________________________________________________________________\n",
      "conv2d_7 (Conv2D)            (None, 150, 4, 1)         1281      \n",
      "=================================================================\n",
      "Total params: 204,641\n",
      "Trainable params: 204,577\n",
      "Non-trainable params: 64\n",
      "_________________________________________________________________\n",
      "None\n",
      "Epoch 1/75\n",
      "INFO:tensorflow:batch_all_reduce: 26 all-reduces with algorithm = nccl, num_packs = 1\n",
      "INFO:tensorflow:batch_all_reduce: 26 all-reduces with algorithm = nccl, num_packs = 1\n",
      "166/166 [==============================] - 3s 20ms/step - loss: 339.2450 - reconstruction_loss: 339.2013 - kl_loss: 0.0437\n",
      "Epoch 2/75\n",
      "166/166 [==============================] - 3s 18ms/step - loss: 335.4157 - reconstruction_loss: 335.4157 - kl_loss: 5.4971e-05\n",
      "Epoch 3/75\n",
      "166/166 [==============================] - 3s 18ms/step - loss: 335.4155 - reconstruction_loss: 335.4155 - kl_loss: 2.2519e-05\n",
      "Epoch 4/75\n",
      "166/166 [==============================] - 3s 18ms/step - loss: 335.4602 - reconstruction_loss: 335.4601 - kl_loss: 1.7904e-05\n",
      "Epoch 5/75\n",
      "166/166 [==============================] - 3s 18ms/step - loss: 335.4721 - reconstruction_loss: 335.4720 - kl_loss: 1.5743e-05\n",
      "Epoch 6/75\n",
      "166/166 [==============================] - 3s 19ms/step - loss: 335.3903 - reconstruction_loss: 335.3902 - kl_loss: 1.5640e-05\n",
      "Epoch 7/75\n",
      "166/166 [==============================] - 3s 18ms/step - loss: 335.4355 - reconstruction_loss: 335.4354 - kl_loss: 1.6289e-05\n",
      "Epoch 8/75\n",
      "166/166 [==============================] - 3s 18ms/step - loss: 335.3781 - reconstruction_loss: 335.3781 - kl_loss: 1.6895e-05\n",
      "Epoch 9/75\n",
      "166/166 [==============================] - 3s 19ms/step - loss: 335.3502 - reconstruction_loss: 335.3502 - kl_loss: 1.7614e-05\n",
      "Epoch 10/75\n",
      "166/166 [==============================] - 3s 19ms/step - loss: 335.3739 - reconstruction_loss: 335.3739 - kl_loss: 1.8430e-05\n",
      "Epoch 11/75\n",
      "166/166 [==============================] - 3s 19ms/step - loss: 335.3737 - reconstruction_loss: 335.3736 - kl_loss: 1.9282e-05\n",
      "Epoch 12/75\n",
      "166/166 [==============================] - 3s 18ms/step - loss: 335.3772 - reconstruction_loss: 335.3771 - kl_loss: 1.9849e-05\n",
      "Epoch 13/75\n",
      "166/166 [==============================] - 3s 19ms/step - loss: 335.3700 - reconstruction_loss: 335.3700 - kl_loss: 1.9494e-05\n",
      "Epoch 14/75\n",
      "166/166 [==============================] - 3s 18ms/step - loss: 335.4185 - reconstruction_loss: 335.4185 - kl_loss: 1.8913e-05\n",
      "Epoch 15/75\n",
      "166/166 [==============================] - 3s 19ms/step - loss: 335.3751 - reconstruction_loss: 335.3751 - kl_loss: 1.8208e-05\n",
      "Epoch 16/75\n",
      "166/166 [==============================] - 3s 19ms/step - loss: 335.3617 - reconstruction_loss: 335.3617 - kl_loss: 1.7290e-05\n",
      "Epoch 17/75\n",
      "166/166 [==============================] - 3s 18ms/step - loss: 335.3320 - reconstruction_loss: 335.3320 - kl_loss: 1.6214e-05\n",
      "Epoch 18/75\n",
      "166/166 [==============================] - 3s 18ms/step - loss: 335.3656 - reconstruction_loss: 335.3655 - kl_loss: 1.4985e-05\n",
      "Epoch 19/75\n",
      "166/166 [==============================] - 3s 19ms/step - loss: 335.3757 - reconstruction_loss: 335.3757 - kl_loss: 1.3695e-05\n",
      "Epoch 20/75\n",
      "166/166 [==============================] - 3s 19ms/step - loss: 335.3832 - reconstruction_loss: 335.3832 - kl_loss: 1.2389e-05\n",
      "Epoch 21/75\n",
      "166/166 [==============================] - 3s 19ms/step - loss: 335.3733 - reconstruction_loss: 335.3733 - kl_loss: 1.1286e-05\n",
      "Epoch 22/75\n",
      "166/166 [==============================] - 3s 19ms/step - loss: 335.3938 - reconstruction_loss: 335.3938 - kl_loss: 1.0140e-05\n",
      "Epoch 23/75\n",
      "166/166 [==============================] - 3s 19ms/step - loss: 335.4004 - reconstruction_loss: 335.4004 - kl_loss: 9.1638e-06\n",
      "Epoch 24/75\n",
      "166/166 [==============================] - 3s 18ms/step - loss: 335.4250 - reconstruction_loss: 335.4250 - kl_loss: 8.2820e-06\n",
      "Epoch 25/75\n",
      "166/166 [==============================] - 3s 19ms/step - loss: 335.3666 - reconstruction_loss: 335.3666 - kl_loss: 7.4418e-06\n",
      "Epoch 26/75\n",
      "166/166 [==============================] - 3s 18ms/step - loss: 335.3432 - reconstruction_loss: 335.3432 - kl_loss: 6.8860e-06\n",
      "Epoch 27/75\n",
      "166/166 [==============================] - 3s 18ms/step - loss: 335.3924 - reconstruction_loss: 335.3924 - kl_loss: 6.2949e-06\n",
      "Epoch 28/75\n",
      "166/166 [==============================] - 3s 18ms/step - loss: 335.3223 - reconstruction_loss: 335.3223 - kl_loss: 5.9894e-06\n",
      "Epoch 29/75\n",
      "166/166 [==============================] - 3s 19ms/step - loss: 335.3967 - reconstruction_loss: 335.3967 - kl_loss: 5.8167e-06\n",
      "Epoch 30/75\n",
      "166/166 [==============================] - 3s 18ms/step - loss: 335.3767 - reconstruction_loss: 335.3767 - kl_loss: 5.5840e-06\n",
      "Epoch 31/75\n",
      "166/166 [==============================] - 3s 19ms/step - loss: 335.3617 - reconstruction_loss: 335.3617 - kl_loss: 5.4741e-06\n",
      "Epoch 32/75\n",
      "166/166 [==============================] - 3s 18ms/step - loss: 335.3867 - reconstruction_loss: 335.3867 - kl_loss: 5.3259e-06\n",
      "Epoch 33/75\n",
      "166/166 [==============================] - 3s 19ms/step - loss: 335.3034 - reconstruction_loss: 335.3034 - kl_loss: 5.2844e-06\n",
      "Epoch 34/75\n",
      "166/166 [==============================] - 3s 18ms/step - loss: 335.3600 - reconstruction_loss: 335.3600 - kl_loss: 5.1456e-06\n",
      "Epoch 35/75\n",
      "166/166 [==============================] - 3s 18ms/step - loss: 335.3663 - reconstruction_loss: 335.3663 - kl_loss: 4.9770e-06\n",
      "Epoch 36/75\n",
      "166/166 [==============================] - 3s 18ms/step - loss: 335.3505 - reconstruction_loss: 335.3505 - kl_loss: 5.0041e-06\n",
      "Epoch 37/75\n",
      "166/166 [==============================] - 3s 18ms/step - loss: 335.3503 - reconstruction_loss: 335.3503 - kl_loss: 4.9963e-06\n",
      "Epoch 38/75\n",
      "166/166 [==============================] - 3s 18ms/step - loss: 335.3377 - reconstruction_loss: 335.3377 - kl_loss: 5.3296e-06\n",
      "Epoch 39/75\n",
      "166/166 [==============================] - 3s 19ms/step - loss: 335.3730 - reconstruction_loss: 335.3730 - kl_loss: 5.5274e-06\n",
      "Epoch 40/75\n",
      "166/166 [==============================] - 3s 19ms/step - loss: 335.3635 - reconstruction_loss: 335.3635 - kl_loss: 4.9889e-06\n",
      "Epoch 41/75\n",
      "166/166 [==============================] - 3s 19ms/step - loss: 335.3737 - reconstruction_loss: 335.3737 - kl_loss: 4.9841e-06\n",
      "Epoch 42/75\n",
      "166/166 [==============================] - 3s 19ms/step - loss: 335.4045 - reconstruction_loss: 335.4045 - kl_loss: 5.2137e-06\n",
      "Epoch 43/75\n",
      "166/166 [==============================] - 3s 19ms/step - loss: 335.3873 - reconstruction_loss: 335.3873 - kl_loss: 5.0398e-06\n",
      "Epoch 44/75\n",
      "166/166 [==============================] - 3s 18ms/step - loss: 335.3415 - reconstruction_loss: 335.3415 - kl_loss: 4.8976e-06\n",
      "Epoch 45/75\n",
      "166/166 [==============================] - 3s 18ms/step - loss: 335.3810 - reconstruction_loss: 335.3810 - kl_loss: 4.7825e-06\n",
      "Epoch 46/75\n",
      "166/166 [==============================] - 3s 18ms/step - loss: 335.3629 - reconstruction_loss: 335.3629 - kl_loss: 4.5059e-06\n",
      "Epoch 47/75\n"
     ]
    },
    {
     "name": "stdout",
     "output_type": "stream",
     "text": [
      "166/166 [==============================] - 3s 19ms/step - loss: 335.3963 - reconstruction_loss: 335.3963 - kl_loss: 4.7048e-06\n",
      "Epoch 48/75\n",
      "166/166 [==============================] - 3s 19ms/step - loss: 335.3371 - reconstruction_loss: 335.3371 - kl_loss: 4.8417e-06\n",
      "Epoch 49/75\n",
      "166/166 [==============================] - 3s 19ms/step - loss: 335.3557 - reconstruction_loss: 335.3557 - kl_loss: 4.7162e-06\n",
      "Epoch 50/75\n",
      "166/166 [==============================] - 3s 19ms/step - loss: 335.3906 - reconstruction_loss: 335.3906 - kl_loss: 5.0257e-06\n",
      "Epoch 51/75\n",
      "166/166 [==============================] - 3s 19ms/step - loss: 335.4022 - reconstruction_loss: 335.4022 - kl_loss: 4.8228e-06\n",
      "Epoch 52/75\n",
      "166/166 [==============================] - 3s 19ms/step - loss: 335.3609 - reconstruction_loss: 335.3609 - kl_loss: 4.1529e-06\n",
      "Epoch 53/75\n",
      "166/166 [==============================] - 3s 18ms/step - loss: 335.3781 - reconstruction_loss: 335.3781 - kl_loss: 4.5517e-06\n",
      "Epoch 54/75\n",
      "166/166 [==============================] - 3s 18ms/step - loss: 335.3637 - reconstruction_loss: 335.3637 - kl_loss: 4.3441e-06\n",
      "Epoch 55/75\n",
      "166/166 [==============================] - 3s 19ms/step - loss: 335.3731 - reconstruction_loss: 335.3731 - kl_loss: 4.5531e-06\n",
      "Epoch 56/75\n",
      "166/166 [==============================] - 3s 18ms/step - loss: 335.3848 - reconstruction_loss: 335.3848 - kl_loss: 3.5551e-06\n",
      "Epoch 57/75\n",
      "166/166 [==============================] - 3s 18ms/step - loss: 335.3499 - reconstruction_loss: 335.3499 - kl_loss: 4.0934e-06\n",
      "Epoch 58/75\n",
      "166/166 [==============================] - 3s 19ms/step - loss: 335.3838 - reconstruction_loss: 335.3838 - kl_loss: 4.2671e-06\n",
      "Epoch 59/75\n",
      "166/166 [==============================] - 3s 19ms/step - loss: 335.3260 - reconstruction_loss: 335.3260 - kl_loss: 4.5742e-06\n",
      "Epoch 60/75\n",
      "166/166 [==============================] - 3s 18ms/step - loss: 335.3249 - reconstruction_loss: 335.3249 - kl_loss: 4.1386e-06\n",
      "Epoch 61/75\n",
      "166/166 [==============================] - 3s 19ms/step - loss: 335.3982 - reconstruction_loss: 335.3982 - kl_loss: 3.4751e-06\n",
      "Epoch 62/75\n",
      "166/166 [==============================] - 3s 18ms/step - loss: 335.3944 - reconstruction_loss: 335.3944 - kl_loss: 3.6956e-06\n",
      "Epoch 63/75\n",
      "166/166 [==============================] - 3s 19ms/step - loss: 335.3365 - reconstruction_loss: 335.3365 - kl_loss: 4.4676e-06\n",
      "Epoch 64/75\n",
      "166/166 [==============================] - 3s 19ms/step - loss: 335.4151 - reconstruction_loss: 335.4151 - kl_loss: 4.0952e-06\n",
      "Epoch 65/75\n",
      "166/166 [==============================] - 3s 18ms/step - loss: 335.3974 - reconstruction_loss: 335.3974 - kl_loss: 6.1124e-06\n",
      "Epoch 66/75\n",
      "166/166 [==============================] - 3s 18ms/step - loss: 335.3183 - reconstruction_loss: 335.3183 - kl_loss: 3.9676e-06\n",
      "Epoch 67/75\n",
      "166/166 [==============================] - 3s 19ms/step - loss: 335.4032 - reconstruction_loss: 335.4032 - kl_loss: 3.9057e-06\n",
      "Epoch 68/75\n",
      "166/166 [==============================] - 3s 19ms/step - loss: 335.4290 - reconstruction_loss: 335.4290 - kl_loss: 3.6494e-06\n",
      "Epoch 69/75\n",
      "166/166 [==============================] - 3s 19ms/step - loss: 335.3910 - reconstruction_loss: 335.3910 - kl_loss: 4.3358e-06\n",
      "Epoch 70/75\n",
      "166/166 [==============================] - 3s 19ms/step - loss: 335.3451 - reconstruction_loss: 335.3451 - kl_loss: 4.8259e-06\n",
      "Epoch 71/75\n",
      "166/166 [==============================] - 3s 19ms/step - loss: 335.4158 - reconstruction_loss: 335.4158 - kl_loss: 3.9393e-06\n",
      "Epoch 72/75\n",
      "166/166 [==============================] - 3s 18ms/step - loss: 335.3597 - reconstruction_loss: 335.3597 - kl_loss: 4.2850e-06\n",
      "Epoch 73/75\n",
      "166/166 [==============================] - 3s 18ms/step - loss: 335.3407 - reconstruction_loss: 335.3407 - kl_loss: 4.0859e-06\n",
      "Epoch 74/75\n",
      "166/166 [==============================] - 3s 19ms/step - loss: 335.3225 - reconstruction_loss: 335.3225 - kl_loss: 4.1459e-06\n",
      "Epoch 75/75\n",
      "166/166 [==============================] - 3s 19ms/step - loss: 335.3853 - reconstruction_loss: 335.3853 - kl_loss: 3.9119e-06\n"
     ]
    },
    {
     "data": {
      "image/png": "[encoded data removed]",
      "text/plain": [
       "<Figure size 432x288 with 2 Axes>"
      ]
     },
     "metadata": {
      "needs_background": "light"
     },
     "output_type": "display_data"
    }
   ],
   "source": [
    "with strategy.scope():\n",
    "    for f_size in [10]:\n",
    "        for latent_dim in [32]:\n",
    "            filter_size = (f_size, 4)\n",
    "            model_path = os.path.join(model_root, ckpt_num, str(f_size)+'_'+str(latent_dim)+'.h5')\n",
    "            hist_path = os.path.join(model_root, ckpt_num, str(f_size)+'_'+str(latent_dim))\n",
    "            encoder_inputs = keras.Input(shape=input_size)\n",
    "            x = layers.Conv2D(width, filter_size, activation=\"sigmoid\", strides=(2,1), padding=\"same\")(encoder_inputs)\n",
    "            x = layers.Conv2D(width, filter_size, activation=\"sigmoid\", strides=(2,1), padding=\"same\")(x)\n",
    "            x = layers.BatchNormalization()(x)\n",
    "            x = layers.Conv2D(width, filter_size, activation=\"sigmoid\", strides=(2,1), padding=\"same\")(x)\n",
    "            x = layers.Flatten()(x)\n",
    "            x = layers.Dense(width, activation=\"relu\")(x)\n",
    "            z_mean = layers.Dense(latent_dim, name=\"z_mean\")(x)\n",
    "            z_log_var = layers.Dense(latent_dim, name=\"z_log_var\")(x)\n",
    "            z = Sampling()([z_mean, z_log_var])\n",
    "            encoder = keras.Model(encoder_inputs, [z_mean, z_log_var, z], name=\"encoder\")\n",
    "\n",
    "            latent_inputs = keras.Input(shape=(latent_dim,))\n",
    "            x = layers.Dense(19 * 4 * width, activation=\"relu\")(latent_inputs)\n",
    "            x = layers.Reshape((19, 4, width))(x)\n",
    "            x = layers.Conv2DTranspose(width, filter_size, strides=(2, 1), padding=\"same\")(x)\n",
    "            x = layers.Conv2DTranspose(width, filter_size, strides=(2, 1), padding=\"same\")(x)\n",
    "            x = layers.BatchNormalization()(x)\n",
    "            x = layers.Cropping2D(cropping=((0, 1), (0, 0)))(x)\n",
    "            x = layers.Conv2DTranspose(width, filter_size, strides=(2, 1), padding=\"same\")(x)\n",
    "            decoder_outputs = layers.Conv2D(1, filter_size, activation=\"sigmoid\", padding=\"same\")(x)\n",
    "            decoder = keras.Model(latent_inputs, decoder_outputs, name=\"decoder\")\n",
    "            print(decoder.summary())\n",
    "            vae = VAE(encoder, decoder)\n",
    "            vae.compile(optimizer=keras.optimizers.Adam(0.0007))\n",
    "            history = vae.fit(train_reads, epochs=epochs, batch_size=batch_size, verbose =1)\n",
    "            with open(hist_path, 'wb') as f:\n",
    "                pickle.dump(history.history, f)\n",
    "            encoder.save(model_path)\n",
    "            \n",
    "            fig, ax1 = plt.subplots()\n",
    "            ax1.plot(history.history['reconstruction_loss'], color='green')\n",
    "            ax1.plot(history.history['loss'], color='red')\n",
    "\n",
    "\n",
    "            ax2 = ax1.twinx()\n",
    "            ax2.plot(history.history['kl_loss'])\n",
    "            plot_path = os.path.join(plot_root, str(f_size)+'_'+str(latent_dim)+'_loss''.png')\n",
    "            plt.savefig(plot_path)"
   ]
  },
  {
   "cell_type": "code",
   "execution_count": null,
   "metadata": {},
   "outputs": [],
   "source": []
  }
 ],
 "metadata": {
  "kernelspec": {
   "display_name": "Python 3",
   "language": "python",
   "name": "python3"
  },
  "language_info": {
   "codemirror_mode": {
    "name": "ipython",
    "version": 3
   },
   "file_extension": ".py",
   "mimetype": "text/x-python",
   "name": "python",
   "nbconvert_exporter": "python",
   "pygments_lexer": "ipython3",
   "version": "3.7.7"
  }
 },
 "nbformat": 4,
 "nbformat_minor": 4
}
