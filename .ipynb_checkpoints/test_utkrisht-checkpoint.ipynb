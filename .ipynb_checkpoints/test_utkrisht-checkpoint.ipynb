{
 "cells": [
  {
   "cell_type": "code",
   "execution_count": 1,
   "metadata": {},
   "outputs": [],
   "source": [
    "import warnings\n",
    "warnings.simplefilter(action='ignore')\n",
    "import numpy as np\n",
    "from matplotlib import pyplot as plt\n",
    "import seaborn as sns\n",
    "import pandas as pd\n",
    "import re, random, pickle, glob, os, difflib\n",
    "import tensorflow as tf\n",
    "import numpy as np\n",
    "from tensorflow.keras import layers \n",
    "from tensorflow.keras.models import load_model\n",
    "from sklearn.manifold import TSNE\n",
    "from utils import *"
   ]
  },
  {
   "cell_type": "code",
   "execution_count": 2,
   "metadata": {},
   "outputs": [
    {
     "name": "stdout",
     "output_type": "stream",
     "text": [
      "2.3.1\n"
     ]
    }
   ],
   "source": [
    "print(tf.__version__)"
   ]
  },
  {
   "cell_type": "code",
   "execution_count": 3,
   "metadata": {},
   "outputs": [],
   "source": [
    "class Sampling(layers.Layer):\n",
    "    \"\"\"Uses (z_mean, z_log_var) to sample z, the vector encoding a digit.\"\"\"\n",
    "\n",
    "    def call(self, inputs):\n",
    "        z_mean, z_log_var = inputs\n",
    "        batch = tf.shape(z_mean)[0]\n",
    "        dim = tf.shape(z_mean)[1]\n",
    "        epsilon = tf.keras.backend.random_normal(shape=(batch, dim))\n",
    "        output = z_mean + tf.exp(0.5 * z_log_var) * epsilon\n",
    "        return output"
   ]
  },
  {
   "cell_type": "code",
   "execution_count": 4,
   "metadata": {},
   "outputs": [],
   "source": [
    "test_root = 'test/'\n",
    "model_root = 'models/'\n",
    "plot_root = 'plots/'\n",
    "ckpt_root = 'vanilla_vae/'"
   ]
  },
  {
   "cell_type": "code",
   "execution_count": 5,
   "metadata": {},
   "outputs": [],
   "source": [
    "perplexity = [50, 100]\n",
    "d = 'cosine'\n",
    "learning_rate = [100]\n",
    "n_iter = 1000"
   ]
  },
  {
   "cell_type": "code",
   "execution_count": 6,
   "metadata": {},
   "outputs": [
    {
     "name": "stdout",
     "output_type": "stream",
     "text": [
      "(105492, 2)\n",
      "(105492, 2)\n"
     ]
    }
   ],
   "source": [
    "test_sets = ['test_easy_1.fa', 'test_easy_2.fa', 'test_intermidate_1.fa', 'test_intermidate_2.fa', 'test_difficult_1.fa', \n",
    "             'test_difficult_2.fa', 'test_very_difficult_1.fa', 'test_very_difficult_2.fa']\n",
    "easy_1 = assign_labels(read_fasta(test_root + test_sets[0]))\n",
    "easy_2 = assign_labels(read_fasta(test_root + test_sets[1]))\n",
    "\n",
    "test_reads_1 = np.array(seqs2onehot(np.array(easy_1.seqs)))\n",
    "test_reads_1 = np.delete(test_reads_1, 3, axis=2)\n",
    "test_reads_1 = np.expand_dims(test_reads_1, -1)\n",
    "\n",
    "test_reads_2 = np.array(seqs2onehot(np.array(easy_2.seqs)))\n",
    "test_reads_2 = np.delete(test_reads_2, 3, axis=2)\n",
    "test_reads_2 = np.expand_dims(test_reads_2, -1)"
   ]
  },
  {
   "cell_type": "code",
   "execution_count": 7,
   "metadata": {},
   "outputs": [
    {
     "name": "stdout",
     "output_type": "stream",
     "text": [
      "WARNING:tensorflow:No training configuration found in the save file, so the model was *not* compiled. Compile it manually.\n"
     ]
    }
   ],
   "source": [
    "for f_size in [10]:\n",
    "    for latent_dim in [512]:\n",
    "        filter_size = (f_size, 4)\n",
    "        model_path = os.path.join(model_root, ckpt_root, str(f_size)+'_'+str(latent_dim)+'.h5')\n",
    "        model = load_model(model_path, custom_objects={'Sampling': Sampling})\n",
    "        easy_1_predictions = model.predict(test_reads_1)\n",
    "        easy_2_predictions = model.predict(test_reads_2)\n",
    "\n",
    "        embeddings_1 = easy_1_predictions[2]\n",
    "        embeddings_2 = easy_2_predictions[2]\n",
    "#         X = np.hstack((embeddings_1, embeddings_2))\n",
    "#         for p in [30]:\n",
    "#             for lr in [70]:\n",
    "#                 plot_path = os.path.join(plot_root, str(f_size)+'_'+str(latent_dim)+'_'+\n",
    "#                                          str(p)+'_'+str(lr)+'.png')\n",
    "#                 print(plot_path)\n",
    "#                 clustering = TSNE(perplexity = p, metric = d, learning_rate = lr, n_iter = n_iter, verbose = 0)\n",
    "#                 embeddings = clustering.fit_transform(X)\n",
    "                \n",
    "\n",
    "#                 df = pd.DataFrame()\n",
    "#                 df['x'] = embeddings[:, 0]\n",
    "#                 df['y'] = embeddings[:, 1]\n",
    "#                 df['labels'] = easy_1.viral\n",
    "#                 sns.scatterplot(x=\"x\", y=\"y\", hue=\"labels\", data=df[df['labels']==0], alpha=0.1)\n",
    "#                 sns.scatterplot(x=\"x\", y=\"y\", hue=\"labels\", data=df[df['labels']==1], palette=['black'])\n",
    "#                 plt.savefig(plot_path)\n",
    "#                 plt.show()"
   ]
  },
  {
   "cell_type": "code",
   "execution_count": 10,
   "metadata": {},
   "outputs": [
    {
     "data": {
      "text/plain": [
       "(512,)"
      ]
     },
     "execution_count": 10,
     "metadata": {},
     "output_type": "execute_result"
    }
   ],
   "source": [
    "embeddings_1[1].shape"
   ]
  }
 ],
 "metadata": {
  "kernelspec": {
   "display_name": "Python 3",
   "language": "python",
   "name": "python3"
  },
  "language_info": {
   "codemirror_mode": {
    "name": "ipython",
    "version": 3
   },
   "file_extension": ".py",
   "mimetype": "text/x-python",
   "name": "python",
   "nbconvert_exporter": "python",
   "pygments_lexer": "ipython3",
   "version": "3.7.7"
  }
 },
 "nbformat": 4,
 "nbformat_minor": 4
}
