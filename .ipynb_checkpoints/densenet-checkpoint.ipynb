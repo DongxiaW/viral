{
 "cells": [
  {
   "cell_type": "markdown",
   "metadata": {},
   "source": [
    "# Project 1: Viral vs. Human Prediction"
   ]
  },
  {
   "cell_type": "code",
   "execution_count": 1,
   "metadata": {
    "scrolled": true
   },
   "outputs": [
    {
     "name": "stderr",
     "output_type": "stream",
     "text": [
      "Using TensorFlow backend.\n"
     ]
    }
   ],
   "source": [
    "import warnings\n",
    "warnings.simplefilter(action='ignore')\n",
    "from Bio import SeqIO\n",
    "import numpy as np\n",
    "from tqdm import tqdm\n",
    "import seaborn as sns\n",
    "from matplotlib import pyplot as plt\n",
    "import keras.backend as K\n",
    "from keras import models\n",
    "import os\n",
    "import pickle\n",
    "from keras.layers import *\n",
    "from keras.models import Sequential, load_model, Model\n",
    "from keras.utils import multi_gpu_model \n",
    "import matplotlib.pylab as plt\n",
    "from skimage.transform import resize\n",
    "from keras.callbacks import EarlyStopping\n",
    "from sklearn.model_selection import StratifiedKFold\n",
    "from IPython.display import SVG\n",
    "from tqdm import tnrange"
   ]
  },
  {
   "cell_type": "markdown",
   "metadata": {},
   "source": [
    "The encodings are as follows:\n",
    "1. A = [1, 0, 0, 0, 0]\n",
    "2. C = [0, 1, 0, 0, 0]\n",
    "3. G = [0, 0, 1, 0, 0]\n",
    "4. N = [0, 0, 0, 1, 0]\n",
    "5. T = [0, 0, 0, 0, 1]"
   ]
  },
  {
   "cell_type": "markdown",
   "metadata": {},
   "source": [
    "### load data set"
   ]
  },
  {
   "cell_type": "code",
   "execution_count": 2,
   "metadata": {},
   "outputs": [],
   "source": [
    "root_dir = '/home/ecvol/data/viral/'"
   ]
  },
  {
   "cell_type": "code",
   "execution_count": 3,
   "metadata": {},
   "outputs": [
    {
     "name": "stdout",
     "output_type": "stream",
     "text": [
      "X_train shape:  (3370000, 150, 5, 1) Y_train shape:  (3370000,) X_test shape (1010000, 150, 5, 1)\n"
     ]
    }
   ],
   "source": [
    "X_test = np.load(root_dir + 'test_set.npy')\n",
    "Y_test = np.load(root_dir + 'test_set_label.npy')\n",
    "X_train = np.load(root_dir + 'train_set.npy')\n",
    "Y_train = np.load(root_dir + 'train_set_label.npy')\n",
    "print(\"X_train shape: \", X_train.shape, \"Y_train shape: \", Y_train.shape, \"X_test shape\", X_test.shape)"
   ]
  },
  {
   "cell_type": "markdown",
   "metadata": {},
   "source": [
    "1685000 reads from 337 hpv references and chr1"
   ]
  },
  {
   "cell_type": "code",
   "execution_count": 4,
   "metadata": {},
   "outputs": [],
   "source": [
    "os.environ[\"CUDA_DEVICE_ORDER\"]=\"PCI_BUS_ID\"   # see issue #152\n",
    "os.environ[\"CUDA_VISIBLE_DEVICES\"]=\"1,2,3,4,5,6,7\""
   ]
  },
  {
   "cell_type": "code",
   "execution_count": null,
   "metadata": {
    "scrolled": true
   },
   "outputs": [
    {
     "name": "stdout",
     "output_type": "stream",
     "text": [
      "__________________________________________________________________________________________________\n",
      "Layer (type)                    Output Shape         Param #     Connected to                     \n",
      "==================================================================================================\n",
      "input_2 (InputLayer)            (None, 150, 5, 1)    0                                            \n",
      "__________________________________________________________________________________________________\n",
      "conv2d_8 (Conv2D)               (None, 150, 5, 32)   1632        input_2[0][0]                    \n",
      "__________________________________________________________________________________________________\n",
      "batch_normalization_8 (BatchNor (None, 150, 5, 32)   128         conv2d_8[0][0]                   \n",
      "__________________________________________________________________________________________________\n",
      "concatenate_7 (Concatenate)     (None, 150, 5, 33)   0           input_2[0][0]                    \n",
      "                                                                 batch_normalization_8[0][0]      \n",
      "__________________________________________________________________________________________________\n",
      "conv2d_9 (Conv2D)               (None, 150, 5, 32)   52832       concatenate_7[0][0]              \n",
      "__________________________________________________________________________________________________\n",
      "batch_normalization_9 (BatchNor (None, 150, 5, 32)   128         conv2d_9[0][0]                   \n",
      "__________________________________________________________________________________________________\n",
      "concatenate_8 (Concatenate)     (None, 150, 5, 66)   0           input_2[0][0]                    \n",
      "                                                                 concatenate_7[0][0]              \n",
      "                                                                 batch_normalization_9[0][0]      \n",
      "__________________________________________________________________________________________________\n",
      "conv2d_10 (Conv2D)              (None, 150, 5, 32)   105632      concatenate_8[0][0]              \n",
      "__________________________________________________________________________________________________\n",
      "batch_normalization_10 (BatchNo (None, 150, 5, 32)   128         conv2d_10[0][0]                  \n",
      "__________________________________________________________________________________________________\n",
      "concatenate_9 (Concatenate)     (None, 150, 5, 132)  0           input_2[0][0]                    \n",
      "                                                                 concatenate_7[0][0]              \n",
      "                                                                 concatenate_8[0][0]              \n",
      "                                                                 batch_normalization_10[0][0]     \n",
      "__________________________________________________________________________________________________\n",
      "conv2d_11 (Conv2D)              (None, 150, 5, 32)   211232      concatenate_9[0][0]              \n",
      "__________________________________________________________________________________________________\n",
      "batch_normalization_11 (BatchNo (None, 150, 5, 32)   128         conv2d_11[0][0]                  \n",
      "__________________________________________________________________________________________________\n",
      "concatenate_10 (Concatenate)    (None, 150, 5, 264)  0           input_2[0][0]                    \n",
      "                                                                 concatenate_7[0][0]              \n",
      "                                                                 concatenate_8[0][0]              \n",
      "                                                                 concatenate_9[0][0]              \n",
      "                                                                 batch_normalization_11[0][0]     \n",
      "__________________________________________________________________________________________________\n",
      "conv2d_12 (Conv2D)              (None, 150, 5, 32)   422432      concatenate_10[0][0]             \n",
      "__________________________________________________________________________________________________\n",
      "batch_normalization_12 (BatchNo (None, 150, 5, 32)   128         conv2d_12[0][0]                  \n",
      "__________________________________________________________________________________________________\n",
      "concatenate_11 (Concatenate)    (None, 150, 5, 528)  0           input_2[0][0]                    \n",
      "                                                                 concatenate_7[0][0]              \n",
      "                                                                 concatenate_8[0][0]              \n",
      "                                                                 concatenate_9[0][0]              \n",
      "                                                                 concatenate_10[0][0]             \n",
      "                                                                 batch_normalization_12[0][0]     \n",
      "__________________________________________________________________________________________________\n",
      "conv2d_13 (Conv2D)              (None, 150, 5, 32)   844832      concatenate_11[0][0]             \n",
      "__________________________________________________________________________________________________\n",
      "batch_normalization_13 (BatchNo (None, 150, 5, 32)   128         conv2d_13[0][0]                  \n",
      "__________________________________________________________________________________________________\n",
      "concatenate_12 (Concatenate)    (None, 150, 5, 1056) 0           input_2[0][0]                    \n",
      "                                                                 concatenate_7[0][0]              \n",
      "                                                                 concatenate_8[0][0]              \n",
      "                                                                 concatenate_9[0][0]              \n",
      "                                                                 concatenate_10[0][0]             \n",
      "                                                                 concatenate_11[0][0]             \n",
      "                                                                 batch_normalization_13[0][0]     \n",
      "__________________________________________________________________________________________________\n",
      "conv2d_14 (Conv2D)              (None, 150, 5, 32)   168992      concatenate_12[0][0]             \n",
      "__________________________________________________________________________________________________\n",
      "batch_normalization_14 (BatchNo (None, 150, 5, 32)   128         conv2d_14[0][0]                  \n",
      "__________________________________________________________________________________________________\n",
      "dropout_2 (Dropout)             (None, 150, 5, 32)   0           batch_normalization_14[0][0]     \n",
      "__________________________________________________________________________________________________\n",
      "flatten_2 (Flatten)             (None, 24000)        0           dropout_2[0][0]                  \n",
      "__________________________________________________________________________________________________\n",
      "dense_2 (Dense)                 (None, 1)            24001       flatten_2[0][0]                  \n",
      "==================================================================================================\n",
      "Total params: 1,832,481\n",
      "Trainable params: 1,832,033\n",
      "Non-trainable params: 448\n",
      "__________________________________________________________________________________________________\n",
      "None\n",
      "WARNING:tensorflow:From /opt/conda/lib/python3.7/site-packages/tensorflow/python/ops/math_ops.py:3066: to_int32 (from tensorflow.python.ops.math_ops) is deprecated and will be removed in a future version.\n",
      "Instructions for updating:\n",
      "Use tf.cast instead.\n",
      "Train on 2696000 samples, validate on 674000 samples\n",
      "Epoch 1/25\n",
      "2696000/2696000 [==============================] - 1177s 437us/step - loss: 0.1050 - acc: 0.9560 - val_loss: 0.0174 - val_acc: 0.9938\n",
      "Epoch 2/25\n",
      "2696000/2696000 [==============================] - 1181s 438us/step - loss: 0.0078 - acc: 0.9975 - val_loss: 0.0107 - val_acc: 0.9967\n",
      "Epoch 3/25\n",
      "2696000/2696000 [==============================] - 1169s 434us/step - loss: 0.0043 - acc: 0.9986 - val_loss: 0.0062 - val_acc: 0.9981\n",
      "Epoch 4/25\n",
      "2696000/2696000 [==============================] - 1158s 430us/step - loss: 0.0033 - acc: 0.9989 - val_loss: 0.0307 - val_acc: 0.9890\n"
     ]
    },
    {
     "name": "stdout",
     "output_type": "stream",
     "text": [
      "Epoch 5/25\n",
      " 352000/2696000 [==>...........................] - ETA: 16:05 - loss: 0.0022 - acc: 0.9993"
     ]
    }
   ],
   "source": [
    "num_viral = 10000\n",
    "num_hum = 1000000\n",
    "kfold = StratifiedKFold(n_splits=5, shuffle=True, random_state=4)\n",
    "split = kfold.split(X_train, Y_train)\n",
    "train, test = next(split)\n",
    "Y_test = Y_test == 1\n",
    "earlystopper = EarlyStopping(monitor='loss', patience=4, verbose=1)\n",
    "for num_filters in [32]:\n",
    "    for kmer_size in [10]:\n",
    "        inputs = Input(shape=(150,5,1))\n",
    "        \n",
    "        x1 = Conv2D(num_filters, kernel_size=(kmer_size,5), activation='relu', dilation_rate = (1,1), padding='same')(inputs)\n",
    "        x1 = BatchNormalization()(x1)\n",
    "        x1 = concatenate([inputs, x1])\n",
    "        \n",
    "        x2 = Conv2D(num_filters, kernel_size=(kmer_size,5), activation='relu', dilation_rate = (1,1), padding='same')(x1)\n",
    "        x2 = BatchNormalization()(x2)\n",
    "        x2 = concatenate([inputs, x1, x2])\n",
    "        \n",
    "        x3 = Conv2D(num_filters, kernel_size=(kmer_size,5), activation='relu', dilation_rate = (2,1), padding='same')(x2)\n",
    "        x3 = BatchNormalization()(x3)\n",
    "        x3 = concatenate([inputs, x1, x2, x3])\n",
    "        \n",
    "        x4 = Conv2D(num_filters, kernel_size=(kmer_size,5), activation='relu', dilation_rate = (4,1), padding='same')(x3)\n",
    "        x4 = BatchNormalization()(x4)\n",
    "        x4 = concatenate([inputs, x1, x2, x3, x4])\n",
    "        \n",
    "        x5 = Conv2D(num_filters, kernel_size=(kmer_size,5), activation='relu', dilation_rate = (8,1), padding='same')(x4)\n",
    "        x5 = BatchNormalization()(x5)\n",
    "        x5 = concatenate([inputs, x1, x2, x3, x4, x5])\n",
    "        \n",
    "        x6 = Conv2D(num_filters, kernel_size=(kmer_size,5), activation='relu', dilation_rate = (1,1), padding='same')(x5)\n",
    "        x6 = BatchNormalization()(x6)\n",
    "        x6 = concatenate([inputs, x1, x2, x3, x4, x5, x6])\n",
    "        \n",
    "        x7 = Conv2D(num_filters, kernel_size=(1,5), activation='relu', dilation_rate = (1,1), padding='same')(x6)\n",
    "        x7 = BatchNormalization()(x7)\n",
    "        x = Dropout(0.4)(x7)\n",
    "        x = Flatten()(x)\n",
    "        outputs = Dense(1, activation='sigmoid')(x)\n",
    "        model = Model(inputs=[inputs], outputs=[outputs])\n",
    "        print(model.summary())\n",
    "        model = multi_gpu_model(model, gpus=7)\n",
    "        model.compile(loss='binary_crossentropy', optimizer='adam', metrics=['accuracy'])\n",
    "        history = model.fit(X_train[train], Y_train[train], epochs=25, validation_data=(X_train[test], Y_train[test]), \n",
    "                  batch_size=3200, verbose=1, callbacks=[earlystopper])\n",
    "        hist_name = '/home/ecvol/viral/history/' + str(kmer_size) + '_' + str(num_filters) + '.png'\n",
    "        predictions = model.predict(X_test, verbose=1)\n",
    "        P = []\n",
    "        R = []\n",
    "        E = []\n",
    "        for t in np.arange(0,1,0.05).tolist():\n",
    "            temp = (predictions > t)\n",
    "            TP = 0\n",
    "            FP = 0\n",
    "            for i,j in zip(temp, Y_test):\n",
    "                if (i and j):\n",
    "                    TP += 1\n",
    "                if (i and not j):\n",
    "                    FP += 1\n",
    "\n",
    "            FN = num_viral - TP\n",
    "            P.append(TP / (TP + FP))\n",
    "            R.append(TP / (TP + FN))\n",
    "            E.append(1 - (FP/(num_hum)))\n",
    "        sns.lineplot(R, P)\n",
    "        plt.xlabel('Recall')\n",
    "        plt.ylabel('Precision')\n",
    "        plt.savefig(hist_name)\n",
    "        plt.clf()"
   ]
  },
  {
   "cell_type": "code",
   "execution_count": null,
   "metadata": {},
   "outputs": [],
   "source": [
    "print(history.history.keys())\n",
    "plt.plot(history.history['acc'])\n",
    "plt.plot(history.history['val_acc'])\n",
    "plt.title('model accuracy')\n",
    "plt.ylabel('accuracy')\n",
    "plt.xlabel('epoch')\n",
    "plt.legend(['train', 'validation'], loc='upper left')\n",
    "plt.show()\n",
    "\n",
    "plt.plot(history.history['loss'])\n",
    "plt.plot(history.history['val_loss'])\n",
    "plt.title('model loss')\n",
    "plt.ylabel('loss')\n",
    "plt.xlabel('epoch')\n",
    "plt.legend(['train', 'validation'], loc='upper left')\n",
    "plt.show()"
   ]
  },
  {
   "cell_type": "code",
   "execution_count": null,
   "metadata": {},
   "outputs": [],
   "source": [
    "predictions = model.predict(X_test, verbose=1)\n",
    "Y_test = Y_test == 1\n",
    "print(Y_test[:10], Y_test.shape)"
   ]
  },
  {
   "cell_type": "code",
   "execution_count": null,
   "metadata": {},
   "outputs": [],
   "source": [
    "P = []\n",
    "R = []\n",
    "E = []\n",
    "num_viral = 10000\n",
    "num_hum = 1000000\n",
    "for t in np.arange(0,1,0.05).tolist():\n",
    "    temp = (predictions > t)\n",
    "    TP = 0\n",
    "    FP = 0\n",
    "    for i,j in zip(temp, Y_test):\n",
    "        if (i and j):\n",
    "            TP += 1\n",
    "        if (i and not j):\n",
    "            FP += 1\n",
    "    \n",
    "    FN = num_viral - TP\n",
    "    P.append(TP / (TP + FP))\n",
    "    R.append(TP / (TP + FN))\n",
    "    E.append(1 - (FP/(num_hum)))\n",
    "sns.lineplot(R, P)\n",
    "plt.xlabel('Recall')\n",
    "plt.ylabel('Precision')\n",
    "plt.show()\n",
    "sns.lineplot(R, E)\n",
    "plt.xlabel('Recall')\n",
    "plt.ylabel('Efficiency')\n",
    "plt.show()"
   ]
  },
  {
   "cell_type": "code",
   "execution_count": null,
   "metadata": {
    "scrolled": true
   },
   "outputs": [],
   "source": [
    "def de_transform(one_hot):\n",
    "    one_hot = np.squeeze(one_hot)\n",
    "    mapping = dict(zip(range(5), 'ACGNT'))\n",
    "    sequences = []\n",
    "    for idx, i in enumerate(one_hot):\n",
    "        seq = np.argmax(i, axis=1)\n",
    "        seq = [mapping[j] for j in seq]\n",
    "        sequences.append(''.join(seq))\n",
    "    return np.array(sequences)\n",
    "\n",
    "def hamming_distance(train, test): \n",
    "    def distance(s1, s2):\n",
    "        return sum(ch1 != ch2 for ch1,ch2 in zip(s1,s2))\n",
    "    \n",
    "    ham_matrix = np.zeros((len(train), len(test)))\n",
    "    for te_id, te in enumerate(test):\n",
    "        for tr_id, tr in enumerate(train):\n",
    "            ham_matrix[tr_id][te_id] = distance(te, tr)\n",
    "    return ham_matrix"
   ]
  },
  {
   "cell_type": "code",
   "execution_count": null,
   "metadata": {},
   "outputs": [],
   "source": []
  }
 ],
 "metadata": {
  "kernelspec": {
   "display_name": "Python 3",
   "language": "python",
   "name": "python3"
  },
  "language_info": {
   "codemirror_mode": {
    "name": "ipython",
    "version": 3
   },
   "file_extension": ".py",
   "mimetype": "text/x-python",
   "name": "python",
   "nbconvert_exporter": "python",
   "pygments_lexer": "ipython3",
   "version": "3.7.3"
  }
 },
 "nbformat": 4,
 "nbformat_minor": 2
}
