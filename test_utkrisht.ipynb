{
 "cells": [
  {
   "cell_type": "code",
   "execution_count": 1,
   "metadata": {},
   "outputs": [],
   "source": [
    "import warnings\n",
    "warnings.simplefilter(action='ignore')\n",
    "import numpy as np\n",
    "from matplotlib import pyplot as plt\n",
    "import seaborn as sns\n",
    "import pandas as pd\n",
    "import re, random, pickle, glob, os, difflib\n",
    "import numpy as np\n",
    "from sklearn import metrics\n",
    "from utils import *\n",
    "import tensorflow as tf"
   ]
  },
  {
   "cell_type": "code",
   "execution_count": 2,
   "metadata": {},
   "outputs": [],
   "source": [
    "train_root = 'train/'\n",
    "test_root = 'test/'\n",
    "model_root = 'models/'\n",
    "plot_root = 'plots/'\n",
    "train_set = ['x10_reads.fa']\n",
    "test_sets = ['test_easy_1.fa', 'test_easy_2.fa', 'test_intermidate_1.fa', 'test_intermidate_2.fa', 'test_difficult_1.fa', \n",
    "             'test_difficult_2.fa', 'test_very_difficult_1.fa', 'test_very_difficult_2.fa']"
   ]
  },
  {
   "cell_type": "code",
   "execution_count": 3,
   "metadata": {},
   "outputs": [
    {
     "data": {
      "text/plain": [
       "0.5735314579611708"
      ]
     },
     "execution_count": 3,
     "metadata": {},
     "output_type": "execute_result"
    }
   ],
   "source": [
    "dvf = pd.read_csv('test/test_easy_1.csv', index_col=0)\n",
    "# deepvirfinder comparison\n",
    "dvf_true = dvf[dvf.names.str.contains('gi')]['scores'].to_numpy()\n",
    "dvf_false = dvf[~dvf.names.str.contains('gi')]['scores'].to_numpy()\n",
    "\n",
    "dvf_fpr = []\n",
    "dvf_tpr = []\n",
    "precision = []\n",
    "\n",
    "for i in range (100):\n",
    "    fp = np.sum(dvf_false>=(i/100))/len(dvf_false)\n",
    "    tp = np.sum(dvf_true>=(i/100))/len(dvf_true)\n",
    "    dvf_fpr.append(fp)\n",
    "    dvf_tpr.append(tp)\n",
    "metrics.auc(dvf_fpr, dvf_tpr)"
   ]
  },
  {
   "cell_type": "code",
   "execution_count": 4,
   "metadata": {},
   "outputs": [
    {
     "name": "stdout",
     "output_type": "stream",
     "text": [
      "(105492, 2)\n"
     ]
    }
   ],
   "source": [
    "easy_1 = assign_labels(read_fasta(test_root + test_sets[0]))\n",
    "test_reads_1 = np.array(seqs2onehot(np.array(easy_1.seqs)))\n",
    "test_reads_1 = np.delete(test_reads_1, 3, axis=2)\n",
    "test_reads_1 = np.expand_dims(test_reads_1, -1)"
   ]
  },
  {
   "cell_type": "code",
   "execution_count": 5,
   "metadata": {},
   "outputs": [],
   "source": [
    "vanilla = tf.keras.models.load_model('models/vanilla_vae/6_16_0.7328388135293772')\n",
    "beta = tf.keras.models.load_model('models/beta_vae/batch2048_width256_fsize10_latentdim32_beta0.1_0.31241775779823716')"
   ]
  },
  {
   "cell_type": "code",
   "execution_count": null,
   "metadata": {},
   "outputs": [
    {
     "name": "stdout",
     "output_type": "stream",
     "text": [
      "   1/3297 [..............................] - ETA: 0sWARNING:tensorflow:Callbacks method `on_predict_batch_end` is slow compared to the batch time (batch time: 0.0018s vs `on_predict_batch_end` time: 0.0309s). Check your callbacks.\n",
      "3297/3297 [==============================] - 102s 31ms/step\n",
      "   1/3297 [..............................] - ETA: 0sWARNING:tensorflow:Callbacks method `on_predict_batch_end` is slow compared to the batch time (batch time: 0.0013s vs `on_predict_batch_end` time: 0.0125s). Check your callbacks.\n",
      " 994/3297 [========>.....................] - ETA: 31s"
     ]
    }
   ],
   "source": [
    "vanilla_pred = vanilla.predict(test_reads_1, verbose=1)\n",
    "vanilla_pred = tf.keras.losses.binary_crossentropy(test_reads_1, vanilla_pred)\n",
    "vanilla_pred = tf.reduce_mean(vanilla_pred, [1,2])\n",
    "\n",
    "beta_pred = beta.predict(test_reads_1, verbose=1)\n",
    "beta_pred = tf.keras.losses.binary_crossentropy(test_reads_1, beta_pred)\n",
    "beta_pred = tf.reduce_mean(beta_pred, [1,2])"
   ]
  },
  {
   "cell_type": "code",
   "execution_count": null,
   "metadata": {},
   "outputs": [],
   "source": [
    "vanilla_fpr, vanilla_tpr, _ = metrics.roc_curve(np.array(easy_1.viral), vanilla_pred)\n",
    "beta_fpr, beta_tpr, _ = metrics.roc_curve(np.array(easy_1.viral), beta_pred)\n",
    "metrics.auc(vanilla_fpr, vanilla_tpr), metrics.auc(beta_fpr, beta_tpr)"
   ]
  },
  {
   "cell_type": "code",
   "execution_count": null,
   "metadata": {},
   "outputs": [],
   "source": [
    "fig,ax=plt.subplots(num=None, dpi = 300, figsize=(4, 4), facecolor='w', edgecolor='k')\n",
    "sns.lineplot(vanilla_fpr, vanilla_tpr, ax=ax)\n",
    "sns.lineplot(beta_fpr, beta_tpr, ax=ax)\n",
    "sns.lineplot(dvf_fpr, dvf_tpr, ax=ax)\n",
    "sns.lineplot([0, 1], [0, 1], style=True, dashes=[(3,3)], ax=ax)\n",
    "plt\n",
    "ax.legend(['vanilla-VAE', 'beta-VAE', 'DeepVirFinder'])\n",
    "ax.spines['right'].set_visible(False); ax.spines['top'].set_visible(False)\n",
    "label_font = {'weight':'bold', 'size':'15'};\n",
    "plt.xlabel('False Positive Rate', label_font); plt.ylabel('True Positive Rate', label_font); plt.tight_layout();"
   ]
  },
  {
   "cell_type": "code",
   "execution_count": null,
   "metadata": {},
   "outputs": [],
   "source": [
    "fig,ax=plt.subplots(num=None, dpi = 300, figsize=(4, 4), facecolor='w', edgecolor='k')\n",
    "sns.barplot(['vanilla-VAE', 'beta-VAE', 'DeepVirFinder'], [0.73, 0.31, 0.57], palette = 'deep', ax=ax)\n",
    "ax.legend(['vanilla-VAE', 'beta-VAE', 'DeepVirFinder'])\n",
    "ax.spines['right'].set_visible(False); ax.spines['top'].set_visible(False)\n",
    "plt.xlabel('Method', label_font); plt.ylabel('AUC', label_font); plt.tight_layout();"
   ]
  },
  {
   "cell_type": "code",
   "execution_count": null,
   "metadata": {},
   "outputs": [],
   "source": []
  }
 ],
 "metadata": {
  "kernelspec": {
   "display_name": "Python 3",
   "language": "python",
   "name": "python3"
  },
  "language_info": {
   "codemirror_mode": {
    "name": "ipython",
    "version": 3
   },
   "file_extension": ".py",
   "mimetype": "text/x-python",
   "name": "python",
   "nbconvert_exporter": "python",
   "pygments_lexer": "ipython3",
   "version": "3.7.7"
  }
 },
 "nbformat": 4,
 "nbformat_minor": 4
}
