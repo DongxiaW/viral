{
 "cells": [
  {
   "cell_type": "code",
   "execution_count": 1,
   "metadata": {},
   "outputs": [],
   "source": [
    "import warnings\n",
    "warnings.simplefilter(action='ignore')\n",
    "import numpy as np\n",
    "from matplotlib import pyplot as plt\n",
    "import pandas as pd\n",
    "import re, random, pickle, glob, os, difflib\n",
    "import tensorflow as tf\n",
    "import numpy as np\n",
    "from tensorflow import keras\n",
    "import tensorflow.keras.backend as K\n",
    "from tensorflow.keras import layers\n",
    "from tensorflow.keras.layers import *\n",
    "from tensorflow.keras.models import Sequential, load_model, Model\n",
    "from tensorflow.keras.callbacks import EarlyStopping, ModelCheckpoint\n",
    "from sklearn.model_selection import StratifiedKFold\n",
    "from utils import *\n",
    "\n",
    "os.environ[\"CUDA_DEVICE_ORDER\"]=\"PCI_BUS_ID\"\n",
    "os.environ[\"CUDA_VISIBLE_DEVICES\"]=\"0,1,2,3\" "
   ]
  },
  {
   "cell_type": "code",
   "execution_count": 2,
   "metadata": {},
   "outputs": [
    {
     "name": "stdout",
     "output_type": "stream",
     "text": [
      "2.3.1\n"
     ]
    }
   ],
   "source": [
    "print(tf.__version__)"
   ]
  },
  {
   "cell_type": "code",
   "execution_count": 3,
   "metadata": {},
   "outputs": [],
   "source": [
    "train_root = 'train/'\n",
    "test_root = 'test/'\n",
    "model_root = 'models/'\n",
    "train_set = ['x10_reads.fa']"
   ]
  },
  {
   "cell_type": "code",
   "execution_count": 4,
   "metadata": {},
   "outputs": [],
   "source": [
    "df = read_fasta(train_root + train_set[0])\n",
    "train_reads_original = np.array(seqs2onehot(np.array(df.seqs)))"
   ]
  },
  {
   "cell_type": "code",
   "execution_count": 5,
   "metadata": {},
   "outputs": [],
   "source": [
    "train_reads = np.delete(train_reads_original,3,axis=2)"
   ]
  },
  {
   "cell_type": "code",
   "execution_count": 7,
   "metadata": {},
   "outputs": [],
   "source": [
    "train_reads = np.expand_dims(train_reads, -1)\n",
    "train_reads.shape"
   ]
  },
  {
   "cell_type": "code",
   "execution_count": 8,
   "metadata": {},
   "outputs": [],
   "source": [
    "class Sampling(layers.Layer):\n",
    "    \"\"\"Uses (z_mean, z_log_var) to sample z, the vector encoding a digit.\"\"\"\n",
    "\n",
    "    def call(self, inputs):\n",
    "        z_mean, z_log_var = inputs\n",
    "        batch = tf.shape(z_mean)[0]\n",
    "        dim = tf.shape(z_mean)[1]\n",
    "        epsilon = tf.keras.backend.random_normal(shape=(batch, dim))\n",
    "        output = z_mean + tf.exp(0.5 * z_log_var) * epsilon\n",
    "        return output"
   ]
  },
  {
   "cell_type": "code",
   "execution_count": 9,
   "metadata": {},
   "outputs": [],
   "source": [
    "class VAE(keras.Model):\n",
    "    def __init__(self, encoder, decoder, **kwargs):\n",
    "        super(VAE, self).__init__(**kwargs)\n",
    "        self.encoder = encoder\n",
    "        self.decoder = decoder\n",
    "\n",
    "    def train_step(self, data):\n",
    "        if isinstance(data, tuple):\n",
    "            data = data[0]\n",
    "        with tf.GradientTape() as tape:\n",
    "            z_mean, z_log_var, z = encoder(data)\n",
    "            reconstruction = decoder(z)\n",
    "            reconstruction_loss = tf.reduce_mean(\n",
    "                keras.losses.binary_crossentropy(data, reconstruction)\n",
    "            )\n",
    "            reconstruction_loss *= 150 * 4\n",
    "            kl_loss = 1 + z_log_var - tf.square(z_mean) - tf.exp(z_log_var)\n",
    "            kl_loss = tf.reduce_mean(kl_loss)\n",
    "            kl_loss *= -0.5\n",
    "            total_loss = reconstruction_loss + kl_loss\n",
    "        grads = tape.gradient(total_loss, self.trainable_weights)\n",
    "        self.optimizer.apply_gradients(zip(grads, self.trainable_weights))\n",
    "        return {\n",
    "            \"loss\": total_loss,\n",
    "            \"reconstruction_loss\": reconstruction_loss,\n",
    "            \"kl_loss\": kl_loss,\n",
    "        }\n",
    "    \n",
    "    def call(self, x):\n",
    "        x = self.encoder(x)\n",
    "        return self.decoder(x)"
   ]
  },
  {
   "cell_type": "code",
   "execution_count": 10,
   "metadata": {},
   "outputs": [
    {
     "name": "stdout",
     "output_type": "stream",
     "text": [
      "INFO:tensorflow:Using MirroredStrategy with devices ('/job:localhost/replica:0/task:0/device:GPU:0', '/job:localhost/replica:0/task:0/device:GPU:1', '/job:localhost/replica:0/task:0/device:GPU:2', '/job:localhost/replica:0/task:0/device:GPU:3')\n"
     ]
    }
   ],
   "source": [
    "strategy = tf.distribute.MirroredStrategy()"
   ]
  },
  {
   "cell_type": "code",
   "execution_count": 19,
   "metadata": {},
   "outputs": [],
   "source": [
    "latent_dim = 32\n",
    "width = 32\n",
    "input_size = (150,4,1)\n",
    "filter_size = (10, 4) \n",
    "epochs = 60\n",
    "batch_size = 1024"
   ]
  },
  {
   "cell_type": "code",
   "execution_count": 20,
   "metadata": {},
   "outputs": [],
   "source": [
    "ckpt_num = 'vanilla_vae'\n",
    "ckpt_dir = os.path.join(model_root, ckpt_num, '')\n",
    "if (os.path.isdir(ckpt_dir) == False):\n",
    "    os.mkdir(os.path.join(ckpt_dir, ''))"
   ]
  },
  {
   "cell_type": "code",
   "execution_count": null,
   "metadata": {},
   "outputs": [
    {
     "name": "stdout",
     "output_type": "stream",
     "text": [
      "Epoch 1/60\n",
      "WARNING:tensorflow:From /opt/conda/envs/ecseg/lib/python3.7/site-packages/tensorflow/python/data/ops/multi_device_iterator_ops.py:601: get_next_as_optional (from tensorflow.python.data.ops.iterator_ops) is deprecated and will be removed in a future version.\n",
      "Instructions for updating:\n",
      "Use `tf.data.Iterator.get_next_as_optional()` instead.\n",
      "INFO:tensorflow:batch_all_reduce: 18 all-reduces with algorithm = nccl, num_packs = 1\n",
      "INFO:tensorflow:batch_all_reduce: 18 all-reduces with algorithm = nccl, num_packs = 1\n",
      "166/166 [==============================] - 4s 24ms/step - loss: 338.7290 - reconstruction_loss: 338.7167 - kl_loss: 0.0123\n",
      "Epoch 2/60\n",
      "166/166 [==============================] - 4s 23ms/step - loss: 335.3732 - reconstruction_loss: 335.3730 - kl_loss: 1.9043e-04\n",
      "Epoch 3/60\n",
      "166/166 [==============================] - 4s 23ms/step - loss: 335.3687 - reconstruction_loss: 335.3686 - kl_loss: 1.4368e-04\n",
      "Epoch 4/60\n",
      "166/166 [==============================] - 4s 23ms/step - loss: 335.3878 - reconstruction_loss: 335.3877 - kl_loss: 1.0574e-04\n",
      "Epoch 5/60\n",
      "166/166 [==============================] - 4s 23ms/step - loss: 335.3929 - reconstruction_loss: 335.3928 - kl_loss: 7.8245e-05\n",
      "Epoch 6/60\n",
      "166/166 [==============================] - 4s 23ms/step - loss: 335.3581 - reconstruction_loss: 335.3580 - kl_loss: 5.9519e-05\n",
      "Epoch 7/60\n",
      "166/166 [==============================] - 4s 23ms/step - loss: 335.3623 - reconstruction_loss: 335.3623 - kl_loss: 4.7490e-05\n",
      "Epoch 8/60\n",
      " 82/166 [=============>................] - ETA: 1s - loss: 335.3622 - reconstruction_loss: 335.3622 - kl_loss: 4.1124e-05"
     ]
    }
   ],
   "source": [
    "with strategy.scope():\n",
    "    for f_size in [10, 15, 20]:\n",
    "        for latent_dim in [10, 20, 30]:\n",
    "            filter_size = (f_size, 4)\n",
    "            model_path = os.path.join(model_root, ckpt_num, str(f_size)+'_'+str(latent_dim)+'.h5')\n",
    "            hist_path = os.path.join(model_root, ckpt_num, str(f_size)+'_'+str(latent_dim))\n",
    "            encoder_inputs = keras.Input(shape=input_size)\n",
    "            x = layers.Conv2D(width, filter_size, activation=\"relu\", strides=(2,1), padding=\"same\")(encoder_inputs)\n",
    "            x = layers.Conv2D(width, filter_size, activation=\"relu\", strides=(2,1), padding=\"same\")(x)\n",
    "            x = layers.Flatten()(x)\n",
    "            x = layers.Dense(width, activation=\"relu\")(x)\n",
    "            z_mean = layers.Dense(latent_dim, name=\"z_mean\")(x)\n",
    "            z_log_var = layers.Dense(latent_dim, name=\"z_log_var\")(x)\n",
    "            z = Sampling()([z_mean, z_log_var])\n",
    "            encoder = keras.Model(encoder_inputs, [z_mean, z_log_var, z], name=\"encoder\")\n",
    "\n",
    "            latent_inputs = keras.Input(shape=(latent_dim,))\n",
    "            x = layers.Dense(38 * 4 * width, activation=\"relu\")(latent_inputs)\n",
    "            x = layers.Reshape((38, 4, width))(x)\n",
    "            x = layers.Conv2DTranspose(width, filter_size, activation=\"relu\", strides=(2, 1), padding=\"same\")(x)\n",
    "            x = layers.Cropping2D(cropping=((0, 1), (0, 0)))(x)\n",
    "            x = layers.Conv2DTranspose(width, filter_size, activation=\"relu\", strides=(2, 1), padding=\"same\")(x)\n",
    "            decoder_outputs = layers.Conv2D(1, filter_size, activation=\"sigmoid\", padding=\"same\")(x)\n",
    "            decoder = keras.Model(latent_inputs, decoder_outputs, name=\"decoder\")\n",
    "            vae = VAE(encoder, decoder)\n",
    "            vae.compile(optimizer=keras.optimizers.Adam(0.001))\n",
    "            history = vae.fit(train_reads, epochs=epochs, batch_size=batch_size, verbose =1)\n",
    "            with open(hist_path, 'wb') as f:\n",
    "                pickle.dump(history.history, f)\n",
    "            encoder.save(model_path)"
   ]
  }
 ],
 "metadata": {
  "kernelspec": {
   "display_name": "Python 3",
   "language": "python",
   "name": "python3"
  },
  "language_info": {
   "codemirror_mode": {
    "name": "ipython",
    "version": 3
   },
   "file_extension": ".py",
   "mimetype": "text/x-python",
   "name": "python",
   "nbconvert_exporter": "python",
   "pygments_lexer": "ipython3",
   "version": "3.7.7"
  }
 },
 "nbformat": 4,
 "nbformat_minor": 4
}
