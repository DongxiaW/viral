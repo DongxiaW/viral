{
 "cells": [
  {
   "cell_type": "code",
   "execution_count": 1,
   "metadata": {},
   "outputs": [],
   "source": [
    "import warnings\n",
    "warnings.simplefilter(action='ignore')\n",
    "import numpy as np\n",
    "from matplotlib import pyplot as plt\n",
    "import pandas as pd\n",
    "import re, random, pickle, glob, os, difflib\n",
    "import tensorflow as tf\n",
    "import numpy as np\n",
    "from tensorflow import keras\n",
    "import tensorflow.keras.backend as K\n",
    "from tensorflow.keras import layers\n",
    "from tensorflow.keras.layers import *\n",
    "from tensorflow.keras.models import Sequential, load_model, Model\n",
    "from tensorflow.keras.callbacks import EarlyStopping, ModelCheckpoint\n",
    "from sklearn.model_selection import StratifiedKFold\n",
    "from utils import *\n",
    "\n",
    "os.environ[\"CUDA_DEVICE_ORDER\"]=\"PCI_BUS_ID\"\n",
    "os.environ[\"CUDA_VISIBLE_DEVICES\"]=\"4,5,6,7\" "
   ]
  },
  {
   "cell_type": "code",
   "execution_count": 2,
   "metadata": {},
   "outputs": [
    {
     "name": "stdout",
     "output_type": "stream",
     "text": [
      "2.3.1\n"
     ]
    }
   ],
   "source": [
    "print(tf.__version__)"
   ]
  },
  {
   "cell_type": "code",
   "execution_count": 3,
   "metadata": {},
   "outputs": [],
   "source": [
    "train_root = 'train/'\n",
    "test_root = 'test/'\n",
    "model_root = 'models/'\n",
    "train_set = ['x10_reads.fa']"
   ]
  },
  {
   "cell_type": "code",
   "execution_count": 4,
   "metadata": {},
   "outputs": [],
   "source": [
    "df = read_fasta(train_root + train_set[0])\n",
    "train_reads_original = np.array(seqs2onehot(np.array(df.seqs)))"
   ]
  },
  {
   "cell_type": "code",
   "execution_count": 5,
   "metadata": {},
   "outputs": [],
   "source": [
    "train_reads = np.delete(train_reads_original,3,axis=2)\n",
    "# mask = train_reads_original[...,3:4]"
   ]
  },
  {
   "cell_type": "code",
   "execution_count": 6,
   "metadata": {},
   "outputs": [],
   "source": [
    "train_reads = np.expand_dims(train_reads, -1)\n",
    "# mask = np.invert(np.expand_dims(mask, -1))"
   ]
  },
  {
   "cell_type": "code",
   "execution_count": 7,
   "metadata": {},
   "outputs": [
    {
     "name": "stdout",
     "output_type": "stream",
     "text": [
      "(169538, 150, 4, 1)\n"
     ]
    }
   ],
   "source": [
    "print(train_reads.shape)\n",
    "# print(mask.shape)"
   ]
  },
  {
   "cell_type": "code",
   "execution_count": 8,
   "metadata": {},
   "outputs": [],
   "source": [
    "# np.where(mask==False)"
   ]
  },
  {
   "cell_type": "code",
   "execution_count": 10,
   "metadata": {},
   "outputs": [
    {
     "data": {
      "text/plain": [
       "(169538, 150, 4, 1)"
      ]
     },
     "execution_count": 10,
     "metadata": {},
     "output_type": "execute_result"
    }
   ],
   "source": [
    "train_reads.shape"
   ]
  },
  {
   "cell_type": "code",
   "execution_count": 11,
   "metadata": {},
   "outputs": [],
   "source": [
    "class Sampling(layers.Layer):\n",
    "    \"\"\"Uses (z_mean, z_log_var) to sample z, the vector encoding a digit.\"\"\"\n",
    "\n",
    "    def call(self, inputs):\n",
    "        z_mean, z_log_var = inputs\n",
    "        batch = tf.shape(z_mean)[0]\n",
    "        dim = tf.shape(z_mean)[1]\n",
    "        epsilon = tf.keras.backend.random_normal(shape=(batch, dim))\n",
    "        output = z_mean + tf.exp(0.5 * z_log_var) * epsilon\n",
    "        return output"
   ]
  },
  {
   "cell_type": "code",
   "execution_count": 12,
   "metadata": {},
   "outputs": [],
   "source": [
    "class VAE(keras.Model):\n",
    "    def __init__(self, encoder, decoder, **kwargs):\n",
    "        super(VAE, self).__init__(**kwargs)\n",
    "        self.encoder = encoder\n",
    "        self.decoder = decoder\n",
    "\n",
    "    def train_step(self, data):\n",
    "        if isinstance(data, tuple):\n",
    "            data = data[0]\n",
    "        with tf.GradientTape() as tape:\n",
    "            z_mean, z_log_var, z = encoder(data)\n",
    "            reconstruction = decoder(z)\n",
    "            reconstruction_loss = tf.reduce_mean(\n",
    "                keras.losses.binary_crossentropy(data, reconstruction)\n",
    "            )\n",
    "            reconstruction_loss *= 150 * 4\n",
    "            kl_loss = 1 + z_log_var - tf.square(z_mean) - tf.exp(z_log_var)\n",
    "            kl_loss = tf.reduce_mean(kl_loss)\n",
    "            kl_loss *= -0.5\n",
    "            total_loss = reconstruction_loss + kl_loss\n",
    "        grads = tape.gradient(total_loss, self.trainable_weights)\n",
    "        self.optimizer.apply_gradients(zip(grads, self.trainable_weights))\n",
    "        return {\n",
    "            \"loss\": total_loss,\n",
    "            \"reconstruction_loss\": reconstruction_loss,\n",
    "            \"kl_loss\": kl_loss,\n",
    "        }\n",
    "    \n",
    "    def call(self, x):\n",
    "        x = self.encoder(x)\n",
    "        return self.decoder(x)"
   ]
  },
  {
   "cell_type": "code",
   "execution_count": 13,
   "metadata": {},
   "outputs": [
    {
     "name": "stdout",
     "output_type": "stream",
     "text": [
      "INFO:tensorflow:Using MirroredStrategy with devices ('/job:localhost/replica:0/task:0/device:GPU:0', '/job:localhost/replica:0/task:0/device:GPU:1', '/job:localhost/replica:0/task:0/device:GPU:2', '/job:localhost/replica:0/task:0/device:GPU:3')\n"
     ]
    }
   ],
   "source": [
    "strategy = tf.distribute.MirroredStrategy()"
   ]
  },
  {
   "cell_type": "code",
   "execution_count": 26,
   "metadata": {},
   "outputs": [],
   "source": [
    "latent_dim = 10\n",
    "width = 32\n",
    "input_size = (150,4,1)\n",
    "filter_size = (10, 4) #10, 15, 20\n",
    "epochs = 50\n",
    "batch_size = 2048"
   ]
  },
  {
   "cell_type": "code",
   "execution_count": 27,
   "metadata": {},
   "outputs": [],
   "source": [
    "ckpt_num = 'input_d4'\n",
    "ckpt_dir = os.path.join(model_root, ckpt_num, '')\n",
    "if (os.path.isdir(ckpt_dir) == False):\n",
    "    os.mkdir(os.path.join(ckpt_dir, ''))"
   ]
  },
  {
   "cell_type": "code",
   "execution_count": 28,
   "metadata": {
    "scrolled": true
   },
   "outputs": [
    {
     "name": "stdout",
     "output_type": "stream",
     "text": [
      "Model: \"encoder\"\n",
      "__________________________________________________________________________________________________\n",
      "Layer (type)                    Output Shape         Param #     Connected to                     \n",
      "==================================================================================================\n",
      "input_7 (InputLayer)            [(None, 150, 4, 1)]  0                                            \n",
      "__________________________________________________________________________________________________\n",
      "conv2d_9 (Conv2D)               (None, 75, 4, 32)    1312        input_7[0][0]                    \n",
      "__________________________________________________________________________________________________\n",
      "conv2d_10 (Conv2D)              (None, 38, 4, 32)    40992       conv2d_9[0][0]                   \n",
      "__________________________________________________________________________________________________\n",
      "flatten_3 (Flatten)             (None, 4864)         0           conv2d_10[0][0]                  \n",
      "__________________________________________________________________________________________________\n",
      "dense_6 (Dense)                 (None, 32)           155680      flatten_3[0][0]                  \n",
      "__________________________________________________________________________________________________\n",
      "z_mean (Dense)                  (None, 10)           330         dense_6[0][0]                    \n",
      "__________________________________________________________________________________________________\n",
      "z_log_var (Dense)               (None, 10)           330         dense_6[0][0]                    \n",
      "__________________________________________________________________________________________________\n",
      "sampling_3 (Sampling)           (None, 10)           0           z_mean[0][0]                     \n",
      "                                                                 z_log_var[0][0]                  \n",
      "==================================================================================================\n",
      "Total params: 198,644\n",
      "Trainable params: 198,644\n",
      "Non-trainable params: 0\n",
      "__________________________________________________________________________________________________\n",
      "None\n",
      "Model: \"decoder\"\n",
      "_________________________________________________________________\n",
      "Layer (type)                 Output Shape              Param #   \n",
      "=================================================================\n",
      "input_8 (InputLayer)         [(None, 10)]              0         \n",
      "_________________________________________________________________\n",
      "dense_7 (Dense)              (None, 4864)              53504     \n",
      "_________________________________________________________________\n",
      "reshape_3 (Reshape)          (None, 38, 4, 32)         0         \n",
      "_________________________________________________________________\n",
      "conv2d_transpose_6 (Conv2DTr (None, 76, 4, 32)         40992     \n",
      "_________________________________________________________________\n",
      "cropping2d_3 (Cropping2D)    (None, 75, 4, 32)         0         \n",
      "_________________________________________________________________\n",
      "conv2d_transpose_7 (Conv2DTr (None, 150, 4, 32)        40992     \n",
      "_________________________________________________________________\n",
      "conv2d_11 (Conv2D)           (None, 150, 4, 1)         1281      \n",
      "=================================================================\n",
      "Total params: 136,769\n",
      "Trainable params: 136,769\n",
      "Non-trainable params: 0\n",
      "_________________________________________________________________\n",
      "None\n"
     ]
    }
   ],
   "source": [
    "with strategy.scope():\n",
    "    encoder_inputs = keras.Input(shape=input_size)\n",
    "    x = layers.Conv2D(width, filter_size, activation=\"relu\", strides=(2,1), padding=\"same\")(encoder_inputs)\n",
    "    x = layers.Conv2D(width, filter_size, activation=\"relu\", strides=(2,1), padding=\"same\")(x)\n",
    "    x = layers.Flatten()(x)\n",
    "    x = layers.Dense(width, activation=\"relu\")(x)\n",
    "    z_mean = layers.Dense(latent_dim, name=\"z_mean\")(x)\n",
    "    z_log_var = layers.Dense(latent_dim, name=\"z_log_var\")(x)\n",
    "    z = Sampling()([z_mean, z_log_var])\n",
    "    encoder = keras.Model(encoder_inputs, [z_mean, z_log_var, z], name=\"encoder\")\n",
    "    print(encoder.summary())\n",
    "    \n",
    "    latent_inputs = keras.Input(shape=(latent_dim,))\n",
    "    x = layers.Dense(38 * 4 * width, activation=\"relu\")(latent_inputs)\n",
    "    x = layers.Reshape((38, 4, width))(x)\n",
    "\n",
    "    x = layers.Conv2DTranspose(width, filter_size, activation=\"relu\", strides=(2, 1), padding=\"same\")(x)\n",
    "    x = layers.Cropping2D(cropping=((0, 1), (0, 0)))(x)\n",
    "\n",
    "    x = layers.Conv2DTranspose(width, filter_size, activation=\"relu\", strides=(2, 1), padding=\"same\")(x)\n",
    "    decoder_outputs = layers.Conv2D(1, filter_size, activation=\"sigmoid\", padding=\"same\")(x)\n",
    "\n",
    "    decoder = keras.Model(latent_inputs, decoder_outputs, name=\"decoder\")\n",
    "    print(decoder.summary())\n",
    "    \n",
    "    vae = VAE(encoder, decoder)\n",
    "    vae.compile(optimizer=keras.optimizers.Adam(0.001))"
   ]
  },
  {
   "cell_type": "code",
   "execution_count": 29,
   "metadata": {},
   "outputs": [
    {
     "name": "stdout",
     "output_type": "stream",
     "text": [
      "Epoch 1/50\n",
      "INFO:tensorflow:batch_all_reduce: 18 all-reduces with algorithm = nccl, num_packs = 1\n",
      "INFO:tensorflow:batch_all_reduce: 18 all-reduces with algorithm = nccl, num_packs = 1\n",
      "83/83 [==============================] - 3s 41ms/step - loss: 360.8458 - reconstruction_loss: 359.8937 - kl_loss: 0.9521\n",
      "Epoch 2/50\n",
      "83/83 [==============================] - 3s 40ms/step - loss: 338.6883 - reconstruction_loss: 338.2589 - kl_loss: 0.4294\n",
      "Epoch 3/50\n",
      "83/83 [==============================] - 3s 40ms/step - loss: 337.6677 - reconstruction_loss: 337.3494 - kl_loss: 0.3183\n",
      "Epoch 4/50\n",
      "83/83 [==============================] - 3s 40ms/step - loss: 336.9968 - reconstruction_loss: 336.7448 - kl_loss: 0.2520\n",
      "Epoch 5/50\n",
      "83/83 [==============================] - 3s 40ms/step - loss: 336.3723 - reconstruction_loss: 336.2154 - kl_loss: 0.1569\n",
      "Epoch 6/50\n",
      "83/83 [==============================] - 3s 40ms/step - loss: 335.8443 - reconstruction_loss: 335.7608 - kl_loss: 0.0835\n",
      "Epoch 7/50\n",
      "83/83 [==============================] - 3s 40ms/step - loss: 335.5591 - reconstruction_loss: 335.5147 - kl_loss: 0.0443\n",
      "Epoch 8/50\n",
      "83/83 [==============================] - 3s 40ms/step - loss: 335.4579 - reconstruction_loss: 335.4311 - kl_loss: 0.0269\n",
      "Epoch 9/50\n",
      "83/83 [==============================] - 3s 40ms/step - loss: 335.4647 - reconstruction_loss: 335.4472 - kl_loss: 0.0175\n",
      "Epoch 10/50\n",
      "83/83 [==============================] - 3s 40ms/step - loss: 335.4048 - reconstruction_loss: 335.3930 - kl_loss: 0.0118\n",
      "Epoch 11/50\n",
      "83/83 [==============================] - 3s 40ms/step - loss: 335.4213 - reconstruction_loss: 335.4132 - kl_loss: 0.0081\n",
      "Epoch 12/50\n",
      "83/83 [==============================] - 3s 41ms/step - loss: 335.4046 - reconstruction_loss: 335.3990 - kl_loss: 0.0057\n",
      "Epoch 13/50\n",
      "83/83 [==============================] - 3s 40ms/step - loss: 335.3924 - reconstruction_loss: 335.3883 - kl_loss: 0.0040\n",
      "Epoch 14/50\n",
      "83/83 [==============================] - 3s 41ms/step - loss: 335.3811 - reconstruction_loss: 335.3782 - kl_loss: 0.0030\n",
      "Epoch 15/50\n",
      "83/83 [==============================] - 3s 40ms/step - loss: 335.3757 - reconstruction_loss: 335.3735 - kl_loss: 0.0022\n",
      "Epoch 16/50\n",
      "83/83 [==============================] - 3s 40ms/step - loss: 335.3663 - reconstruction_loss: 335.3643 - kl_loss: 0.0020\n",
      "Epoch 17/50\n",
      "83/83 [==============================] - 3s 40ms/step - loss: 335.4028 - reconstruction_loss: 335.3996 - kl_loss: 0.0032\n",
      "Epoch 18/50\n",
      "83/83 [==============================] - 3s 40ms/step - loss: 335.3564 - reconstruction_loss: 335.3462 - kl_loss: 0.0102\n",
      "Epoch 19/50\n",
      "83/83 [==============================] - 3s 41ms/step - loss: 334.9476 - reconstruction_loss: 334.8741 - kl_loss: 0.0734\n",
      "Epoch 20/50\n",
      "83/83 [==============================] - 3s 40ms/step - loss: 333.7593 - reconstruction_loss: 333.4515 - kl_loss: 0.3078\n",
      "Epoch 21/50\n",
      "83/83 [==============================] - 3s 40ms/step - loss: 333.4599 - reconstruction_loss: 333.1198 - kl_loss: 0.3401\n",
      "Epoch 22/50\n",
      "83/83 [==============================] - 3s 41ms/step - loss: 333.1154 - reconstruction_loss: 332.7863 - kl_loss: 0.3290\n",
      "Epoch 23/50\n",
      "83/83 [==============================] - 3s 40ms/step - loss: 332.0092 - reconstruction_loss: 331.5141 - kl_loss: 0.4951\n",
      "Epoch 24/50\n",
      "83/83 [==============================] - 3s 41ms/step - loss: 330.8060 - reconstruction_loss: 330.0305 - kl_loss: 0.7755\n",
      "Epoch 25/50\n",
      "83/83 [==============================] - 3s 41ms/step - loss: 329.5647 - reconstruction_loss: 328.4372 - kl_loss: 1.1275\n",
      "Epoch 26/50\n",
      "83/83 [==============================] - 3s 40ms/step - loss: 328.1312 - reconstruction_loss: 326.6223 - kl_loss: 1.5089\n",
      "Epoch 27/50\n",
      "83/83 [==============================] - 3s 41ms/step - loss: 327.2209 - reconstruction_loss: 325.5615 - kl_loss: 1.6593\n",
      "Epoch 28/50\n",
      "83/83 [==============================] - 3s 40ms/step - loss: 326.8685 - reconstruction_loss: 325.2143 - kl_loss: 1.6542\n",
      "Epoch 29/50\n",
      "83/83 [==============================] - 3s 40ms/step - loss: 326.7332 - reconstruction_loss: 325.1267 - kl_loss: 1.6065\n",
      "Epoch 30/50\n",
      "83/83 [==============================] - 3s 41ms/step - loss: 326.5545 - reconstruction_loss: 324.9740 - kl_loss: 1.5805\n",
      "Epoch 31/50\n",
      "83/83 [==============================] - 3s 40ms/step - loss: 326.4658 - reconstruction_loss: 324.9026 - kl_loss: 1.5632\n",
      "Epoch 32/50\n",
      "83/83 [==============================] - 3s 41ms/step - loss: 326.4094 - reconstruction_loss: 324.8588 - kl_loss: 1.5506\n",
      "Epoch 33/50\n",
      "83/83 [==============================] - 3s 40ms/step - loss: 326.4681 - reconstruction_loss: 324.9295 - kl_loss: 1.5387\n",
      "Epoch 34/50\n",
      "83/83 [==============================] - 3s 41ms/step - loss: 326.3533 - reconstruction_loss: 324.8158 - kl_loss: 1.5375\n",
      "Epoch 35/50\n",
      "83/83 [==============================] - 3s 40ms/step - loss: 326.3287 - reconstruction_loss: 324.7948 - kl_loss: 1.5339\n",
      "Epoch 36/50\n",
      "83/83 [==============================] - 3s 41ms/step - loss: 326.2230 - reconstruction_loss: 324.6898 - kl_loss: 1.5332\n",
      "Epoch 37/50\n",
      "83/83 [==============================] - 3s 40ms/step - loss: 326.2021 - reconstruction_loss: 324.6718 - kl_loss: 1.5303\n",
      "Epoch 38/50\n",
      "83/83 [==============================] - 3s 41ms/step - loss: 326.1110 - reconstruction_loss: 324.5811 - kl_loss: 1.5299\n",
      "Epoch 39/50\n",
      "83/83 [==============================] - 3s 41ms/step - loss: 326.1853 - reconstruction_loss: 324.6566 - kl_loss: 1.5287\n",
      "Epoch 40/50\n",
      "83/83 [==============================] - 3s 41ms/step - loss: 326.1741 - reconstruction_loss: 324.6386 - kl_loss: 1.5354\n",
      "Epoch 41/50\n",
      "83/83 [==============================] - 3s 41ms/step - loss: 326.0714 - reconstruction_loss: 324.4989 - kl_loss: 1.5725\n",
      "Epoch 42/50\n",
      "83/83 [==============================] - 3s 41ms/step - loss: 325.7760 - reconstruction_loss: 324.1083 - kl_loss: 1.6677\n",
      "Epoch 43/50\n",
      "83/83 [==============================] - 3s 41ms/step - loss: 325.5929 - reconstruction_loss: 323.9043 - kl_loss: 1.6885\n",
      "Epoch 44/50\n",
      "83/83 [==============================] - 3s 41ms/step - loss: 325.5316 - reconstruction_loss: 323.8529 - kl_loss: 1.6787\n",
      "Epoch 45/50\n",
      "83/83 [==============================] - 3s 41ms/step - loss: 325.5262 - reconstruction_loss: 323.8561 - kl_loss: 1.6701\n",
      "Epoch 46/50\n",
      "83/83 [==============================] - 3s 41ms/step - loss: 325.4136 - reconstruction_loss: 323.7481 - kl_loss: 1.6655\n",
      "Epoch 47/50\n",
      "83/83 [==============================] - 3s 41ms/step - loss: 325.4712 - reconstruction_loss: 323.8122 - kl_loss: 1.6590\n",
      "Epoch 48/50\n",
      "83/83 [==============================] - 3s 41ms/step - loss: 325.4438 - reconstruction_loss: 323.7851 - kl_loss: 1.6587\n",
      "Epoch 49/50\n",
      "83/83 [==============================] - 3s 41ms/step - loss: 325.4462 - reconstruction_loss: 323.7927 - kl_loss: 1.6535\n",
      "Epoch 50/50\n",
      "83/83 [==============================] - 3s 41ms/step - loss: 325.3757 - reconstruction_loss: 323.7232 - kl_loss: 1.6525\n"
     ]
    }
   ],
   "source": [
    "# lr 0.0001\n",
    "history = vae.fit(train_reads, epochs=epochs, batch_size=batch_size, verbose =1)"
   ]
  },
  {
   "cell_type": "code",
   "execution_count": 21,
   "metadata": {
    "scrolled": true
   },
   "outputs": [
    {
     "name": "stdout",
     "output_type": "stream",
     "text": [
      "Epoch 1/50\n",
      "INFO:tensorflow:batch_all_reduce: 18 all-reduces with algorithm = nccl, num_packs = 1\n",
      "INFO:tensorflow:batch_all_reduce: 18 all-reduces with algorithm = nccl, num_packs = 1\n",
      "83/83 [==============================] - 3s 41ms/step - loss: 343.6486 - reconstruction_loss: 343.6481 - kl_loss: 5.2490e-04\n",
      "Epoch 2/50\n",
      "83/83 [==============================] - 3s 40ms/step - loss: 336.2361 - reconstruction_loss: 336.2351 - kl_loss: 0.0010\n",
      "Epoch 3/50\n",
      "83/83 [==============================] - 3s 40ms/step - loss: 335.5576 - reconstruction_loss: 335.5339 - kl_loss: 0.0237\n",
      "Epoch 4/50\n",
      "83/83 [==============================] - 3s 40ms/step - loss: 332.6154 - reconstruction_loss: 332.0263 - kl_loss: 0.5890\n",
      "Epoch 5/50\n",
      "83/83 [==============================] - 3s 40ms/step - loss: 330.0693 - reconstruction_loss: 329.1157 - kl_loss: 0.9536\n",
      "Epoch 6/50\n",
      "83/83 [==============================] - 3s 40ms/step - loss: 328.6144 - reconstruction_loss: 327.4041 - kl_loss: 1.2103\n",
      "Epoch 7/50\n",
      "83/83 [==============================] - 3s 40ms/step - loss: 328.4005 - reconstruction_loss: 327.2596 - kl_loss: 1.1409\n",
      "Epoch 8/50\n",
      "83/83 [==============================] - 3s 40ms/step - loss: 328.2872 - reconstruction_loss: 327.1681 - kl_loss: 1.1192\n",
      "Epoch 9/50\n",
      "83/83 [==============================] - 3s 40ms/step - loss: 328.2394 - reconstruction_loss: 327.1346 - kl_loss: 1.1048\n",
      "Epoch 10/50\n",
      "83/83 [==============================] - 3s 40ms/step - loss: 328.2012 - reconstruction_loss: 327.1109 - kl_loss: 1.0903\n",
      "Epoch 11/50\n",
      "83/83 [==============================] - 3s 40ms/step - loss: 328.1645 - reconstruction_loss: 327.0813 - kl_loss: 1.0832\n",
      "Epoch 12/50\n",
      "83/83 [==============================] - 3s 40ms/step - loss: 328.1156 - reconstruction_loss: 327.0426 - kl_loss: 1.0730\n",
      "Epoch 13/50\n",
      "83/83 [==============================] - 3s 40ms/step - loss: 328.0591 - reconstruction_loss: 326.9927 - kl_loss: 1.0664\n",
      "Epoch 14/50\n",
      "83/83 [==============================] - 3s 40ms/step - loss: 328.1295 - reconstruction_loss: 327.0717 - kl_loss: 1.0578\n",
      "Epoch 15/50\n",
      "83/83 [==============================] - 3s 40ms/step - loss: 328.0796 - reconstruction_loss: 327.0263 - kl_loss: 1.0533\n",
      "Epoch 16/50\n",
      "83/83 [==============================] - 3s 40ms/step - loss: 328.0179 - reconstruction_loss: 326.9707 - kl_loss: 1.0472\n",
      "Epoch 17/50\n",
      "83/83 [==============================] - 3s 40ms/step - loss: 327.9735 - reconstruction_loss: 326.9268 - kl_loss: 1.0467\n",
      "Epoch 18/50\n",
      "83/83 [==============================] - 3s 40ms/step - loss: 327.9306 - reconstruction_loss: 326.8839 - kl_loss: 1.0466\n",
      "Epoch 19/50\n",
      "83/83 [==============================] - 3s 41ms/step - loss: 327.9694 - reconstruction_loss: 326.9266 - kl_loss: 1.0428\n",
      "Epoch 20/50\n",
      "83/83 [==============================] - 3s 40ms/step - loss: 327.9470 - reconstruction_loss: 326.9052 - kl_loss: 1.0418\n",
      "Epoch 21/50\n",
      "83/83 [==============================] - 3s 40ms/step - loss: 327.9716 - reconstruction_loss: 326.9318 - kl_loss: 1.0398\n",
      "Epoch 22/50\n",
      "83/83 [==============================] - 3s 41ms/step - loss: 327.9459 - reconstruction_loss: 326.9051 - kl_loss: 1.0408\n",
      "Epoch 23/50\n",
      "83/83 [==============================] - 3s 40ms/step - loss: 328.0128 - reconstruction_loss: 326.9746 - kl_loss: 1.0383\n",
      "Epoch 24/50\n",
      "83/83 [==============================] - 3s 40ms/step - loss: 327.8984 - reconstruction_loss: 326.8544 - kl_loss: 1.0441\n",
      "Epoch 25/50\n",
      "83/83 [==============================] - 3s 40ms/step - loss: 327.9324 - reconstruction_loss: 326.8892 - kl_loss: 1.0432\n",
      "Epoch 26/50\n",
      "83/83 [==============================] - 3s 41ms/step - loss: 327.8458 - reconstruction_loss: 326.7992 - kl_loss: 1.0466\n",
      "Epoch 27/50\n",
      "83/83 [==============================] - 3s 40ms/step - loss: 327.9359 - reconstruction_loss: 326.8885 - kl_loss: 1.0474\n",
      "Epoch 28/50\n",
      "83/83 [==============================] - 3s 40ms/step - loss: 327.8188 - reconstruction_loss: 326.7674 - kl_loss: 1.0513\n",
      "Epoch 29/50\n",
      "83/83 [==============================] - 3s 40ms/step - loss: 327.8543 - reconstruction_loss: 326.7997 - kl_loss: 1.0546\n",
      "Epoch 30/50\n",
      "83/83 [==============================] - 3s 41ms/step - loss: 327.8208 - reconstruction_loss: 326.7624 - kl_loss: 1.0584\n",
      "Epoch 31/50\n",
      "83/83 [==============================] - 3s 40ms/step - loss: 327.7747 - reconstruction_loss: 326.7114 - kl_loss: 1.0634\n",
      "Epoch 32/50\n",
      "83/83 [==============================] - 3s 40ms/step - loss: 327.7537 - reconstruction_loss: 326.6846 - kl_loss: 1.0692\n",
      "Epoch 33/50\n",
      "83/83 [==============================] - 3s 40ms/step - loss: 327.7510 - reconstruction_loss: 326.6800 - kl_loss: 1.0709\n",
      "Epoch 34/50\n",
      "83/83 [==============================] - 3s 40ms/step - loss: 327.7562 - reconstruction_loss: 326.6815 - kl_loss: 1.0747\n",
      "Epoch 35/50\n",
      "83/83 [==============================] - 3s 40ms/step - loss: 327.7012 - reconstruction_loss: 326.6286 - kl_loss: 1.0726\n",
      "Epoch 36/50\n",
      "83/83 [==============================] - 3s 40ms/step - loss: 325.8687 - reconstruction_loss: 324.7735 - kl_loss: 1.0951\n",
      "Epoch 37/50\n",
      "83/83 [==============================] - 3s 40ms/step - loss: 325.1872 - reconstruction_loss: 324.0762 - kl_loss: 1.1110\n",
      "Epoch 38/50\n",
      "83/83 [==============================] - 3s 40ms/step - loss: 325.0024 - reconstruction_loss: 323.8818 - kl_loss: 1.1206\n",
      "Epoch 39/50\n",
      "83/83 [==============================] - 3s 40ms/step - loss: 324.8691 - reconstruction_loss: 323.7430 - kl_loss: 1.1261\n",
      "Epoch 40/50\n",
      "83/83 [==============================] - 3s 40ms/step - loss: 324.8799 - reconstruction_loss: 323.7508 - kl_loss: 1.1290\n",
      "Epoch 41/50\n",
      "83/83 [==============================] - 3s 40ms/step - loss: 324.8333 - reconstruction_loss: 323.6992 - kl_loss: 1.1341\n",
      "Epoch 42/50\n",
      "83/83 [==============================] - 3s 40ms/step - loss: 324.7605 - reconstruction_loss: 323.6235 - kl_loss: 1.1370\n",
      "Epoch 43/50\n",
      "83/83 [==============================] - 3s 40ms/step - loss: 324.6900 - reconstruction_loss: 323.5494 - kl_loss: 1.1406\n",
      "Epoch 44/50\n",
      "83/83 [==============================] - 3s 40ms/step - loss: 324.7242 - reconstruction_loss: 323.5812 - kl_loss: 1.1430\n",
      "Epoch 45/50\n",
      "83/83 [==============================] - 3s 40ms/step - loss: 324.6847 - reconstruction_loss: 323.5404 - kl_loss: 1.1443\n",
      "Epoch 46/50\n",
      "83/83 [==============================] - 3s 40ms/step - loss: 324.6762 - reconstruction_loss: 323.5327 - kl_loss: 1.1435\n",
      "Epoch 47/50\n",
      "83/83 [==============================] - 3s 40ms/step - loss: 324.6660 - reconstruction_loss: 323.5166 - kl_loss: 1.1494\n",
      "Epoch 48/50\n",
      "83/83 [==============================] - 3s 40ms/step - loss: 324.6750 - reconstruction_loss: 323.5248 - kl_loss: 1.1502\n",
      "Epoch 49/50\n",
      "83/83 [==============================] - 3s 40ms/step - loss: 324.6453 - reconstruction_loss: 323.4914 - kl_loss: 1.1539\n",
      "Epoch 50/50\n",
      "83/83 [==============================] - 3s 40ms/step - loss: 324.6451 - reconstruction_loss: 323.4904 - kl_loss: 1.1546\n"
     ]
    }
   ],
   "source": [
    "# lr 0.001\n",
    "history = vae.fit(train_reads, epochs=epochs, batch_size=batch_size, verbose =1)"
   ]
  },
  {
   "cell_type": "code",
   "execution_count": 25,
   "metadata": {
    "scrolled": true
   },
   "outputs": [
    {
     "name": "stdout",
     "output_type": "stream",
     "text": [
      "Epoch 1/50\n",
      "INFO:tensorflow:batch_all_reduce: 18 all-reduces with algorithm = nccl, num_packs = 1\n",
      "INFO:tensorflow:batch_all_reduce: 18 all-reduces with algorithm = nccl, num_packs = 1\n",
      "83/83 [==============================] - 3s 41ms/step - loss: 357.5218 - reconstruction_loss: 357.5015 - kl_loss: 0.0202\n",
      "Epoch 2/50\n",
      "83/83 [==============================] - 3s 40ms/step - loss: 335.5530 - reconstruction_loss: 335.5514 - kl_loss: 0.0016\n",
      "Epoch 3/50\n",
      "83/83 [==============================] - 3s 40ms/step - loss: 335.5545 - reconstruction_loss: 335.5533 - kl_loss: 0.0011\n",
      "Epoch 4/50\n",
      "83/83 [==============================] - 3s 40ms/step - loss: 335.5302 - reconstruction_loss: 335.5294 - kl_loss: 7.9347e-04\n",
      "Epoch 5/50\n",
      "83/83 [==============================] - 3s 40ms/step - loss: 335.5134 - reconstruction_loss: 335.5129 - kl_loss: 5.3578e-04\n",
      "Epoch 6/50\n",
      "83/83 [==============================] - 3s 40ms/step - loss: 335.4750 - reconstruction_loss: 335.4746 - kl_loss: 3.5575e-04\n",
      "Epoch 7/50\n",
      "83/83 [==============================] - 3s 40ms/step - loss: 335.4263 - reconstruction_loss: 335.4261 - kl_loss: 2.3407e-04\n",
      "Epoch 8/50\n",
      "83/83 [==============================] - 3s 40ms/step - loss: 335.4398 - reconstruction_loss: 335.4396 - kl_loss: 1.5335e-04\n",
      "Epoch 9/50\n",
      "83/83 [==============================] - 3s 40ms/step - loss: 335.4095 - reconstruction_loss: 335.4094 - kl_loss: 1.0028e-04\n",
      "Epoch 10/50\n",
      "83/83 [==============================] - 3s 40ms/step - loss: 335.4346 - reconstruction_loss: 335.4345 - kl_loss: 6.5398e-05\n",
      "Epoch 11/50\n",
      "83/83 [==============================] - 3s 40ms/step - loss: 335.4187 - reconstruction_loss: 335.4187 - kl_loss: 4.2415e-05\n",
      "Epoch 12/50\n",
      "83/83 [==============================] - 3s 40ms/step - loss: 335.3703 - reconstruction_loss: 335.3703 - kl_loss: 2.7245e-05\n",
      "Epoch 13/50\n",
      "83/83 [==============================] - 3s 40ms/step - loss: 335.3870 - reconstruction_loss: 335.3870 - kl_loss: 1.7258e-05\n",
      "Epoch 14/50\n",
      "83/83 [==============================] - 3s 40ms/step - loss: 335.3851 - reconstruction_loss: 335.3851 - kl_loss: 1.0725e-05\n",
      "Epoch 15/50\n",
      "49/83 [================>.............] - ETA: 1s - loss: 335.4049 - reconstruction_loss: 335.4049 - kl_loss: 7.2123e-06"
     ]
    },
    {
     "ename": "KeyboardInterrupt",
     "evalue": "",
     "output_type": "error",
     "traceback": [
      "\u001b[0;31m---------------------------------------------------------------------------\u001b[0m",
      "\u001b[0;31mKeyboardInterrupt\u001b[0m                         Traceback (most recent call last)",
      "\u001b[0;32m<ipython-input-25-0eff27abd2d7>\u001b[0m in \u001b[0;36m<module>\u001b[0;34m\u001b[0m\n\u001b[1;32m      1\u001b[0m \u001b[0;31m# lr 0.01\u001b[0m\u001b[0;34m\u001b[0m\u001b[0;34m\u001b[0m\u001b[0;34m\u001b[0m\u001b[0m\n\u001b[0;32m----> 2\u001b[0;31m \u001b[0mhistory\u001b[0m \u001b[0;34m=\u001b[0m \u001b[0mvae\u001b[0m\u001b[0;34m.\u001b[0m\u001b[0mfit\u001b[0m\u001b[0;34m(\u001b[0m\u001b[0mtrain_reads\u001b[0m\u001b[0;34m,\u001b[0m \u001b[0mepochs\u001b[0m\u001b[0;34m=\u001b[0m\u001b[0mepochs\u001b[0m\u001b[0;34m,\u001b[0m \u001b[0mbatch_size\u001b[0m\u001b[0;34m=\u001b[0m\u001b[0mbatch_size\u001b[0m\u001b[0;34m,\u001b[0m \u001b[0mverbose\u001b[0m \u001b[0;34m=\u001b[0m\u001b[0;36m1\u001b[0m\u001b[0;34m)\u001b[0m\u001b[0;34m\u001b[0m\u001b[0;34m\u001b[0m\u001b[0m\n\u001b[0m",
      "\u001b[0;32m/opt/conda/envs/ecseg/lib/python3.7/site-packages/tensorflow/python/keras/engine/training.py\u001b[0m in \u001b[0;36m_method_wrapper\u001b[0;34m(self, *args, **kwargs)\u001b[0m\n\u001b[1;32m    106\u001b[0m   \u001b[0;32mdef\u001b[0m \u001b[0m_method_wrapper\u001b[0m\u001b[0;34m(\u001b[0m\u001b[0mself\u001b[0m\u001b[0;34m,\u001b[0m \u001b[0;34m*\u001b[0m\u001b[0margs\u001b[0m\u001b[0;34m,\u001b[0m \u001b[0;34m**\u001b[0m\u001b[0mkwargs\u001b[0m\u001b[0;34m)\u001b[0m\u001b[0;34m:\u001b[0m\u001b[0;34m\u001b[0m\u001b[0;34m\u001b[0m\u001b[0m\n\u001b[1;32m    107\u001b[0m     \u001b[0;32mif\u001b[0m \u001b[0;32mnot\u001b[0m \u001b[0mself\u001b[0m\u001b[0;34m.\u001b[0m\u001b[0m_in_multi_worker_mode\u001b[0m\u001b[0;34m(\u001b[0m\u001b[0;34m)\u001b[0m\u001b[0;34m:\u001b[0m  \u001b[0;31m# pylint: disable=protected-access\u001b[0m\u001b[0;34m\u001b[0m\u001b[0;34m\u001b[0m\u001b[0m\n\u001b[0;32m--> 108\u001b[0;31m       \u001b[0;32mreturn\u001b[0m \u001b[0mmethod\u001b[0m\u001b[0;34m(\u001b[0m\u001b[0mself\u001b[0m\u001b[0;34m,\u001b[0m \u001b[0;34m*\u001b[0m\u001b[0margs\u001b[0m\u001b[0;34m,\u001b[0m \u001b[0;34m**\u001b[0m\u001b[0mkwargs\u001b[0m\u001b[0;34m)\u001b[0m\u001b[0;34m\u001b[0m\u001b[0;34m\u001b[0m\u001b[0m\n\u001b[0m\u001b[1;32m    109\u001b[0m \u001b[0;34m\u001b[0m\u001b[0m\n\u001b[1;32m    110\u001b[0m     \u001b[0;31m# Running inside `run_distribute_coordinator` already.\u001b[0m\u001b[0;34m\u001b[0m\u001b[0;34m\u001b[0m\u001b[0;34m\u001b[0m\u001b[0m\n",
      "\u001b[0;32m/opt/conda/envs/ecseg/lib/python3.7/site-packages/tensorflow/python/keras/engine/training.py\u001b[0m in \u001b[0;36mfit\u001b[0;34m(self, x, y, batch_size, epochs, verbose, callbacks, validation_split, validation_data, shuffle, class_weight, sample_weight, initial_epoch, steps_per_epoch, validation_steps, validation_batch_size, validation_freq, max_queue_size, workers, use_multiprocessing)\u001b[0m\n\u001b[1;32m   1096\u001b[0m                 batch_size=batch_size):\n\u001b[1;32m   1097\u001b[0m               \u001b[0mcallbacks\u001b[0m\u001b[0;34m.\u001b[0m\u001b[0mon_train_batch_begin\u001b[0m\u001b[0;34m(\u001b[0m\u001b[0mstep\u001b[0m\u001b[0;34m)\u001b[0m\u001b[0;34m\u001b[0m\u001b[0;34m\u001b[0m\u001b[0m\n\u001b[0;32m-> 1098\u001b[0;31m               \u001b[0mtmp_logs\u001b[0m \u001b[0;34m=\u001b[0m \u001b[0mtrain_function\u001b[0m\u001b[0;34m(\u001b[0m\u001b[0miterator\u001b[0m\u001b[0;34m)\u001b[0m\u001b[0;34m\u001b[0m\u001b[0;34m\u001b[0m\u001b[0m\n\u001b[0m\u001b[1;32m   1099\u001b[0m               \u001b[0;32mif\u001b[0m \u001b[0mdata_handler\u001b[0m\u001b[0;34m.\u001b[0m\u001b[0mshould_sync\u001b[0m\u001b[0;34m:\u001b[0m\u001b[0;34m\u001b[0m\u001b[0;34m\u001b[0m\u001b[0m\n\u001b[1;32m   1100\u001b[0m                 \u001b[0mcontext\u001b[0m\u001b[0;34m.\u001b[0m\u001b[0masync_wait\u001b[0m\u001b[0;34m(\u001b[0m\u001b[0;34m)\u001b[0m\u001b[0;34m\u001b[0m\u001b[0;34m\u001b[0m\u001b[0m\n",
      "\u001b[0;32m/opt/conda/envs/ecseg/lib/python3.7/site-packages/tensorflow/python/eager/def_function.py\u001b[0m in \u001b[0;36m__call__\u001b[0;34m(self, *args, **kwds)\u001b[0m\n\u001b[1;32m    778\u001b[0m       \u001b[0;32melse\u001b[0m\u001b[0;34m:\u001b[0m\u001b[0;34m\u001b[0m\u001b[0;34m\u001b[0m\u001b[0m\n\u001b[1;32m    779\u001b[0m         \u001b[0mcompiler\u001b[0m \u001b[0;34m=\u001b[0m \u001b[0;34m\"nonXla\"\u001b[0m\u001b[0;34m\u001b[0m\u001b[0;34m\u001b[0m\u001b[0m\n\u001b[0;32m--> 780\u001b[0;31m         \u001b[0mresult\u001b[0m \u001b[0;34m=\u001b[0m \u001b[0mself\u001b[0m\u001b[0;34m.\u001b[0m\u001b[0m_call\u001b[0m\u001b[0;34m(\u001b[0m\u001b[0;34m*\u001b[0m\u001b[0margs\u001b[0m\u001b[0;34m,\u001b[0m \u001b[0;34m**\u001b[0m\u001b[0mkwds\u001b[0m\u001b[0;34m)\u001b[0m\u001b[0;34m\u001b[0m\u001b[0;34m\u001b[0m\u001b[0m\n\u001b[0m\u001b[1;32m    781\u001b[0m \u001b[0;34m\u001b[0m\u001b[0m\n\u001b[1;32m    782\u001b[0m       \u001b[0mnew_tracing_count\u001b[0m \u001b[0;34m=\u001b[0m \u001b[0mself\u001b[0m\u001b[0;34m.\u001b[0m\u001b[0m_get_tracing_count\u001b[0m\u001b[0;34m(\u001b[0m\u001b[0;34m)\u001b[0m\u001b[0;34m\u001b[0m\u001b[0;34m\u001b[0m\u001b[0m\n",
      "\u001b[0;32m/opt/conda/envs/ecseg/lib/python3.7/site-packages/tensorflow/python/eager/def_function.py\u001b[0m in \u001b[0;36m_call\u001b[0;34m(self, *args, **kwds)\u001b[0m\n\u001b[1;32m    805\u001b[0m       \u001b[0;31m# In this case we have created variables on the first call, so we run the\u001b[0m\u001b[0;34m\u001b[0m\u001b[0;34m\u001b[0m\u001b[0;34m\u001b[0m\u001b[0m\n\u001b[1;32m    806\u001b[0m       \u001b[0;31m# defunned version which is guaranteed to never create variables.\u001b[0m\u001b[0;34m\u001b[0m\u001b[0;34m\u001b[0m\u001b[0;34m\u001b[0m\u001b[0m\n\u001b[0;32m--> 807\u001b[0;31m       \u001b[0;32mreturn\u001b[0m \u001b[0mself\u001b[0m\u001b[0;34m.\u001b[0m\u001b[0m_stateless_fn\u001b[0m\u001b[0;34m(\u001b[0m\u001b[0;34m*\u001b[0m\u001b[0margs\u001b[0m\u001b[0;34m,\u001b[0m \u001b[0;34m**\u001b[0m\u001b[0mkwds\u001b[0m\u001b[0;34m)\u001b[0m  \u001b[0;31m# pylint: disable=not-callable\u001b[0m\u001b[0;34m\u001b[0m\u001b[0;34m\u001b[0m\u001b[0m\n\u001b[0m\u001b[1;32m    808\u001b[0m     \u001b[0;32melif\u001b[0m \u001b[0mself\u001b[0m\u001b[0;34m.\u001b[0m\u001b[0m_stateful_fn\u001b[0m \u001b[0;32mis\u001b[0m \u001b[0;32mnot\u001b[0m \u001b[0;32mNone\u001b[0m\u001b[0;34m:\u001b[0m\u001b[0;34m\u001b[0m\u001b[0;34m\u001b[0m\u001b[0m\n\u001b[1;32m    809\u001b[0m       \u001b[0;31m# Release the lock early so that multiple threads can perform the call\u001b[0m\u001b[0;34m\u001b[0m\u001b[0;34m\u001b[0m\u001b[0;34m\u001b[0m\u001b[0m\n",
      "\u001b[0;32m/opt/conda/envs/ecseg/lib/python3.7/site-packages/tensorflow/python/eager/function.py\u001b[0m in \u001b[0;36m__call__\u001b[0;34m(self, *args, **kwargs)\u001b[0m\n\u001b[1;32m   2827\u001b[0m     \u001b[0;32mwith\u001b[0m \u001b[0mself\u001b[0m\u001b[0;34m.\u001b[0m\u001b[0m_lock\u001b[0m\u001b[0;34m:\u001b[0m\u001b[0;34m\u001b[0m\u001b[0;34m\u001b[0m\u001b[0m\n\u001b[1;32m   2828\u001b[0m       \u001b[0mgraph_function\u001b[0m\u001b[0;34m,\u001b[0m \u001b[0margs\u001b[0m\u001b[0;34m,\u001b[0m \u001b[0mkwargs\u001b[0m \u001b[0;34m=\u001b[0m \u001b[0mself\u001b[0m\u001b[0;34m.\u001b[0m\u001b[0m_maybe_define_function\u001b[0m\u001b[0;34m(\u001b[0m\u001b[0margs\u001b[0m\u001b[0;34m,\u001b[0m \u001b[0mkwargs\u001b[0m\u001b[0;34m)\u001b[0m\u001b[0;34m\u001b[0m\u001b[0;34m\u001b[0m\u001b[0m\n\u001b[0;32m-> 2829\u001b[0;31m     \u001b[0;32mreturn\u001b[0m \u001b[0mgraph_function\u001b[0m\u001b[0;34m.\u001b[0m\u001b[0m_filtered_call\u001b[0m\u001b[0;34m(\u001b[0m\u001b[0margs\u001b[0m\u001b[0;34m,\u001b[0m \u001b[0mkwargs\u001b[0m\u001b[0;34m)\u001b[0m  \u001b[0;31m# pylint: disable=protected-access\u001b[0m\u001b[0;34m\u001b[0m\u001b[0;34m\u001b[0m\u001b[0m\n\u001b[0m\u001b[1;32m   2830\u001b[0m \u001b[0;34m\u001b[0m\u001b[0m\n\u001b[1;32m   2831\u001b[0m   \u001b[0;34m@\u001b[0m\u001b[0mproperty\u001b[0m\u001b[0;34m\u001b[0m\u001b[0;34m\u001b[0m\u001b[0m\n",
      "\u001b[0;32m/opt/conda/envs/ecseg/lib/python3.7/site-packages/tensorflow/python/eager/function.py\u001b[0m in \u001b[0;36m_filtered_call\u001b[0;34m(self, args, kwargs, cancellation_manager)\u001b[0m\n\u001b[1;32m   1846\u001b[0m                            resource_variable_ops.BaseResourceVariable))],\n\u001b[1;32m   1847\u001b[0m         \u001b[0mcaptured_inputs\u001b[0m\u001b[0;34m=\u001b[0m\u001b[0mself\u001b[0m\u001b[0;34m.\u001b[0m\u001b[0mcaptured_inputs\u001b[0m\u001b[0;34m,\u001b[0m\u001b[0;34m\u001b[0m\u001b[0;34m\u001b[0m\u001b[0m\n\u001b[0;32m-> 1848\u001b[0;31m         cancellation_manager=cancellation_manager)\n\u001b[0m\u001b[1;32m   1849\u001b[0m \u001b[0;34m\u001b[0m\u001b[0m\n\u001b[1;32m   1850\u001b[0m   \u001b[0;32mdef\u001b[0m \u001b[0m_call_flat\u001b[0m\u001b[0;34m(\u001b[0m\u001b[0mself\u001b[0m\u001b[0;34m,\u001b[0m \u001b[0margs\u001b[0m\u001b[0;34m,\u001b[0m \u001b[0mcaptured_inputs\u001b[0m\u001b[0;34m,\u001b[0m \u001b[0mcancellation_manager\u001b[0m\u001b[0;34m=\u001b[0m\u001b[0;32mNone\u001b[0m\u001b[0;34m)\u001b[0m\u001b[0;34m:\u001b[0m\u001b[0;34m\u001b[0m\u001b[0;34m\u001b[0m\u001b[0m\n",
      "\u001b[0;32m/opt/conda/envs/ecseg/lib/python3.7/site-packages/tensorflow/python/eager/function.py\u001b[0m in \u001b[0;36m_call_flat\u001b[0;34m(self, args, captured_inputs, cancellation_manager)\u001b[0m\n\u001b[1;32m   1922\u001b[0m       \u001b[0;31m# No tape is watching; skip to running the function.\u001b[0m\u001b[0;34m\u001b[0m\u001b[0;34m\u001b[0m\u001b[0;34m\u001b[0m\u001b[0m\n\u001b[1;32m   1923\u001b[0m       return self._build_call_outputs(self._inference_function.call(\n\u001b[0;32m-> 1924\u001b[0;31m           ctx, args, cancellation_manager=cancellation_manager))\n\u001b[0m\u001b[1;32m   1925\u001b[0m     forward_backward = self._select_forward_and_backward_functions(\n\u001b[1;32m   1926\u001b[0m         \u001b[0margs\u001b[0m\u001b[0;34m,\u001b[0m\u001b[0;34m\u001b[0m\u001b[0;34m\u001b[0m\u001b[0m\n",
      "\u001b[0;32m/opt/conda/envs/ecseg/lib/python3.7/site-packages/tensorflow/python/eager/function.py\u001b[0m in \u001b[0;36mcall\u001b[0;34m(self, ctx, args, cancellation_manager)\u001b[0m\n\u001b[1;32m    548\u001b[0m               \u001b[0minputs\u001b[0m\u001b[0;34m=\u001b[0m\u001b[0margs\u001b[0m\u001b[0;34m,\u001b[0m\u001b[0;34m\u001b[0m\u001b[0;34m\u001b[0m\u001b[0m\n\u001b[1;32m    549\u001b[0m               \u001b[0mattrs\u001b[0m\u001b[0;34m=\u001b[0m\u001b[0mattrs\u001b[0m\u001b[0;34m,\u001b[0m\u001b[0;34m\u001b[0m\u001b[0;34m\u001b[0m\u001b[0m\n\u001b[0;32m--> 550\u001b[0;31m               ctx=ctx)\n\u001b[0m\u001b[1;32m    551\u001b[0m         \u001b[0;32melse\u001b[0m\u001b[0;34m:\u001b[0m\u001b[0;34m\u001b[0m\u001b[0;34m\u001b[0m\u001b[0m\n\u001b[1;32m    552\u001b[0m           outputs = execute.execute_with_cancellation(\n",
      "\u001b[0;32m/opt/conda/envs/ecseg/lib/python3.7/site-packages/tensorflow/python/eager/execute.py\u001b[0m in \u001b[0;36mquick_execute\u001b[0;34m(op_name, num_outputs, inputs, attrs, ctx, name)\u001b[0m\n\u001b[1;32m     58\u001b[0m     \u001b[0mctx\u001b[0m\u001b[0;34m.\u001b[0m\u001b[0mensure_initialized\u001b[0m\u001b[0;34m(\u001b[0m\u001b[0;34m)\u001b[0m\u001b[0;34m\u001b[0m\u001b[0;34m\u001b[0m\u001b[0m\n\u001b[1;32m     59\u001b[0m     tensors = pywrap_tfe.TFE_Py_Execute(ctx._handle, device_name, op_name,\n\u001b[0;32m---> 60\u001b[0;31m                                         inputs, attrs, num_outputs)\n\u001b[0m\u001b[1;32m     61\u001b[0m   \u001b[0;32mexcept\u001b[0m \u001b[0mcore\u001b[0m\u001b[0;34m.\u001b[0m\u001b[0m_NotOkStatusException\u001b[0m \u001b[0;32mas\u001b[0m \u001b[0me\u001b[0m\u001b[0;34m:\u001b[0m\u001b[0;34m\u001b[0m\u001b[0;34m\u001b[0m\u001b[0m\n\u001b[1;32m     62\u001b[0m     \u001b[0;32mif\u001b[0m \u001b[0mname\u001b[0m \u001b[0;32mis\u001b[0m \u001b[0;32mnot\u001b[0m \u001b[0;32mNone\u001b[0m\u001b[0;34m:\u001b[0m\u001b[0;34m\u001b[0m\u001b[0;34m\u001b[0m\u001b[0m\n",
      "\u001b[0;31mKeyboardInterrupt\u001b[0m: "
     ]
    }
   ],
   "source": [
    "# lr 0.01\n",
    "history = vae.fit(train_reads, epochs=epochs, batch_size=batch_size, verbose =1)"
   ]
  },
  {
   "cell_type": "code",
   "execution_count": 16,
   "metadata": {
    "scrolled": true
   },
   "outputs": [
    {
     "name": "stdout",
     "output_type": "stream",
     "text": [
      "83/83 [==============================] - 2s 20ms/step - loss: 338.3851 - reconstruction_loss: 338.3850 - kl_loss: 1.0581e-04\n"
     ]
    }
   ],
   "source": [
    "history = vae.fit(train_reads, epochs=epochs, batch_size=batch_size, verbose =1)"
   ]
  },
  {
   "cell_type": "code",
   "execution_count": 24,
   "metadata": {},
   "outputs": [
    {
     "data": {
      "text/plain": [
       "(150, 5, 1)"
      ]
     },
     "execution_count": 24,
     "metadata": {},
     "output_type": "execute_result"
    }
   ],
   "source": [
    "train_reads[0].shape"
   ]
  },
  {
   "cell_type": "code",
   "execution_count": 26,
   "metadata": {},
   "outputs": [
    {
     "data": {
      "image/png": "[encoded data removed]",
      "text/plain": [
       "<Figure size 432x288 with 1 Axes>"
      ]
     },
     "metadata": {
      "needs_background": "light"
     },
     "output_type": "display_data"
    },
    {
     "data": {
      "image/png": "[encoded data removed]",
      "text/plain": [
       "<Figure size 432x288 with 1 Axes>"
      ]
     },
     "metadata": {
      "needs_background": "light"
     },
     "output_type": "display_data"
    },
    {
     "data": {
      "image/png": "[encoded data removed]",
      "text/plain": [
       "<Figure size 432x288 with 1 Axes>"
      ]
     },
     "metadata": {
      "needs_background": "light"
     },
     "output_type": "display_data"
    }
   ],
   "source": [
    "plt.plot(history.history['loss'])\n",
    "plt.title('total loss')\n",
    "plt.ylabel('accuracy')\n",
    "plt.xlabel('epoch')\n",
    "plt.show()\n",
    "# summarize history for loss\n",
    "plt.plot(history.history['reconstruction_loss'])\n",
    "plt.title('reconstruction loss')\n",
    "plt.ylabel('loss')\n",
    "plt.xlabel('epoch')\n",
    "plt.show()\n",
    "\n",
    "plt.plot(history.history['kl_loss'])\n",
    "plt.title('kl loss')\n",
    "plt.ylabel('loss')\n",
    "plt.xlabel('epoch')\n",
    "plt.show()"
   ]
  },
  {
   "cell_type": "code",
   "execution_count": 27,
   "metadata": {},
   "outputs": [],
   "source": [
    "encoder.save('models/ckpt1/encoder.h5')"
   ]
  },
  {
   "cell_type": "code",
   "execution_count": 14,
   "metadata": {},
   "outputs": [],
   "source": [
    "# test_sets = ['test_easy_1.fa', 'test_easy_2.fa', 'test_intermidate_1.fa', 'test_intermidate_2.fa', 'test_difficult_1.fa', \n",
    "#              'test_difficult_2.fa', 'test_very_difficult_1.fa', 'test_very_difficult_2.fa']\n",
    "# easy_1 = assign_labels(read_fasta(test_root + test_sets[0]))\n",
    "# easy_2 = assign_labels(read_fasta(test_root + test_sets[1]))"
   ]
  },
  {
   "cell_type": "code",
   "execution_count": 80,
   "metadata": {},
   "outputs": [],
   "source": [
    "# easy_1_predictions = encoder.predict(train_reads)"
   ]
  },
  {
   "cell_type": "code",
   "execution_count": 67,
   "metadata": {},
   "outputs": [],
   "source": [
    "# a = np.expand_dims(np.array(seqs2onehot([easy_1.loc[105487]['seqs']])), -1)\n",
    "# b = encoder.predict(a)\n",
    "# c = decoder.predict(b[-1]); c = np.squeeze(c)\n",
    "# difflib.SequenceMatcher(None, np.argmax((c>0.01), axis=1), np.argmax(np.squeeze(a), axis=1)).ratio()"
   ]
  },
  {
   "cell_type": "code",
   "execution_count": 87,
   "metadata": {},
   "outputs": [
    {
     "data": {
      "text/plain": [
       "(3, 1, 16)"
      ]
     },
     "execution_count": 87,
     "metadata": {},
     "output_type": "execute_result"
    }
   ],
   "source": [
    "# np.array(b).shape"
   ]
  },
  {
   "cell_type": "code",
   "execution_count": null,
   "metadata": {},
   "outputs": [],
   "source": []
  }
 ],
 "metadata": {
  "kernelspec": {
   "display_name": "Python 3",
   "language": "python",
   "name": "python3"
  },
  "language_info": {
   "codemirror_mode": {
    "name": "ipython",
    "version": 3
   },
   "file_extension": ".py",
   "mimetype": "text/x-python",
   "name": "python",
   "nbconvert_exporter": "python",
   "pygments_lexer": "ipython3",
   "version": "3.7.7"
  }
 },
 "nbformat": 4,
 "nbformat_minor": 4
}
